{
 "cells": [
  {
   "cell_type": "code",
   "execution_count": 2,
   "metadata": {
    "id": "c_eVXa9OPtvB"
   },
   "outputs": [],
   "source": [
    "import pandas as pd # A general purpose Python library for data analysis\n",
    "import numpy as np # A library for scientific computing in Python (e.g., provides high-performance multi-dimensional array objects and operations)\n",
    "\n",
    "import matplotlib.pyplot as plt # a plotting library for Python and NumPy (readily customizable)\n",
    "import seaborn as sns # Another plotting library for Python (fewer syntax, excellent default themes, behind the scenes, it uses matplotlib)\n",
    "import time"
   ]
  },
  {
   "cell_type": "markdown",
   "metadata": {
    "id": "PSdsojacPtvD"
   },
   "source": [
    "## Knowledge Stream Summer 2023\n",
    "\n",
    "In this notebook, we will learn about the key data structures provided by the Pandas library: **Data Frames, Series, and Indices**.\n",
    "\n",
    "In addition, we will learn about the following operations:\n",
    "* How to access data contained in these structures?\n",
    "* How to read files (e.g., csv, xlsx, sql) to create these structures?\n",
    "* How to carry out different data manipulation tasks using these structures?\n",
    "\n",
    "`Dataset`: US elections with information about candidates, their party, votes won, year of election and the result."
   ]
  },
  {
   "cell_type": "markdown",
   "metadata": {
    "id": "sufDZrcePtvF"
   },
   "source": [
    "## Reading in Data Frames from Files"
   ]
  },
  {
   "cell_type": "markdown",
   "metadata": {
    "id": "SKvAs5UMPtvG"
   },
   "source": [
    "Pandas has a number of useful file reading tools. You can see them enumerated by typing **\"pd.re\"** and pressing `tab`. We'll be using **read_csv** today. Note that these file reading functions do all the *data parsing* for you, which is very useful."
   ]
  },
  {
   "cell_type": "markdown",
   "metadata": {
    "id": "wAchNI6BPtvG"
   },
   "source": [
    "Before loading a file into a dataframe, let's first take a look at the **elections.csv** file"
   ]
  },
  {
   "cell_type": "code",
   "execution_count": 3,
   "metadata": {
    "id": "vQruwj5rPtvG",
    "scrolled": true
   },
   "outputs": [
    {
     "data": {
      "text/html": [
       "<div>\n",
       "<style scoped>\n",
       "    .dataframe tbody tr th:only-of-type {\n",
       "        vertical-align: middle;\n",
       "    }\n",
       "\n",
       "    .dataframe tbody tr th {\n",
       "        vertical-align: top;\n",
       "    }\n",
       "\n",
       "    .dataframe thead th {\n",
       "        text-align: right;\n",
       "    }\n",
       "</style>\n",
       "<table border=\"1\" class=\"dataframe\">\n",
       "  <thead>\n",
       "    <tr style=\"text-align: right;\">\n",
       "      <th></th>\n",
       "      <th>Year</th>\n",
       "      <th>Candidate</th>\n",
       "      <th>Party</th>\n",
       "      <th>Popular vote</th>\n",
       "      <th>Result</th>\n",
       "      <th>%</th>\n",
       "    </tr>\n",
       "  </thead>\n",
       "  <tbody>\n",
       "    <tr>\n",
       "      <th>0</th>\n",
       "      <td>1824</td>\n",
       "      <td>Andrew Jackson</td>\n",
       "      <td>Democratic-Republican</td>\n",
       "      <td>151271</td>\n",
       "      <td>loss</td>\n",
       "      <td>57.210122</td>\n",
       "    </tr>\n",
       "    <tr>\n",
       "      <th>1</th>\n",
       "      <td>1824</td>\n",
       "      <td>John Quincy Adams</td>\n",
       "      <td>Democratic-Republican</td>\n",
       "      <td>113142</td>\n",
       "      <td>win</td>\n",
       "      <td>42.789878</td>\n",
       "    </tr>\n",
       "    <tr>\n",
       "      <th>2</th>\n",
       "      <td>1828</td>\n",
       "      <td>Andrew Jackson</td>\n",
       "      <td>Democratic</td>\n",
       "      <td>642806</td>\n",
       "      <td>win</td>\n",
       "      <td>56.203927</td>\n",
       "    </tr>\n",
       "    <tr>\n",
       "      <th>3</th>\n",
       "      <td>1828</td>\n",
       "      <td>John Quincy Adams</td>\n",
       "      <td>National Republican</td>\n",
       "      <td>500897</td>\n",
       "      <td>loss</td>\n",
       "      <td>43.796073</td>\n",
       "    </tr>\n",
       "    <tr>\n",
       "      <th>4</th>\n",
       "      <td>1832</td>\n",
       "      <td>Andrew Jackson</td>\n",
       "      <td>Democratic</td>\n",
       "      <td>702735</td>\n",
       "      <td>win</td>\n",
       "      <td>54.574789</td>\n",
       "    </tr>\n",
       "    <tr>\n",
       "      <th>...</th>\n",
       "      <td>...</td>\n",
       "      <td>...</td>\n",
       "      <td>...</td>\n",
       "      <td>...</td>\n",
       "      <td>...</td>\n",
       "      <td>...</td>\n",
       "    </tr>\n",
       "    <tr>\n",
       "      <th>177</th>\n",
       "      <td>2016</td>\n",
       "      <td>Jill Stein</td>\n",
       "      <td>Green</td>\n",
       "      <td>1457226</td>\n",
       "      <td>loss</td>\n",
       "      <td>1.073699</td>\n",
       "    </tr>\n",
       "    <tr>\n",
       "      <th>178</th>\n",
       "      <td>2020</td>\n",
       "      <td>Joseph Biden</td>\n",
       "      <td>Democratic</td>\n",
       "      <td>81268924</td>\n",
       "      <td>win</td>\n",
       "      <td>51.311515</td>\n",
       "    </tr>\n",
       "    <tr>\n",
       "      <th>179</th>\n",
       "      <td>2020</td>\n",
       "      <td>Donald Trump</td>\n",
       "      <td>Republican</td>\n",
       "      <td>74216154</td>\n",
       "      <td>loss</td>\n",
       "      <td>46.858542</td>\n",
       "    </tr>\n",
       "    <tr>\n",
       "      <th>180</th>\n",
       "      <td>2020</td>\n",
       "      <td>Jo Jorgensen</td>\n",
       "      <td>Libertarian</td>\n",
       "      <td>1865724</td>\n",
       "      <td>loss</td>\n",
       "      <td>1.177979</td>\n",
       "    </tr>\n",
       "    <tr>\n",
       "      <th>181</th>\n",
       "      <td>2020</td>\n",
       "      <td>Howard Hawkins</td>\n",
       "      <td>Green</td>\n",
       "      <td>405035</td>\n",
       "      <td>loss</td>\n",
       "      <td>0.255731</td>\n",
       "    </tr>\n",
       "  </tbody>\n",
       "</table>\n",
       "<p>182 rows × 6 columns</p>\n",
       "</div>"
      ],
      "text/plain": [
       "     Year          Candidate                  Party  Popular vote Result  \\\n",
       "0    1824     Andrew Jackson  Democratic-Republican        151271   loss   \n",
       "1    1824  John Quincy Adams  Democratic-Republican        113142    win   \n",
       "2    1828     Andrew Jackson             Democratic        642806    win   \n",
       "3    1828  John Quincy Adams    National Republican        500897   loss   \n",
       "4    1832     Andrew Jackson             Democratic        702735    win   \n",
       "..    ...                ...                    ...           ...    ...   \n",
       "177  2016         Jill Stein                  Green       1457226   loss   \n",
       "178  2020       Joseph Biden             Democratic      81268924    win   \n",
       "179  2020       Donald Trump             Republican      74216154   loss   \n",
       "180  2020       Jo Jorgensen            Libertarian       1865724   loss   \n",
       "181  2020     Howard Hawkins                  Green        405035   loss   \n",
       "\n",
       "             %  \n",
       "0    57.210122  \n",
       "1    42.789878  \n",
       "2    56.203927  \n",
       "3    43.796073  \n",
       "4    54.574789  \n",
       "..         ...  \n",
       "177   1.073699  \n",
       "178  51.311515  \n",
       "179  46.858542  \n",
       "180   1.177979  \n",
       "181   0.255731  \n",
       "\n",
       "[182 rows x 6 columns]"
      ]
     },
     "execution_count": 3,
     "metadata": {},
     "output_type": "execute_result"
    }
   ],
   "source": [
    "#Answer Here\n",
    "a=pd.read_csv('sets/elections.csv')\n",
    "a"
   ]
  },
  {
   "cell_type": "markdown",
   "metadata": {
    "id": "DFG0R-hvPtvH"
   },
   "source": [
    "We can use the **head command** to show only a few rows of a dataframe."
   ]
  },
  {
   "cell_type": "markdown",
   "metadata": {
    "id": "bHoeuiciPtvH"
   },
   "source": [
    "# heading\n",
    "## heading2"
   ]
  },
  {
   "cell_type": "code",
   "execution_count": 4,
   "metadata": {
    "id": "ft8isrsOPtvI"
   },
   "outputs": [
    {
     "data": {
      "text/html": [
       "<div>\n",
       "<style scoped>\n",
       "    .dataframe tbody tr th:only-of-type {\n",
       "        vertical-align: middle;\n",
       "    }\n",
       "\n",
       "    .dataframe tbody tr th {\n",
       "        vertical-align: top;\n",
       "    }\n",
       "\n",
       "    .dataframe thead th {\n",
       "        text-align: right;\n",
       "    }\n",
       "</style>\n",
       "<table border=\"1\" class=\"dataframe\">\n",
       "  <thead>\n",
       "    <tr style=\"text-align: right;\">\n",
       "      <th></th>\n",
       "      <th>Year</th>\n",
       "      <th>Candidate</th>\n",
       "      <th>Party</th>\n",
       "      <th>Popular vote</th>\n",
       "      <th>Result</th>\n",
       "      <th>%</th>\n",
       "    </tr>\n",
       "  </thead>\n",
       "  <tbody>\n",
       "    <tr>\n",
       "      <th>0</th>\n",
       "      <td>1824</td>\n",
       "      <td>Andrew Jackson</td>\n",
       "      <td>Democratic-Republican</td>\n",
       "      <td>151271</td>\n",
       "      <td>loss</td>\n",
       "      <td>57.210122</td>\n",
       "    </tr>\n",
       "    <tr>\n",
       "      <th>1</th>\n",
       "      <td>1824</td>\n",
       "      <td>John Quincy Adams</td>\n",
       "      <td>Democratic-Republican</td>\n",
       "      <td>113142</td>\n",
       "      <td>win</td>\n",
       "      <td>42.789878</td>\n",
       "    </tr>\n",
       "  </tbody>\n",
       "</table>\n",
       "</div>"
      ],
      "text/plain": [
       "   Year          Candidate                  Party  Popular vote Result  \\\n",
       "0  1824     Andrew Jackson  Democratic-Republican        151271   loss   \n",
       "1  1824  John Quincy Adams  Democratic-Republican        113142    win   \n",
       "\n",
       "           %  \n",
       "0  57.210122  \n",
       "1  42.789878  "
      ]
     },
     "execution_count": 4,
     "metadata": {},
     "output_type": "execute_result"
    }
   ],
   "source": [
    "# Answer Here\n",
    "a.head(2)"
   ]
  },
  {
   "cell_type": "markdown",
   "metadata": {
    "id": "k2hQ-7gCPtvI"
   },
   "source": [
    "There is also a **tail command**."
   ]
  },
  {
   "cell_type": "code",
   "execution_count": 191,
   "metadata": {
    "id": "Hd90_fIZPtvI"
   },
   "outputs": [
    {
     "data": {
      "text/html": [
       "<div>\n",
       "<style scoped>\n",
       "    .dataframe tbody tr th:only-of-type {\n",
       "        vertical-align: middle;\n",
       "    }\n",
       "\n",
       "    .dataframe tbody tr th {\n",
       "        vertical-align: top;\n",
       "    }\n",
       "\n",
       "    .dataframe thead th {\n",
       "        text-align: right;\n",
       "    }\n",
       "</style>\n",
       "<table border=\"1\" class=\"dataframe\">\n",
       "  <thead>\n",
       "    <tr style=\"text-align: right;\">\n",
       "      <th></th>\n",
       "      <th>Year</th>\n",
       "      <th>Candidate</th>\n",
       "      <th>Party</th>\n",
       "      <th>Popular vote</th>\n",
       "      <th>Result</th>\n",
       "      <th>%</th>\n",
       "    </tr>\n",
       "  </thead>\n",
       "  <tbody>\n",
       "    <tr>\n",
       "      <th>177</th>\n",
       "      <td>2016</td>\n",
       "      <td>Jill Stein</td>\n",
       "      <td>Green</td>\n",
       "      <td>1457226</td>\n",
       "      <td>loss</td>\n",
       "      <td>1.073699</td>\n",
       "    </tr>\n",
       "    <tr>\n",
       "      <th>178</th>\n",
       "      <td>2020</td>\n",
       "      <td>Joseph Biden</td>\n",
       "      <td>Democratic</td>\n",
       "      <td>81268924</td>\n",
       "      <td>win</td>\n",
       "      <td>51.311515</td>\n",
       "    </tr>\n",
       "    <tr>\n",
       "      <th>179</th>\n",
       "      <td>2020</td>\n",
       "      <td>Donald Trump</td>\n",
       "      <td>Republican</td>\n",
       "      <td>74216154</td>\n",
       "      <td>loss</td>\n",
       "      <td>46.858542</td>\n",
       "    </tr>\n",
       "    <tr>\n",
       "      <th>180</th>\n",
       "      <td>2020</td>\n",
       "      <td>Jo Jorgensen</td>\n",
       "      <td>Libertarian</td>\n",
       "      <td>1865724</td>\n",
       "      <td>loss</td>\n",
       "      <td>1.177979</td>\n",
       "    </tr>\n",
       "    <tr>\n",
       "      <th>181</th>\n",
       "      <td>2020</td>\n",
       "      <td>Howard Hawkins</td>\n",
       "      <td>Green</td>\n",
       "      <td>405035</td>\n",
       "      <td>loss</td>\n",
       "      <td>0.255731</td>\n",
       "    </tr>\n",
       "  </tbody>\n",
       "</table>\n",
       "</div>"
      ],
      "text/plain": [
       "     Year       Candidate        Party  Popular vote Result          %\n",
       "177  2016      Jill Stein        Green       1457226   loss   1.073699\n",
       "178  2020    Joseph Biden   Democratic      81268924    win  51.311515\n",
       "179  2020    Donald Trump   Republican      74216154   loss  46.858542\n",
       "180  2020    Jo Jorgensen  Libertarian       1865724   loss   1.177979\n",
       "181  2020  Howard Hawkins        Green        405035   loss   0.255731"
      ]
     },
     "execution_count": 191,
     "metadata": {},
     "output_type": "execute_result"
    }
   ],
   "source": [
    "#Answer Here\n",
    "a.tail(5)"
   ]
  },
  {
   "cell_type": "markdown",
   "metadata": {
    "id": "rts8fQn7PtvI"
   },
   "source": [
    "The `read_csv` command lets us specify a **column to use an index**. For example, we could have used __Year__ as the index."
   ]
  },
  {
   "cell_type": "code",
   "execution_count": 192,
   "metadata": {
    "id": "r3-biPiJPtvI"
   },
   "outputs": [
    {
     "data": {
      "text/plain": [
       "0      1824\n",
       "1      1824\n",
       "2      1828\n",
       "3      1828\n",
       "4      1832\n",
       "       ... \n",
       "177    2016\n",
       "178    2020\n",
       "179    2020\n",
       "180    2020\n",
       "181    2020\n",
       "Name: Year, Length: 182, dtype: int64"
      ]
     },
     "execution_count": 192,
     "metadata": {},
     "output_type": "execute_result"
    }
   ],
   "source": [
    "#Answer Here\n",
    "a['Year']"
   ]
  },
  {
   "cell_type": "markdown",
   "metadata": {
    "id": "zWtY3hv5R9B5"
   },
   "source": [
    "Alternately, we could have used the **set_index** commmand on the dataframe."
   ]
  },
  {
   "cell_type": "code",
   "execution_count": 193,
   "metadata": {
    "id": "-u_BJi6ZPtvJ"
   },
   "outputs": [
    {
     "data": {
      "text/html": [
       "<div>\n",
       "<style scoped>\n",
       "    .dataframe tbody tr th:only-of-type {\n",
       "        vertical-align: middle;\n",
       "    }\n",
       "\n",
       "    .dataframe tbody tr th {\n",
       "        vertical-align: top;\n",
       "    }\n",
       "\n",
       "    .dataframe thead th {\n",
       "        text-align: right;\n",
       "    }\n",
       "</style>\n",
       "<table border=\"1\" class=\"dataframe\">\n",
       "  <thead>\n",
       "    <tr style=\"text-align: right;\">\n",
       "      <th></th>\n",
       "      <th>Year</th>\n",
       "      <th>Candidate</th>\n",
       "      <th>Party</th>\n",
       "      <th>Popular vote</th>\n",
       "      <th>Result</th>\n",
       "    </tr>\n",
       "    <tr>\n",
       "      <th>%</th>\n",
       "      <th></th>\n",
       "      <th></th>\n",
       "      <th></th>\n",
       "      <th></th>\n",
       "      <th></th>\n",
       "    </tr>\n",
       "  </thead>\n",
       "  <tbody>\n",
       "    <tr>\n",
       "      <th>57.210122</th>\n",
       "      <td>1824</td>\n",
       "      <td>Andrew Jackson</td>\n",
       "      <td>Democratic-Republican</td>\n",
       "      <td>151271</td>\n",
       "      <td>loss</td>\n",
       "    </tr>\n",
       "    <tr>\n",
       "      <th>42.789878</th>\n",
       "      <td>1824</td>\n",
       "      <td>John Quincy Adams</td>\n",
       "      <td>Democratic-Republican</td>\n",
       "      <td>113142</td>\n",
       "      <td>win</td>\n",
       "    </tr>\n",
       "    <tr>\n",
       "      <th>56.203927</th>\n",
       "      <td>1828</td>\n",
       "      <td>Andrew Jackson</td>\n",
       "      <td>Democratic</td>\n",
       "      <td>642806</td>\n",
       "      <td>win</td>\n",
       "    </tr>\n",
       "    <tr>\n",
       "      <th>43.796073</th>\n",
       "      <td>1828</td>\n",
       "      <td>John Quincy Adams</td>\n",
       "      <td>National Republican</td>\n",
       "      <td>500897</td>\n",
       "      <td>loss</td>\n",
       "    </tr>\n",
       "    <tr>\n",
       "      <th>54.574789</th>\n",
       "      <td>1832</td>\n",
       "      <td>Andrew Jackson</td>\n",
       "      <td>Democratic</td>\n",
       "      <td>702735</td>\n",
       "      <td>win</td>\n",
       "    </tr>\n",
       "    <tr>\n",
       "      <th>...</th>\n",
       "      <td>...</td>\n",
       "      <td>...</td>\n",
       "      <td>...</td>\n",
       "      <td>...</td>\n",
       "      <td>...</td>\n",
       "    </tr>\n",
       "    <tr>\n",
       "      <th>1.073699</th>\n",
       "      <td>2016</td>\n",
       "      <td>Jill Stein</td>\n",
       "      <td>Green</td>\n",
       "      <td>1457226</td>\n",
       "      <td>loss</td>\n",
       "    </tr>\n",
       "    <tr>\n",
       "      <th>51.311515</th>\n",
       "      <td>2020</td>\n",
       "      <td>Joseph Biden</td>\n",
       "      <td>Democratic</td>\n",
       "      <td>81268924</td>\n",
       "      <td>win</td>\n",
       "    </tr>\n",
       "    <tr>\n",
       "      <th>46.858542</th>\n",
       "      <td>2020</td>\n",
       "      <td>Donald Trump</td>\n",
       "      <td>Republican</td>\n",
       "      <td>74216154</td>\n",
       "      <td>loss</td>\n",
       "    </tr>\n",
       "    <tr>\n",
       "      <th>1.177979</th>\n",
       "      <td>2020</td>\n",
       "      <td>Jo Jorgensen</td>\n",
       "      <td>Libertarian</td>\n",
       "      <td>1865724</td>\n",
       "      <td>loss</td>\n",
       "    </tr>\n",
       "    <tr>\n",
       "      <th>0.255731</th>\n",
       "      <td>2020</td>\n",
       "      <td>Howard Hawkins</td>\n",
       "      <td>Green</td>\n",
       "      <td>405035</td>\n",
       "      <td>loss</td>\n",
       "    </tr>\n",
       "  </tbody>\n",
       "</table>\n",
       "<p>182 rows × 5 columns</p>\n",
       "</div>"
      ],
      "text/plain": [
       "           Year          Candidate                  Party  Popular vote Result\n",
       "%                                                                             \n",
       "57.210122  1824     Andrew Jackson  Democratic-Republican        151271   loss\n",
       "42.789878  1824  John Quincy Adams  Democratic-Republican        113142    win\n",
       "56.203927  1828     Andrew Jackson             Democratic        642806    win\n",
       "43.796073  1828  John Quincy Adams    National Republican        500897   loss\n",
       "54.574789  1832     Andrew Jackson             Democratic        702735    win\n",
       "...         ...                ...                    ...           ...    ...\n",
       "1.073699   2016         Jill Stein                  Green       1457226   loss\n",
       "51.311515  2020       Joseph Biden             Democratic      81268924    win\n",
       "46.858542  2020       Donald Trump             Republican      74216154   loss\n",
       "1.177979   2020       Jo Jorgensen            Libertarian       1865724   loss\n",
       "0.255731   2020     Howard Hawkins                  Green        405035   loss\n",
       "\n",
       "[182 rows x 5 columns]"
      ]
     },
     "execution_count": 193,
     "metadata": {},
     "output_type": "execute_result"
    }
   ],
   "source": [
    "#Answer Here\n",
    "a.set_index('%')"
   ]
  },
  {
   "cell_type": "code",
   "execution_count": 194,
   "metadata": {},
   "outputs": [
    {
     "data": {
      "text/html": [
       "<div>\n",
       "<style scoped>\n",
       "    .dataframe tbody tr th:only-of-type {\n",
       "        vertical-align: middle;\n",
       "    }\n",
       "\n",
       "    .dataframe tbody tr th {\n",
       "        vertical-align: top;\n",
       "    }\n",
       "\n",
       "    .dataframe thead th {\n",
       "        text-align: right;\n",
       "    }\n",
       "</style>\n",
       "<table border=\"1\" class=\"dataframe\">\n",
       "  <thead>\n",
       "    <tr style=\"text-align: right;\">\n",
       "      <th></th>\n",
       "      <th>index</th>\n",
       "      <th>Year</th>\n",
       "      <th>Candidate</th>\n",
       "      <th>Party</th>\n",
       "      <th>Popular vote</th>\n",
       "      <th>Result</th>\n",
       "      <th>%</th>\n",
       "    </tr>\n",
       "  </thead>\n",
       "  <tbody>\n",
       "    <tr>\n",
       "      <th>0</th>\n",
       "      <td>0</td>\n",
       "      <td>1824</td>\n",
       "      <td>Andrew Jackson</td>\n",
       "      <td>Democratic-Republican</td>\n",
       "      <td>151271</td>\n",
       "      <td>loss</td>\n",
       "      <td>57.210122</td>\n",
       "    </tr>\n",
       "    <tr>\n",
       "      <th>1</th>\n",
       "      <td>1</td>\n",
       "      <td>1824</td>\n",
       "      <td>John Quincy Adams</td>\n",
       "      <td>Democratic-Republican</td>\n",
       "      <td>113142</td>\n",
       "      <td>win</td>\n",
       "      <td>42.789878</td>\n",
       "    </tr>\n",
       "    <tr>\n",
       "      <th>2</th>\n",
       "      <td>2</td>\n",
       "      <td>1828</td>\n",
       "      <td>Andrew Jackson</td>\n",
       "      <td>Democratic</td>\n",
       "      <td>642806</td>\n",
       "      <td>win</td>\n",
       "      <td>56.203927</td>\n",
       "    </tr>\n",
       "    <tr>\n",
       "      <th>3</th>\n",
       "      <td>3</td>\n",
       "      <td>1828</td>\n",
       "      <td>John Quincy Adams</td>\n",
       "      <td>National Republican</td>\n",
       "      <td>500897</td>\n",
       "      <td>loss</td>\n",
       "      <td>43.796073</td>\n",
       "    </tr>\n",
       "    <tr>\n",
       "      <th>4</th>\n",
       "      <td>4</td>\n",
       "      <td>1832</td>\n",
       "      <td>Andrew Jackson</td>\n",
       "      <td>Democratic</td>\n",
       "      <td>702735</td>\n",
       "      <td>win</td>\n",
       "      <td>54.574789</td>\n",
       "    </tr>\n",
       "    <tr>\n",
       "      <th>...</th>\n",
       "      <td>...</td>\n",
       "      <td>...</td>\n",
       "      <td>...</td>\n",
       "      <td>...</td>\n",
       "      <td>...</td>\n",
       "      <td>...</td>\n",
       "      <td>...</td>\n",
       "    </tr>\n",
       "    <tr>\n",
       "      <th>177</th>\n",
       "      <td>177</td>\n",
       "      <td>2016</td>\n",
       "      <td>Jill Stein</td>\n",
       "      <td>Green</td>\n",
       "      <td>1457226</td>\n",
       "      <td>loss</td>\n",
       "      <td>1.073699</td>\n",
       "    </tr>\n",
       "    <tr>\n",
       "      <th>178</th>\n",
       "      <td>178</td>\n",
       "      <td>2020</td>\n",
       "      <td>Joseph Biden</td>\n",
       "      <td>Democratic</td>\n",
       "      <td>81268924</td>\n",
       "      <td>win</td>\n",
       "      <td>51.311515</td>\n",
       "    </tr>\n",
       "    <tr>\n",
       "      <th>179</th>\n",
       "      <td>179</td>\n",
       "      <td>2020</td>\n",
       "      <td>Donald Trump</td>\n",
       "      <td>Republican</td>\n",
       "      <td>74216154</td>\n",
       "      <td>loss</td>\n",
       "      <td>46.858542</td>\n",
       "    </tr>\n",
       "    <tr>\n",
       "      <th>180</th>\n",
       "      <td>180</td>\n",
       "      <td>2020</td>\n",
       "      <td>Jo Jorgensen</td>\n",
       "      <td>Libertarian</td>\n",
       "      <td>1865724</td>\n",
       "      <td>loss</td>\n",
       "      <td>1.177979</td>\n",
       "    </tr>\n",
       "    <tr>\n",
       "      <th>181</th>\n",
       "      <td>181</td>\n",
       "      <td>2020</td>\n",
       "      <td>Howard Hawkins</td>\n",
       "      <td>Green</td>\n",
       "      <td>405035</td>\n",
       "      <td>loss</td>\n",
       "      <td>0.255731</td>\n",
       "    </tr>\n",
       "  </tbody>\n",
       "</table>\n",
       "<p>182 rows × 7 columns</p>\n",
       "</div>"
      ],
      "text/plain": [
       "     index  Year          Candidate                  Party  Popular vote  \\\n",
       "0        0  1824     Andrew Jackson  Democratic-Republican        151271   \n",
       "1        1  1824  John Quincy Adams  Democratic-Republican        113142   \n",
       "2        2  1828     Andrew Jackson             Democratic        642806   \n",
       "3        3  1828  John Quincy Adams    National Republican        500897   \n",
       "4        4  1832     Andrew Jackson             Democratic        702735   \n",
       "..     ...   ...                ...                    ...           ...   \n",
       "177    177  2016         Jill Stein                  Green       1457226   \n",
       "178    178  2020       Joseph Biden             Democratic      81268924   \n",
       "179    179  2020       Donald Trump             Republican      74216154   \n",
       "180    180  2020       Jo Jorgensen            Libertarian       1865724   \n",
       "181    181  2020     Howard Hawkins                  Green        405035   \n",
       "\n",
       "    Result          %  \n",
       "0     loss  57.210122  \n",
       "1      win  42.789878  \n",
       "2      win  56.203927  \n",
       "3     loss  43.796073  \n",
       "4      win  54.574789  \n",
       "..     ...        ...  \n",
       "177   loss   1.073699  \n",
       "178    win  51.311515  \n",
       "179   loss  46.858542  \n",
       "180   loss   1.177979  \n",
       "181   loss   0.255731  \n",
       "\n",
       "[182 rows x 7 columns]"
      ]
     },
     "execution_count": 194,
     "metadata": {},
     "output_type": "execute_result"
    }
   ],
   "source": [
    "a.reset_index()"
   ]
  },
  {
   "cell_type": "markdown",
   "metadata": {
    "id": "kOpP3gBYPtvJ"
   },
   "source": [
    "# Caution:\n",
    "The **set_index command** (along with all other data frame methods) **does not modify the dataframe**, i.e., the original \"elections\" is untouched. Note: There is a flag called \"inplace\" which does modify the calling dataframe (e.g., `elections.set_index(\"Party\",inplace=True)`)."
   ]
  },
  {
   "cell_type": "markdown",
   "metadata": {
    "id": "HYFFeZwRPtvJ"
   },
   "source": [
    "## Duplicate Columns?\n",
    "By contast, column names MUST be unique. For example, if we try to read in a file for which column names are not unique, Pandas will automatically any duplicates. Load duplicate_columns.csv"
   ]
  },
  {
   "cell_type": "code",
   "execution_count": 195,
   "metadata": {
    "id": "4VSBA-Y4PtvJ"
   },
   "outputs": [
    {
     "data": {
      "text/html": [
       "<div>\n",
       "<style scoped>\n",
       "    .dataframe tbody tr th:only-of-type {\n",
       "        vertical-align: middle;\n",
       "    }\n",
       "\n",
       "    .dataframe tbody tr th {\n",
       "        vertical-align: top;\n",
       "    }\n",
       "\n",
       "    .dataframe thead th {\n",
       "        text-align: right;\n",
       "    }\n",
       "</style>\n",
       "<table border=\"1\" class=\"dataframe\">\n",
       "  <thead>\n",
       "    <tr style=\"text-align: right;\">\n",
       "      <th></th>\n",
       "      <th>name</th>\n",
       "      <th>name.1</th>\n",
       "      <th>flavor</th>\n",
       "    </tr>\n",
       "  </thead>\n",
       "  <tbody>\n",
       "    <tr>\n",
       "      <th>0</th>\n",
       "      <td>john</td>\n",
       "      <td>smith</td>\n",
       "      <td>vanilla</td>\n",
       "    </tr>\n",
       "    <tr>\n",
       "      <th>1</th>\n",
       "      <td>zhang</td>\n",
       "      <td>shan</td>\n",
       "      <td>chocolate</td>\n",
       "    </tr>\n",
       "    <tr>\n",
       "      <th>2</th>\n",
       "      <td>fulan</td>\n",
       "      <td>alfulani</td>\n",
       "      <td>strawberry</td>\n",
       "    </tr>\n",
       "    <tr>\n",
       "      <th>3</th>\n",
       "      <td>hong</td>\n",
       "      <td>gildong</td>\n",
       "      <td>banana</td>\n",
       "    </tr>\n",
       "  </tbody>\n",
       "</table>\n",
       "</div>"
      ],
      "text/plain": [
       "    name    name.1      flavor\n",
       "0   john     smith     vanilla\n",
       "1  zhang      shan   chocolate\n",
       "2  fulan  alfulani  strawberry\n",
       "3   hong   gildong      banana"
      ]
     },
     "execution_count": 195,
     "metadata": {},
     "output_type": "execute_result"
    }
   ],
   "source": [
    "#Answer Here\n",
    "b=pd.read_csv('sets/duplicate_columns.csv')\n",
    "b"
   ]
  },
  {
   "cell_type": "markdown",
   "metadata": {
    "id": "fUjSXLNhPtvK"
   },
   "source": [
    "## The [ ] Operator & Indexing"
   ]
  },
  {
   "cell_type": "markdown",
   "metadata": {
    "id": "_y0PM7R9PtvK"
   },
   "source": [
    "The DataFrame class has an indexing operator **[ ]** (also known as the 'brack' operator) that lets you do a variety of different things. If your provide a String to the **[ ]** operator, you get back a ***Series*** corresponding to the requested label.\n",
    "\n",
    "1.Use **[ ]** to display different columns\n",
    "\n",
    "2.Use List retrive multiple columns"
   ]
  },
  {
   "cell_type": "code",
   "execution_count": 196,
   "metadata": {
    "id": "MpSUIkiHPtvK"
   },
   "outputs": [
    {
     "name": "stdout",
     "output_type": "stream",
     "text": [
      "   name name.1   flavor\n",
      "0  john  smith  vanilla\n",
      "\n",
      "     flavor\n",
      "0  vanilla\n",
      "\n",
      "     flavor\n",
      "0  vanilla\n",
      "\n",
      "   name.1\n",
      "0  smith\n",
      "1   shan\n",
      "\n",
      "     name    name.1\n",
      "0   john     smith\n",
      "2  fulan  alfulani\n",
      "\n",
      "     name    name.1\n",
      "0   john     smith\n",
      "1  zhang      shan\n",
      "2  fulan  alfulani\n",
      "3   hong   gildong\n"
     ]
    }
   ],
   "source": [
    "# Answer Here\n",
    "print(b.loc[[0]])\n",
    "print(\"\\n\",b.iloc[[0],[2]])\n",
    "print(\"\\n\",b.loc[[0],[\"flavor\"]])\n",
    "print(\"\\n\",b.loc[0:1,[\"name.1\"]])\n",
    "print(\"\\n\",b.loc[[0,2],\"name\":\"name.1\"])\n",
    "print(\"\\n\",b.loc[:,\"name\":\"name.1\"])"
   ]
  },
  {
   "cell_type": "markdown",
   "metadata": {
    "id": "DopcbfEpPtvK"
   },
   "source": [
    "The **[ ]** operator also accepts a list of strings. In this case, you get back a **DataFrame** corresponding to the requested strings."
   ]
  },
  {
   "cell_type": "code",
   "execution_count": 197,
   "metadata": {
    "id": "lX4YozsZPtvK",
    "scrolled": true
   },
   "outputs": [
    {
     "data": {
      "text/plain": [
       "'smith'"
      ]
     },
     "execution_count": 197,
     "metadata": {},
     "output_type": "execute_result"
    }
   ],
   "source": [
    "# Answer Here\n",
    "b.loc[0,\"name.1\"]"
   ]
  },
  {
   "cell_type": "markdown",
   "metadata": {
    "id": "7pv2JkjRPtvK"
   },
   "source": [
    "A list of one label also returns a DataFrame. This can be handy if you want your results as a DataFrame, not a series."
   ]
  },
  {
   "cell_type": "markdown",
   "metadata": {
    "id": "XqKnvINoPtvL"
   },
   "source": [
    "Note that we can also use the **to_frame** method to turn a Series into a DataFrame.\n",
    "\n",
    "Extract one col name \"Candidates\" from DataFrame it will be a series. Convert series into a DataFrame."
   ]
  },
  {
   "cell_type": "code",
   "execution_count": 198,
   "metadata": {
    "id": "XUOtNoVnPtvL"
   },
   "outputs": [
    {
     "data": {
      "text/plain": [
       "0         Andrew Jackson\n",
       "1      John Quincy Adams\n",
       "2         Andrew Jackson\n",
       "3      John Quincy Adams\n",
       "4         Andrew Jackson\n",
       "             ...        \n",
       "177           Jill Stein\n",
       "178         Joseph Biden\n",
       "179         Donald Trump\n",
       "180         Jo Jorgensen\n",
       "181       Howard Hawkins\n",
       "Name: Candidate, Length: 182, dtype: object"
      ]
     },
     "execution_count": 198,
     "metadata": {},
     "output_type": "execute_result"
    }
   ],
   "source": [
    "# Answer Here\n",
    "series = a[\"Candidate\"]\n",
    "series"
   ]
  },
  {
   "cell_type": "code",
   "execution_count": 199,
   "metadata": {
    "id": "HdHWFzzSPtvL"
   },
   "outputs": [
    {
     "data": {
      "text/html": [
       "<div>\n",
       "<style scoped>\n",
       "    .dataframe tbody tr th:only-of-type {\n",
       "        vertical-align: middle;\n",
       "    }\n",
       "\n",
       "    .dataframe tbody tr th {\n",
       "        vertical-align: top;\n",
       "    }\n",
       "\n",
       "    .dataframe thead th {\n",
       "        text-align: right;\n",
       "    }\n",
       "</style>\n",
       "<table border=\"1\" class=\"dataframe\">\n",
       "  <thead>\n",
       "    <tr style=\"text-align: right;\">\n",
       "      <th></th>\n",
       "      <th>Candidate</th>\n",
       "    </tr>\n",
       "  </thead>\n",
       "  <tbody>\n",
       "    <tr>\n",
       "      <th>0</th>\n",
       "      <td>Andrew Jackson</td>\n",
       "    </tr>\n",
       "    <tr>\n",
       "      <th>1</th>\n",
       "      <td>John Quincy Adams</td>\n",
       "    </tr>\n",
       "    <tr>\n",
       "      <th>2</th>\n",
       "      <td>Andrew Jackson</td>\n",
       "    </tr>\n",
       "    <tr>\n",
       "      <th>3</th>\n",
       "      <td>John Quincy Adams</td>\n",
       "    </tr>\n",
       "    <tr>\n",
       "      <th>4</th>\n",
       "      <td>Andrew Jackson</td>\n",
       "    </tr>\n",
       "    <tr>\n",
       "      <th>...</th>\n",
       "      <td>...</td>\n",
       "    </tr>\n",
       "    <tr>\n",
       "      <th>177</th>\n",
       "      <td>Jill Stein</td>\n",
       "    </tr>\n",
       "    <tr>\n",
       "      <th>178</th>\n",
       "      <td>Joseph Biden</td>\n",
       "    </tr>\n",
       "    <tr>\n",
       "      <th>179</th>\n",
       "      <td>Donald Trump</td>\n",
       "    </tr>\n",
       "    <tr>\n",
       "      <th>180</th>\n",
       "      <td>Jo Jorgensen</td>\n",
       "    </tr>\n",
       "    <tr>\n",
       "      <th>181</th>\n",
       "      <td>Howard Hawkins</td>\n",
       "    </tr>\n",
       "  </tbody>\n",
       "</table>\n",
       "<p>182 rows × 1 columns</p>\n",
       "</div>"
      ],
      "text/plain": [
       "             Candidate\n",
       "0       Andrew Jackson\n",
       "1    John Quincy Adams\n",
       "2       Andrew Jackson\n",
       "3    John Quincy Adams\n",
       "4       Andrew Jackson\n",
       "..                 ...\n",
       "177         Jill Stein\n",
       "178       Joseph Biden\n",
       "179       Donald Trump\n",
       "180       Jo Jorgensen\n",
       "181     Howard Hawkins\n",
       "\n",
       "[182 rows x 1 columns]"
      ]
     },
     "execution_count": 199,
     "metadata": {},
     "output_type": "execute_result"
    }
   ],
   "source": [
    "# Answer Here\n",
    "series.to_frame()"
   ]
  },
  {
   "cell_type": "markdown",
   "metadata": {
    "id": "8l2IdtBwPtvL"
   },
   "source": [
    "### Row Indexing\n",
    "\n",
    "The `[]` operator also accepts numerical slices as arguments. In this case, we are indexing by row, not column!\n",
    "\n",
    "Extract few rows from DataFrame"
   ]
  },
  {
   "cell_type": "code",
   "execution_count": 200,
   "metadata": {
    "id": "VrZMcM5rPtvL",
    "scrolled": true
   },
   "outputs": [
    {
     "data": {
      "text/html": [
       "<div>\n",
       "<style scoped>\n",
       "    .dataframe tbody tr th:only-of-type {\n",
       "        vertical-align: middle;\n",
       "    }\n",
       "\n",
       "    .dataframe tbody tr th {\n",
       "        vertical-align: top;\n",
       "    }\n",
       "\n",
       "    .dataframe thead th {\n",
       "        text-align: right;\n",
       "    }\n",
       "</style>\n",
       "<table border=\"1\" class=\"dataframe\">\n",
       "  <thead>\n",
       "    <tr style=\"text-align: right;\">\n",
       "      <th></th>\n",
       "      <th>Year</th>\n",
       "      <th>Candidate</th>\n",
       "      <th>Party</th>\n",
       "      <th>Popular vote</th>\n",
       "      <th>Result</th>\n",
       "      <th>%</th>\n",
       "    </tr>\n",
       "  </thead>\n",
       "  <tbody>\n",
       "    <tr>\n",
       "      <th>1</th>\n",
       "      <td>1824</td>\n",
       "      <td>John Quincy Adams</td>\n",
       "      <td>Democratic-Republican</td>\n",
       "      <td>113142</td>\n",
       "      <td>win</td>\n",
       "      <td>42.789878</td>\n",
       "    </tr>\n",
       "    <tr>\n",
       "      <th>2</th>\n",
       "      <td>1828</td>\n",
       "      <td>Andrew Jackson</td>\n",
       "      <td>Democratic</td>\n",
       "      <td>642806</td>\n",
       "      <td>win</td>\n",
       "      <td>56.203927</td>\n",
       "    </tr>\n",
       "    <tr>\n",
       "      <th>3</th>\n",
       "      <td>1828</td>\n",
       "      <td>John Quincy Adams</td>\n",
       "      <td>National Republican</td>\n",
       "      <td>500897</td>\n",
       "      <td>loss</td>\n",
       "      <td>43.796073</td>\n",
       "    </tr>\n",
       "  </tbody>\n",
       "</table>\n",
       "</div>"
      ],
      "text/plain": [
       "   Year          Candidate                  Party  Popular vote Result  \\\n",
       "1  1824  John Quincy Adams  Democratic-Republican        113142    win   \n",
       "2  1828     Andrew Jackson             Democratic        642806    win   \n",
       "3  1828  John Quincy Adams    National Republican        500897   loss   \n",
       "\n",
       "           %  \n",
       "1  42.789878  \n",
       "2  56.203927  \n",
       "3  43.796073  "
      ]
     },
     "execution_count": 200,
     "metadata": {},
     "output_type": "execute_result"
    }
   ],
   "source": [
    "# Answer Here\n",
    "a.loc[[1,2,3]]"
   ]
  },
  {
   "cell_type": "markdown",
   "metadata": {
    "id": "BbzS6oI4PtvN"
   },
   "source": [
    "If you provide a single argument to the `[]` operator, it tries to use it as a name. This is true even if the argument passed to **[ ]** is an integer."
   ]
  },
  {
   "cell_type": "code",
   "execution_count": 201,
   "metadata": {
    "id": "tw51ccpUPtvN"
   },
   "outputs": [
    {
     "ename": "KeyError",
     "evalue": "0",
     "output_type": "error",
     "traceback": [
      "\u001b[1;31m---------------------------------------------------------------------------\u001b[0m",
      "\u001b[1;31mKeyError\u001b[0m                                  Traceback (most recent call last)",
      "File \u001b[1;32mC:\\ProgramData\\anaconda3\\lib\\site-packages\\pandas\\core\\indexes\\base.py:3802\u001b[0m, in \u001b[0;36mIndex.get_loc\u001b[1;34m(self, key, method, tolerance)\u001b[0m\n\u001b[0;32m   3801\u001b[0m \u001b[38;5;28;01mtry\u001b[39;00m:\n\u001b[1;32m-> 3802\u001b[0m     \u001b[38;5;28;01mreturn\u001b[39;00m \u001b[38;5;28;43mself\u001b[39;49m\u001b[38;5;241;43m.\u001b[39;49m\u001b[43m_engine\u001b[49m\u001b[38;5;241;43m.\u001b[39;49m\u001b[43mget_loc\u001b[49m\u001b[43m(\u001b[49m\u001b[43mcasted_key\u001b[49m\u001b[43m)\u001b[49m\n\u001b[0;32m   3803\u001b[0m \u001b[38;5;28;01mexcept\u001b[39;00m \u001b[38;5;167;01mKeyError\u001b[39;00m \u001b[38;5;28;01mas\u001b[39;00m err:\n",
      "File \u001b[1;32mC:\\ProgramData\\anaconda3\\lib\\site-packages\\pandas\\_libs\\index.pyx:138\u001b[0m, in \u001b[0;36mpandas._libs.index.IndexEngine.get_loc\u001b[1;34m()\u001b[0m\n",
      "File \u001b[1;32mC:\\ProgramData\\anaconda3\\lib\\site-packages\\pandas\\_libs\\index.pyx:165\u001b[0m, in \u001b[0;36mpandas._libs.index.IndexEngine.get_loc\u001b[1;34m()\u001b[0m\n",
      "File \u001b[1;32mpandas\\_libs\\hashtable_class_helper.pxi:5745\u001b[0m, in \u001b[0;36mpandas._libs.hashtable.PyObjectHashTable.get_item\u001b[1;34m()\u001b[0m\n",
      "File \u001b[1;32mpandas\\_libs\\hashtable_class_helper.pxi:5753\u001b[0m, in \u001b[0;36mpandas._libs.hashtable.PyObjectHashTable.get_item\u001b[1;34m()\u001b[0m\n",
      "\u001b[1;31mKeyError\u001b[0m: 0",
      "\nThe above exception was the direct cause of the following exception:\n",
      "\u001b[1;31mKeyError\u001b[0m                                  Traceback (most recent call last)",
      "Cell \u001b[1;32mIn[201], line 2\u001b[0m\n\u001b[0;32m      1\u001b[0m \u001b[38;5;66;03m#elections[0] #this does not work, try uncommenting this to see it fail in action, woo\u001b[39;00m\n\u001b[1;32m----> 2\u001b[0m \u001b[43ma\u001b[49m\u001b[43m[\u001b[49m\u001b[38;5;241;43m0\u001b[39;49m\u001b[43m]\u001b[49m\n",
      "File \u001b[1;32mC:\\ProgramData\\anaconda3\\lib\\site-packages\\pandas\\core\\frame.py:3807\u001b[0m, in \u001b[0;36mDataFrame.__getitem__\u001b[1;34m(self, key)\u001b[0m\n\u001b[0;32m   3805\u001b[0m \u001b[38;5;28;01mif\u001b[39;00m \u001b[38;5;28mself\u001b[39m\u001b[38;5;241m.\u001b[39mcolumns\u001b[38;5;241m.\u001b[39mnlevels \u001b[38;5;241m>\u001b[39m \u001b[38;5;241m1\u001b[39m:\n\u001b[0;32m   3806\u001b[0m     \u001b[38;5;28;01mreturn\u001b[39;00m \u001b[38;5;28mself\u001b[39m\u001b[38;5;241m.\u001b[39m_getitem_multilevel(key)\n\u001b[1;32m-> 3807\u001b[0m indexer \u001b[38;5;241m=\u001b[39m \u001b[38;5;28;43mself\u001b[39;49m\u001b[38;5;241;43m.\u001b[39;49m\u001b[43mcolumns\u001b[49m\u001b[38;5;241;43m.\u001b[39;49m\u001b[43mget_loc\u001b[49m\u001b[43m(\u001b[49m\u001b[43mkey\u001b[49m\u001b[43m)\u001b[49m\n\u001b[0;32m   3808\u001b[0m \u001b[38;5;28;01mif\u001b[39;00m is_integer(indexer):\n\u001b[0;32m   3809\u001b[0m     indexer \u001b[38;5;241m=\u001b[39m [indexer]\n",
      "File \u001b[1;32mC:\\ProgramData\\anaconda3\\lib\\site-packages\\pandas\\core\\indexes\\base.py:3804\u001b[0m, in \u001b[0;36mIndex.get_loc\u001b[1;34m(self, key, method, tolerance)\u001b[0m\n\u001b[0;32m   3802\u001b[0m     \u001b[38;5;28;01mreturn\u001b[39;00m \u001b[38;5;28mself\u001b[39m\u001b[38;5;241m.\u001b[39m_engine\u001b[38;5;241m.\u001b[39mget_loc(casted_key)\n\u001b[0;32m   3803\u001b[0m \u001b[38;5;28;01mexcept\u001b[39;00m \u001b[38;5;167;01mKeyError\u001b[39;00m \u001b[38;5;28;01mas\u001b[39;00m err:\n\u001b[1;32m-> 3804\u001b[0m     \u001b[38;5;28;01mraise\u001b[39;00m \u001b[38;5;167;01mKeyError\u001b[39;00m(key) \u001b[38;5;28;01mfrom\u001b[39;00m \u001b[38;5;21;01merr\u001b[39;00m\n\u001b[0;32m   3805\u001b[0m \u001b[38;5;28;01mexcept\u001b[39;00m \u001b[38;5;167;01mTypeError\u001b[39;00m:\n\u001b[0;32m   3806\u001b[0m     \u001b[38;5;66;03m# If we have a listlike key, _check_indexing_error will raise\u001b[39;00m\n\u001b[0;32m   3807\u001b[0m     \u001b[38;5;66;03m#  InvalidIndexError. Otherwise we fall through and re-raise\u001b[39;00m\n\u001b[0;32m   3808\u001b[0m     \u001b[38;5;66;03m#  the TypeError.\u001b[39;00m\n\u001b[0;32m   3809\u001b[0m     \u001b[38;5;28mself\u001b[39m\u001b[38;5;241m.\u001b[39m_check_indexing_error(key)\n",
      "\u001b[1;31mKeyError\u001b[0m: 0"
     ]
    }
   ],
   "source": [
    "#elections[0] #this does not work, try uncommenting this to see it fail in action, woo\n",
    "a[0]"
   ]
  },
  {
   "cell_type": "markdown",
   "metadata": {
    "id": "EJsBn7uKPtvN"
   },
   "source": [
    "The following cells allow you to **test your understanding**. Let's go over the summary of what we have learnt (see slides).\n",
    "\n",
    "# Creating DataFrames\n",
    "Create DataFrame using List and Columns name."
   ]
  },
  {
   "cell_type": "code",
   "execution_count": 202,
   "metadata": {
    "id": "yA1NsyftUQYi"
   },
   "outputs": [
    {
     "data": {
      "text/html": [
       "<div>\n",
       "<style scoped>\n",
       "    .dataframe tbody tr th:only-of-type {\n",
       "        vertical-align: middle;\n",
       "    }\n",
       "\n",
       "    .dataframe tbody tr th {\n",
       "        vertical-align: top;\n",
       "    }\n",
       "\n",
       "    .dataframe thead th {\n",
       "        text-align: right;\n",
       "    }\n",
       "</style>\n",
       "<table border=\"1\" class=\"dataframe\">\n",
       "  <thead>\n",
       "    <tr style=\"text-align: right;\">\n",
       "      <th></th>\n",
       "      <th>Roll No</th>\n",
       "      <th>Name</th>\n",
       "    </tr>\n",
       "  </thead>\n",
       "  <tbody>\n",
       "    <tr>\n",
       "      <th>0</th>\n",
       "      <td>101</td>\n",
       "      <td>Usman</td>\n",
       "    </tr>\n",
       "    <tr>\n",
       "      <th>1</th>\n",
       "      <td>102</td>\n",
       "      <td>Saif</td>\n",
       "    </tr>\n",
       "    <tr>\n",
       "      <th>2</th>\n",
       "      <td>103</td>\n",
       "      <td>Ahmad</td>\n",
       "    </tr>\n",
       "  </tbody>\n",
       "</table>\n",
       "</div>"
      ],
      "text/plain": [
       "   Roll No   Name\n",
       "0      101  Usman\n",
       "1      102   Saif\n",
       "2      103  Ahmad"
      ]
     },
     "execution_count": 202,
     "metadata": {},
     "output_type": "execute_result"
    }
   ],
   "source": [
    "# Answer Here\n",
    "c=pd.DataFrame([[101,\"Usman\"],[102,\"Saif\"],[103,\"Ahmad\"]],columns=[\"Roll No\",\"Name\"])\n",
    "c"
   ]
  },
  {
   "cell_type": "markdown",
   "metadata": {
    "id": "De8I7tdRhSCc"
   },
   "source": [
    "Creating DataFrames using **Dictionary**."
   ]
  },
  {
   "cell_type": "code",
   "execution_count": 203,
   "metadata": {
    "id": "YLidbVoJPtvN"
   },
   "outputs": [
    {
     "data": {
      "text/html": [
       "<div>\n",
       "<style scoped>\n",
       "    .dataframe tbody tr th:only-of-type {\n",
       "        vertical-align: middle;\n",
       "    }\n",
       "\n",
       "    .dataframe tbody tr th {\n",
       "        vertical-align: top;\n",
       "    }\n",
       "\n",
       "    .dataframe thead th {\n",
       "        text-align: right;\n",
       "    }\n",
       "</style>\n",
       "<table border=\"1\" class=\"dataframe\">\n",
       "  <thead>\n",
       "    <tr style=\"text-align: right;\">\n",
       "      <th></th>\n",
       "      <th>Roll No</th>\n",
       "      <th>Name</th>\n",
       "    </tr>\n",
       "  </thead>\n",
       "  <tbody>\n",
       "    <tr>\n",
       "      <th>0</th>\n",
       "      <td>101</td>\n",
       "      <td>Usman</td>\n",
       "    </tr>\n",
       "    <tr>\n",
       "      <th>1</th>\n",
       "      <td>102</td>\n",
       "      <td>Saif</td>\n",
       "    </tr>\n",
       "    <tr>\n",
       "      <th>2</th>\n",
       "      <td>103</td>\n",
       "      <td>Ahmad</td>\n",
       "    </tr>\n",
       "  </tbody>\n",
       "</table>\n",
       "</div>"
      ],
      "text/plain": [
       "   Roll No   Name\n",
       "0      101  Usman\n",
       "1      102   Saif\n",
       "2      103  Ahmad"
      ]
     },
     "execution_count": 203,
     "metadata": {},
     "output_type": "execute_result"
    }
   ],
   "source": [
    "# Answer Here\n",
    "dic=pd.DataFrame({\"Roll No\":[101,102,103],\"Name\":[\"Usman\",\"Saif\",\"Ahmad\"]})\n",
    "dic"
   ]
  },
  {
   "cell_type": "markdown",
   "metadata": {
    "id": "GsX8jyA3PtvO"
   },
   "source": [
    "## Filtering via Boolean Array Selection"
   ]
  },
  {
   "cell_type": "markdown",
   "metadata": {
    "id": "RXDjTannPtvO"
   },
   "source": [
    "The `[]` operator also supports array of booleans as an input. In this case, the array must be exactly as long as the number of rows. The result is a **filtered version of the data frame**, where **only rows corresponding to True appear**."
   ]
  },
  {
   "cell_type": "code",
   "execution_count": 204,
   "metadata": {
    "id": "pD79oglhPtvP"
   },
   "outputs": [
    {
     "name": "stdout",
     "output_type": "stream",
     "text": [
      "    name    name.1      flavor\n",
      "0   john     smith     vanilla\n",
      "1  zhang      shan   chocolate\n",
      "2  fulan  alfulani  strawberry\n",
      "3   hong   gildong      banana\n",
      "\n",
      "\n",
      "   name   name.1   flavor\n",
      "0  john    smith  vanilla\n",
      "3  hong  gildong   banana\n"
     ]
    }
   ],
   "source": [
    "print(b)\n",
    "print('\\n')\n",
    "print(b[[True,False,False,True]])"
   ]
  },
  {
   "cell_type": "markdown",
   "metadata": {
    "id": "0lo-osU2PtvP"
   },
   "source": [
    "One very common task in Data Science is **filtering**. Boolean Array Selection is one way to achieve this in Pandas. We start by observing that **logical operators** like the equality operator can be applied to **Pandas Series data** to generate a **Boolean Array**.\n",
    "\n",
    "Compare the 'Result' column to the String 'win' and Show results"
   ]
  },
  {
   "cell_type": "code",
   "execution_count": 205,
   "metadata": {
    "id": "Or9NKO2kPtvP"
   },
   "outputs": [
    {
     "data": {
      "text/plain": [
       "0      False\n",
       "1       True\n",
       "2       True\n",
       "3      False\n",
       "4       True\n",
       "       ...  \n",
       "177    False\n",
       "178     True\n",
       "179    False\n",
       "180    False\n",
       "181    False\n",
       "Name: Result, Length: 182, dtype: bool"
      ]
     },
     "execution_count": 205,
     "metadata": {},
     "output_type": "execute_result"
    }
   ],
   "source": [
    "#Answer Here\n",
    "x = a['Result']=='win'\n",
    "x"
   ]
  },
  {
   "cell_type": "markdown",
   "metadata": {
    "id": "bFEH7w974G63"
   },
   "source": [
    "Compare the 'Party' column to the String 'Democratic' and Show results"
   ]
  },
  {
   "cell_type": "code",
   "execution_count": 206,
   "metadata": {
    "id": "BeyIZ48fPtvP"
   },
   "outputs": [
    {
     "data": {
      "text/plain": [
       "0      False\n",
       "1      False\n",
       "2       True\n",
       "3      False\n",
       "4       True\n",
       "       ...  \n",
       "177    False\n",
       "178     True\n",
       "179    False\n",
       "180    False\n",
       "181    False\n",
       "Name: Party, Length: 182, dtype: bool"
      ]
     },
     "execution_count": 206,
     "metadata": {},
     "output_type": "execute_result"
    }
   ],
   "source": [
    "#Answer Here\n",
    "x = a['Party']=='Democratic'\n",
    "x"
   ]
  },
  {
   "cell_type": "markdown",
   "metadata": {
    "id": "TiRu5S1FPtvP"
   },
   "source": [
    "The output of the logical operator applied to the Series is **another Series with the same name and index, but of datatype boolean**."
   ]
  },
  {
   "cell_type": "markdown",
   "metadata": {
    "id": "Avt0U9UBPtvQ"
   },
   "source": [
    "These boolean Series can be used as an argument to the `[]` operator.\n",
    "\n",
    "Creates  DataFrame of all election winners since 1980."
   ]
  },
  {
   "cell_type": "code",
   "execution_count": 207,
   "metadata": {
    "id": "UTzXe5syPtvQ"
   },
   "outputs": [
    {
     "data": {
      "text/html": [
       "<div>\n",
       "<style scoped>\n",
       "    .dataframe tbody tr th:only-of-type {\n",
       "        vertical-align: middle;\n",
       "    }\n",
       "\n",
       "    .dataframe tbody tr th {\n",
       "        vertical-align: top;\n",
       "    }\n",
       "\n",
       "    .dataframe thead th {\n",
       "        text-align: right;\n",
       "    }\n",
       "</style>\n",
       "<table border=\"1\" class=\"dataframe\">\n",
       "  <thead>\n",
       "    <tr style=\"text-align: right;\">\n",
       "      <th></th>\n",
       "      <th>Year</th>\n",
       "      <th>Candidate</th>\n",
       "      <th>Party</th>\n",
       "      <th>Popular vote</th>\n",
       "      <th>Result</th>\n",
       "      <th>%</th>\n",
       "    </tr>\n",
       "  </thead>\n",
       "  <tbody>\n",
       "    <tr>\n",
       "      <th>133</th>\n",
       "      <td>1984</td>\n",
       "      <td>Ronald Reagan</td>\n",
       "      <td>Republican</td>\n",
       "      <td>54455472</td>\n",
       "      <td>win</td>\n",
       "      <td>59.023326</td>\n",
       "    </tr>\n",
       "    <tr>\n",
       "      <th>135</th>\n",
       "      <td>1988</td>\n",
       "      <td>George H. W. Bush</td>\n",
       "      <td>Republican</td>\n",
       "      <td>48886597</td>\n",
       "      <td>win</td>\n",
       "      <td>53.518845</td>\n",
       "    </tr>\n",
       "    <tr>\n",
       "      <th>140</th>\n",
       "      <td>1992</td>\n",
       "      <td>Bill Clinton</td>\n",
       "      <td>Democratic</td>\n",
       "      <td>44909806</td>\n",
       "      <td>win</td>\n",
       "      <td>43.118485</td>\n",
       "    </tr>\n",
       "    <tr>\n",
       "      <th>144</th>\n",
       "      <td>1996</td>\n",
       "      <td>Bill Clinton</td>\n",
       "      <td>Democratic</td>\n",
       "      <td>47400125</td>\n",
       "      <td>win</td>\n",
       "      <td>49.296938</td>\n",
       "    </tr>\n",
       "    <tr>\n",
       "      <th>152</th>\n",
       "      <td>2000</td>\n",
       "      <td>George W. Bush</td>\n",
       "      <td>Republican</td>\n",
       "      <td>50456002</td>\n",
       "      <td>win</td>\n",
       "      <td>47.974666</td>\n",
       "    </tr>\n",
       "    <tr>\n",
       "      <th>157</th>\n",
       "      <td>2004</td>\n",
       "      <td>George W. Bush</td>\n",
       "      <td>Republican</td>\n",
       "      <td>62040610</td>\n",
       "      <td>win</td>\n",
       "      <td>50.771824</td>\n",
       "    </tr>\n",
       "    <tr>\n",
       "      <th>162</th>\n",
       "      <td>2008</td>\n",
       "      <td>Barack Obama</td>\n",
       "      <td>Democratic</td>\n",
       "      <td>69498516</td>\n",
       "      <td>win</td>\n",
       "      <td>53.023510</td>\n",
       "    </tr>\n",
       "    <tr>\n",
       "      <th>168</th>\n",
       "      <td>2012</td>\n",
       "      <td>Barack Obama</td>\n",
       "      <td>Democratic</td>\n",
       "      <td>65915795</td>\n",
       "      <td>win</td>\n",
       "      <td>51.258484</td>\n",
       "    </tr>\n",
       "    <tr>\n",
       "      <th>173</th>\n",
       "      <td>2016</td>\n",
       "      <td>Donald Trump</td>\n",
       "      <td>Republican</td>\n",
       "      <td>62984828</td>\n",
       "      <td>win</td>\n",
       "      <td>46.407862</td>\n",
       "    </tr>\n",
       "    <tr>\n",
       "      <th>178</th>\n",
       "      <td>2020</td>\n",
       "      <td>Joseph Biden</td>\n",
       "      <td>Democratic</td>\n",
       "      <td>81268924</td>\n",
       "      <td>win</td>\n",
       "      <td>51.311515</td>\n",
       "    </tr>\n",
       "  </tbody>\n",
       "</table>\n",
       "</div>"
      ],
      "text/plain": [
       "     Year          Candidate       Party  Popular vote Result          %\n",
       "133  1984      Ronald Reagan  Republican      54455472    win  59.023326\n",
       "135  1988  George H. W. Bush  Republican      48886597    win  53.518845\n",
       "140  1992       Bill Clinton  Democratic      44909806    win  43.118485\n",
       "144  1996       Bill Clinton  Democratic      47400125    win  49.296938\n",
       "152  2000     George W. Bush  Republican      50456002    win  47.974666\n",
       "157  2004     George W. Bush  Republican      62040610    win  50.771824\n",
       "162  2008       Barack Obama  Democratic      69498516    win  53.023510\n",
       "168  2012       Barack Obama  Democratic      65915795    win  51.258484\n",
       "173  2016       Donald Trump  Republican      62984828    win  46.407862\n",
       "178  2020       Joseph Biden  Democratic      81268924    win  51.311515"
      ]
     },
     "execution_count": 207,
     "metadata": {},
     "output_type": "execute_result"
    }
   ],
   "source": [
    "#Answer Here\n",
    "isWin=(a['Year']>1980) & (a['Result'] == \"win\")\n",
    "a[isWin]"
   ]
  },
  {
   "cell_type": "markdown",
   "metadata": {
    "id": "EEv5yYEhPtvQ"
   },
   "source": [
    "Above, we've assigned the result of the logical operator to a new variable called `iswin`. This is uncommon. Usually, the series is created and used on the same line. Such code is a little tricky to read at first, but you'll get used to it quickly.\n",
    "\n",
    "Show all 'win' results between 1980 to 2000"
   ]
  },
  {
   "cell_type": "code",
   "execution_count": 208,
   "metadata": {
    "id": "BBFYJwLwPtvQ"
   },
   "outputs": [
    {
     "data": {
      "text/html": [
       "<div>\n",
       "<style scoped>\n",
       "    .dataframe tbody tr th:only-of-type {\n",
       "        vertical-align: middle;\n",
       "    }\n",
       "\n",
       "    .dataframe tbody tr th {\n",
       "        vertical-align: top;\n",
       "    }\n",
       "\n",
       "    .dataframe thead th {\n",
       "        text-align: right;\n",
       "    }\n",
       "</style>\n",
       "<table border=\"1\" class=\"dataframe\">\n",
       "  <thead>\n",
       "    <tr style=\"text-align: right;\">\n",
       "      <th></th>\n",
       "      <th>Year</th>\n",
       "      <th>Candidate</th>\n",
       "      <th>Party</th>\n",
       "      <th>Popular vote</th>\n",
       "      <th>Result</th>\n",
       "      <th>%</th>\n",
       "    </tr>\n",
       "  </thead>\n",
       "  <tbody>\n",
       "    <tr>\n",
       "      <th>133</th>\n",
       "      <td>1984</td>\n",
       "      <td>Ronald Reagan</td>\n",
       "      <td>Republican</td>\n",
       "      <td>54455472</td>\n",
       "      <td>win</td>\n",
       "      <td>59.023326</td>\n",
       "    </tr>\n",
       "    <tr>\n",
       "      <th>135</th>\n",
       "      <td>1988</td>\n",
       "      <td>George H. W. Bush</td>\n",
       "      <td>Republican</td>\n",
       "      <td>48886597</td>\n",
       "      <td>win</td>\n",
       "      <td>53.518845</td>\n",
       "    </tr>\n",
       "    <tr>\n",
       "      <th>140</th>\n",
       "      <td>1992</td>\n",
       "      <td>Bill Clinton</td>\n",
       "      <td>Democratic</td>\n",
       "      <td>44909806</td>\n",
       "      <td>win</td>\n",
       "      <td>43.118485</td>\n",
       "    </tr>\n",
       "    <tr>\n",
       "      <th>144</th>\n",
       "      <td>1996</td>\n",
       "      <td>Bill Clinton</td>\n",
       "      <td>Democratic</td>\n",
       "      <td>47400125</td>\n",
       "      <td>win</td>\n",
       "      <td>49.296938</td>\n",
       "    </tr>\n",
       "  </tbody>\n",
       "</table>\n",
       "</div>"
      ],
      "text/plain": [
       "     Year          Candidate       Party  Popular vote Result          %\n",
       "133  1984      Ronald Reagan  Republican      54455472    win  59.023326\n",
       "135  1988  George H. W. Bush  Republican      48886597    win  53.518845\n",
       "140  1992       Bill Clinton  Democratic      44909806    win  43.118485\n",
       "144  1996       Bill Clinton  Democratic      47400125    win  49.296938"
      ]
     },
     "execution_count": 208,
     "metadata": {},
     "output_type": "execute_result"
    }
   ],
   "source": [
    "#Answer Here\n",
    "isWin=(a['Year']<2000) & (a['Year']>1980) & (a['Result']=='win')\n",
    "a[isWin]"
   ]
  },
  {
   "cell_type": "markdown",
   "metadata": {
    "id": "_NW4uODP5C7M"
   },
   "source": [
    "Show all 'Loss' results of Independent party"
   ]
  },
  {
   "cell_type": "code",
   "execution_count": 209,
   "metadata": {
    "id": "SucI5W7yPtvQ"
   },
   "outputs": [
    {
     "data": {
      "text/html": [
       "<div>\n",
       "<style scoped>\n",
       "    .dataframe tbody tr th:only-of-type {\n",
       "        vertical-align: middle;\n",
       "    }\n",
       "\n",
       "    .dataframe tbody tr th {\n",
       "        vertical-align: top;\n",
       "    }\n",
       "\n",
       "    .dataframe thead th {\n",
       "        text-align: right;\n",
       "    }\n",
       "</style>\n",
       "<table border=\"1\" class=\"dataframe\">\n",
       "  <thead>\n",
       "    <tr style=\"text-align: right;\">\n",
       "      <th></th>\n",
       "      <th>Year</th>\n",
       "      <th>Candidate</th>\n",
       "      <th>Party</th>\n",
       "      <th>Popular vote</th>\n",
       "      <th>Result</th>\n",
       "      <th>%</th>\n",
       "    </tr>\n",
       "  </thead>\n",
       "  <tbody>\n",
       "    <tr>\n",
       "      <th>121</th>\n",
       "      <td>1976</td>\n",
       "      <td>Eugene McCarthy</td>\n",
       "      <td>Independent</td>\n",
       "      <td>740460</td>\n",
       "      <td>loss</td>\n",
       "      <td>0.911649</td>\n",
       "    </tr>\n",
       "    <tr>\n",
       "      <th>130</th>\n",
       "      <td>1980</td>\n",
       "      <td>John B. Anderson</td>\n",
       "      <td>Independent</td>\n",
       "      <td>5719850</td>\n",
       "      <td>loss</td>\n",
       "      <td>6.631143</td>\n",
       "    </tr>\n",
       "    <tr>\n",
       "      <th>143</th>\n",
       "      <td>1992</td>\n",
       "      <td>Ross Perot</td>\n",
       "      <td>Independent</td>\n",
       "      <td>19743821</td>\n",
       "      <td>loss</td>\n",
       "      <td>18.956298</td>\n",
       "    </tr>\n",
       "    <tr>\n",
       "      <th>161</th>\n",
       "      <td>2004</td>\n",
       "      <td>Ralph Nader</td>\n",
       "      <td>Independent</td>\n",
       "      <td>465151</td>\n",
       "      <td>loss</td>\n",
       "      <td>0.380663</td>\n",
       "    </tr>\n",
       "    <tr>\n",
       "      <th>167</th>\n",
       "      <td>2008</td>\n",
       "      <td>Ralph Nader</td>\n",
       "      <td>Independent</td>\n",
       "      <td>739034</td>\n",
       "      <td>loss</td>\n",
       "      <td>0.563842</td>\n",
       "    </tr>\n",
       "    <tr>\n",
       "      <th>174</th>\n",
       "      <td>2016</td>\n",
       "      <td>Evan McMullin</td>\n",
       "      <td>Independent</td>\n",
       "      <td>732273</td>\n",
       "      <td>loss</td>\n",
       "      <td>0.539546</td>\n",
       "    </tr>\n",
       "  </tbody>\n",
       "</table>\n",
       "</div>"
      ],
      "text/plain": [
       "     Year         Candidate        Party  Popular vote Result          %\n",
       "121  1976   Eugene McCarthy  Independent        740460   loss   0.911649\n",
       "130  1980  John B. Anderson  Independent       5719850   loss   6.631143\n",
       "143  1992        Ross Perot  Independent      19743821   loss  18.956298\n",
       "161  2004       Ralph Nader  Independent        465151   loss   0.380663\n",
       "167  2008       Ralph Nader  Independent        739034   loss   0.563842\n",
       "174  2016     Evan McMullin  Independent        732273   loss   0.539546"
      ]
     },
     "execution_count": 209,
     "metadata": {},
     "output_type": "execute_result"
    }
   ],
   "source": [
    "# Answer Here\n",
    "a[a['Party']== 'Independent']"
   ]
  },
  {
   "cell_type": "markdown",
   "metadata": {
    "id": "wr9tNNT_PtvQ"
   },
   "source": [
    "We can select multiple criteria by creating multiple boolean Series and combining them using the `&` operator.\n",
    "\n",
    "Show results of win with percentage less than 50%"
   ]
  },
  {
   "cell_type": "code",
   "execution_count": 210,
   "metadata": {
    "id": "7VygVujvPtvQ",
    "scrolled": true
   },
   "outputs": [
    {
     "data": {
      "text/html": [
       "<div>\n",
       "<style scoped>\n",
       "    .dataframe tbody tr th:only-of-type {\n",
       "        vertical-align: middle;\n",
       "    }\n",
       "\n",
       "    .dataframe tbody tr th {\n",
       "        vertical-align: top;\n",
       "    }\n",
       "\n",
       "    .dataframe thead th {\n",
       "        text-align: right;\n",
       "    }\n",
       "</style>\n",
       "<table border=\"1\" class=\"dataframe\">\n",
       "  <thead>\n",
       "    <tr style=\"text-align: right;\">\n",
       "      <th></th>\n",
       "      <th>Year</th>\n",
       "      <th>Candidate</th>\n",
       "      <th>Party</th>\n",
       "      <th>Popular vote</th>\n",
       "      <th>Result</th>\n",
       "      <th>%</th>\n",
       "    </tr>\n",
       "  </thead>\n",
       "  <tbody>\n",
       "    <tr>\n",
       "      <th>1</th>\n",
       "      <td>1824</td>\n",
       "      <td>John Quincy Adams</td>\n",
       "      <td>Democratic-Republican</td>\n",
       "      <td>113142</td>\n",
       "      <td>win</td>\n",
       "      <td>42.789878</td>\n",
       "    </tr>\n",
       "    <tr>\n",
       "      <th>16</th>\n",
       "      <td>1848</td>\n",
       "      <td>Zachary Taylor</td>\n",
       "      <td>Whig</td>\n",
       "      <td>1360235</td>\n",
       "      <td>win</td>\n",
       "      <td>47.309296</td>\n",
       "    </tr>\n",
       "    <tr>\n",
       "      <th>20</th>\n",
       "      <td>1856</td>\n",
       "      <td>James Buchanan</td>\n",
       "      <td>Democratic</td>\n",
       "      <td>1835140</td>\n",
       "      <td>win</td>\n",
       "      <td>45.306080</td>\n",
       "    </tr>\n",
       "    <tr>\n",
       "      <th>23</th>\n",
       "      <td>1860</td>\n",
       "      <td>Abraham Lincoln</td>\n",
       "      <td>Republican</td>\n",
       "      <td>1855993</td>\n",
       "      <td>win</td>\n",
       "      <td>39.699408</td>\n",
       "    </tr>\n",
       "    <tr>\n",
       "      <th>33</th>\n",
       "      <td>1876</td>\n",
       "      <td>Rutherford Hayes</td>\n",
       "      <td>Republican</td>\n",
       "      <td>4034142</td>\n",
       "      <td>win</td>\n",
       "      <td>48.471624</td>\n",
       "    </tr>\n",
       "    <tr>\n",
       "      <th>36</th>\n",
       "      <td>1880</td>\n",
       "      <td>James Garfield</td>\n",
       "      <td>Republican</td>\n",
       "      <td>4453337</td>\n",
       "      <td>win</td>\n",
       "      <td>48.369234</td>\n",
       "    </tr>\n",
       "    <tr>\n",
       "      <th>39</th>\n",
       "      <td>1884</td>\n",
       "      <td>Grover Cleveland</td>\n",
       "      <td>Democratic</td>\n",
       "      <td>4914482</td>\n",
       "      <td>win</td>\n",
       "      <td>48.884933</td>\n",
       "    </tr>\n",
       "    <tr>\n",
       "      <th>43</th>\n",
       "      <td>1888</td>\n",
       "      <td>Benjamin Harrison</td>\n",
       "      <td>Republican</td>\n",
       "      <td>5443633</td>\n",
       "      <td>win</td>\n",
       "      <td>47.858041</td>\n",
       "    </tr>\n",
       "    <tr>\n",
       "      <th>47</th>\n",
       "      <td>1892</td>\n",
       "      <td>Grover Cleveland</td>\n",
       "      <td>Democratic</td>\n",
       "      <td>5553898</td>\n",
       "      <td>win</td>\n",
       "      <td>46.121393</td>\n",
       "    </tr>\n",
       "    <tr>\n",
       "      <th>70</th>\n",
       "      <td>1912</td>\n",
       "      <td>Woodrow Wilson</td>\n",
       "      <td>Democratic</td>\n",
       "      <td>6296284</td>\n",
       "      <td>win</td>\n",
       "      <td>41.933422</td>\n",
       "    </tr>\n",
       "    <tr>\n",
       "      <th>74</th>\n",
       "      <td>1916</td>\n",
       "      <td>Woodrow Wilson</td>\n",
       "      <td>Democratic</td>\n",
       "      <td>9126868</td>\n",
       "      <td>win</td>\n",
       "      <td>49.367987</td>\n",
       "    </tr>\n",
       "    <tr>\n",
       "      <th>100</th>\n",
       "      <td>1948</td>\n",
       "      <td>Harry Truman</td>\n",
       "      <td>Democratic</td>\n",
       "      <td>24179347</td>\n",
       "      <td>win</td>\n",
       "      <td>49.601536</td>\n",
       "    </tr>\n",
       "    <tr>\n",
       "      <th>117</th>\n",
       "      <td>1968</td>\n",
       "      <td>Richard Nixon</td>\n",
       "      <td>Republican</td>\n",
       "      <td>31783783</td>\n",
       "      <td>win</td>\n",
       "      <td>43.565246</td>\n",
       "    </tr>\n",
       "    <tr>\n",
       "      <th>140</th>\n",
       "      <td>1992</td>\n",
       "      <td>Bill Clinton</td>\n",
       "      <td>Democratic</td>\n",
       "      <td>44909806</td>\n",
       "      <td>win</td>\n",
       "      <td>43.118485</td>\n",
       "    </tr>\n",
       "    <tr>\n",
       "      <th>144</th>\n",
       "      <td>1996</td>\n",
       "      <td>Bill Clinton</td>\n",
       "      <td>Democratic</td>\n",
       "      <td>47400125</td>\n",
       "      <td>win</td>\n",
       "      <td>49.296938</td>\n",
       "    </tr>\n",
       "    <tr>\n",
       "      <th>152</th>\n",
       "      <td>2000</td>\n",
       "      <td>George W. Bush</td>\n",
       "      <td>Republican</td>\n",
       "      <td>50456002</td>\n",
       "      <td>win</td>\n",
       "      <td>47.974666</td>\n",
       "    </tr>\n",
       "    <tr>\n",
       "      <th>173</th>\n",
       "      <td>2016</td>\n",
       "      <td>Donald Trump</td>\n",
       "      <td>Republican</td>\n",
       "      <td>62984828</td>\n",
       "      <td>win</td>\n",
       "      <td>46.407862</td>\n",
       "    </tr>\n",
       "  </tbody>\n",
       "</table>\n",
       "</div>"
      ],
      "text/plain": [
       "     Year          Candidate                  Party  Popular vote Result  \\\n",
       "1    1824  John Quincy Adams  Democratic-Republican        113142    win   \n",
       "16   1848     Zachary Taylor                   Whig       1360235    win   \n",
       "20   1856     James Buchanan             Democratic       1835140    win   \n",
       "23   1860    Abraham Lincoln             Republican       1855993    win   \n",
       "33   1876   Rutherford Hayes             Republican       4034142    win   \n",
       "36   1880     James Garfield             Republican       4453337    win   \n",
       "39   1884   Grover Cleveland             Democratic       4914482    win   \n",
       "43   1888  Benjamin Harrison             Republican       5443633    win   \n",
       "47   1892   Grover Cleveland             Democratic       5553898    win   \n",
       "70   1912     Woodrow Wilson             Democratic       6296284    win   \n",
       "74   1916     Woodrow Wilson             Democratic       9126868    win   \n",
       "100  1948       Harry Truman             Democratic      24179347    win   \n",
       "117  1968      Richard Nixon             Republican      31783783    win   \n",
       "140  1992       Bill Clinton             Democratic      44909806    win   \n",
       "144  1996       Bill Clinton             Democratic      47400125    win   \n",
       "152  2000     George W. Bush             Republican      50456002    win   \n",
       "173  2016       Donald Trump             Republican      62984828    win   \n",
       "\n",
       "             %  \n",
       "1    42.789878  \n",
       "16   47.309296  \n",
       "20   45.306080  \n",
       "23   39.699408  \n",
       "33   48.471624  \n",
       "36   48.369234  \n",
       "39   48.884933  \n",
       "43   47.858041  \n",
       "47   46.121393  \n",
       "70   41.933422  \n",
       "74   49.367987  \n",
       "100  49.601536  \n",
       "117  43.565246  \n",
       "140  43.118485  \n",
       "144  49.296938  \n",
       "152  47.974666  \n",
       "173  46.407862  "
      ]
     },
     "execution_count": 210,
     "metadata": {},
     "output_type": "execute_result"
    }
   ],
   "source": [
    "# Answer Here\n",
    "a[(a['Result']=='win')&(a['%']<50)]"
   ]
  },
  {
   "cell_type": "markdown",
   "metadata": {
    "id": "ToedM6lA6Bp7"
   },
   "source": [
    "Show all 'win' results between 1980 to 2000"
   ]
  },
  {
   "cell_type": "code",
   "execution_count": 6,
   "metadata": {
    "id": "RfqDKcii6Dcs"
   },
   "outputs": [
    {
     "data": {
      "text/html": [
       "<div>\n",
       "<style scoped>\n",
       "    .dataframe tbody tr th:only-of-type {\n",
       "        vertical-align: middle;\n",
       "    }\n",
       "\n",
       "    .dataframe tbody tr th {\n",
       "        vertical-align: top;\n",
       "    }\n",
       "\n",
       "    .dataframe thead th {\n",
       "        text-align: right;\n",
       "    }\n",
       "</style>\n",
       "<table border=\"1\" class=\"dataframe\">\n",
       "  <thead>\n",
       "    <tr style=\"text-align: right;\">\n",
       "      <th></th>\n",
       "      <th>Year</th>\n",
       "      <th>Candidate</th>\n",
       "      <th>Party</th>\n",
       "      <th>Popular vote</th>\n",
       "      <th>Result</th>\n",
       "      <th>%</th>\n",
       "    </tr>\n",
       "  </thead>\n",
       "  <tbody>\n",
       "    <tr>\n",
       "      <th>133</th>\n",
       "      <td>1984</td>\n",
       "      <td>Ronald Reagan</td>\n",
       "      <td>Republican</td>\n",
       "      <td>54455472</td>\n",
       "      <td>win</td>\n",
       "      <td>59.023326</td>\n",
       "    </tr>\n",
       "    <tr>\n",
       "      <th>135</th>\n",
       "      <td>1988</td>\n",
       "      <td>George H. W. Bush</td>\n",
       "      <td>Republican</td>\n",
       "      <td>48886597</td>\n",
       "      <td>win</td>\n",
       "      <td>53.518845</td>\n",
       "    </tr>\n",
       "    <tr>\n",
       "      <th>140</th>\n",
       "      <td>1992</td>\n",
       "      <td>Bill Clinton</td>\n",
       "      <td>Democratic</td>\n",
       "      <td>44909806</td>\n",
       "      <td>win</td>\n",
       "      <td>43.118485</td>\n",
       "    </tr>\n",
       "    <tr>\n",
       "      <th>144</th>\n",
       "      <td>1996</td>\n",
       "      <td>Bill Clinton</td>\n",
       "      <td>Democratic</td>\n",
       "      <td>47400125</td>\n",
       "      <td>win</td>\n",
       "      <td>49.296938</td>\n",
       "    </tr>\n",
       "  </tbody>\n",
       "</table>\n",
       "</div>"
      ],
      "text/plain": [
       "     Year          Candidate       Party  Popular vote Result          %\n",
       "133  1984      Ronald Reagan  Republican      54455472    win  59.023326\n",
       "135  1988  George H. W. Bush  Republican      48886597    win  53.518845\n",
       "140  1992       Bill Clinton  Democratic      44909806    win  43.118485\n",
       "144  1996       Bill Clinton  Democratic      47400125    win  49.296938"
      ]
     },
     "execution_count": 6,
     "metadata": {},
     "output_type": "execute_result"
    }
   ],
   "source": [
    "# Answer Here\n",
    "a[(a['Year']<2000) & (a['Year']>1980) & (a[\"Result\"]=='win')]"
   ]
  },
  {
   "cell_type": "markdown",
   "metadata": {
    "id": "pkonOW2pPtvR"
   },
   "source": [
    "## Loc and iLoc"
   ]
  },
  {
   "cell_type": "markdown",
   "metadata": {
    "id": "hSiAy9KD5eJk"
   },
   "source": [
    "Show 5 enteries from start"
   ]
  },
  {
   "cell_type": "code",
   "execution_count": 212,
   "metadata": {
    "id": "OIwnpgEM6HeI"
   },
   "outputs": [
    {
     "data": {
      "text/html": [
       "<div>\n",
       "<style scoped>\n",
       "    .dataframe tbody tr th:only-of-type {\n",
       "        vertical-align: middle;\n",
       "    }\n",
       "\n",
       "    .dataframe tbody tr th {\n",
       "        vertical-align: top;\n",
       "    }\n",
       "\n",
       "    .dataframe thead th {\n",
       "        text-align: right;\n",
       "    }\n",
       "</style>\n",
       "<table border=\"1\" class=\"dataframe\">\n",
       "  <thead>\n",
       "    <tr style=\"text-align: right;\">\n",
       "      <th></th>\n",
       "      <th>Year</th>\n",
       "      <th>Candidate</th>\n",
       "      <th>Party</th>\n",
       "      <th>Popular vote</th>\n",
       "      <th>Result</th>\n",
       "      <th>%</th>\n",
       "    </tr>\n",
       "  </thead>\n",
       "  <tbody>\n",
       "    <tr>\n",
       "      <th>0</th>\n",
       "      <td>1824</td>\n",
       "      <td>Andrew Jackson</td>\n",
       "      <td>Democratic-Republican</td>\n",
       "      <td>151271</td>\n",
       "      <td>loss</td>\n",
       "      <td>57.210122</td>\n",
       "    </tr>\n",
       "    <tr>\n",
       "      <th>1</th>\n",
       "      <td>1824</td>\n",
       "      <td>John Quincy Adams</td>\n",
       "      <td>Democratic-Republican</td>\n",
       "      <td>113142</td>\n",
       "      <td>win</td>\n",
       "      <td>42.789878</td>\n",
       "    </tr>\n",
       "    <tr>\n",
       "      <th>2</th>\n",
       "      <td>1828</td>\n",
       "      <td>Andrew Jackson</td>\n",
       "      <td>Democratic</td>\n",
       "      <td>642806</td>\n",
       "      <td>win</td>\n",
       "      <td>56.203927</td>\n",
       "    </tr>\n",
       "    <tr>\n",
       "      <th>3</th>\n",
       "      <td>1828</td>\n",
       "      <td>John Quincy Adams</td>\n",
       "      <td>National Republican</td>\n",
       "      <td>500897</td>\n",
       "      <td>loss</td>\n",
       "      <td>43.796073</td>\n",
       "    </tr>\n",
       "    <tr>\n",
       "      <th>4</th>\n",
       "      <td>1832</td>\n",
       "      <td>Andrew Jackson</td>\n",
       "      <td>Democratic</td>\n",
       "      <td>702735</td>\n",
       "      <td>win</td>\n",
       "      <td>54.574789</td>\n",
       "    </tr>\n",
       "  </tbody>\n",
       "</table>\n",
       "</div>"
      ],
      "text/plain": [
       "   Year          Candidate                  Party  Popular vote Result  \\\n",
       "0  1824     Andrew Jackson  Democratic-Republican        151271   loss   \n",
       "1  1824  John Quincy Adams  Democratic-Republican        113142    win   \n",
       "2  1828     Andrew Jackson             Democratic        642806    win   \n",
       "3  1828  John Quincy Adams    National Republican        500897   loss   \n",
       "4  1832     Andrew Jackson             Democratic        702735    win   \n",
       "\n",
       "           %  \n",
       "0  57.210122  \n",
       "1  42.789878  \n",
       "2  56.203927  \n",
       "3  43.796073  \n",
       "4  54.574789  "
      ]
     },
     "execution_count": 212,
     "metadata": {},
     "output_type": "execute_result"
    }
   ],
   "source": [
    "# Answer Here\n",
    "a.loc[0:4]"
   ]
  },
  {
   "cell_type": "markdown",
   "metadata": {
    "id": "XHhLGedmPtvR"
   },
   "source": [
    "You can provide `.loc` a list of row labels [0-5] and column labels ['Candidate','Party', 'Year'] as input to return a dataframe"
   ]
  },
  {
   "cell_type": "code",
   "execution_count": 213,
   "metadata": {
    "id": "XUZe4G0WPtvR"
   },
   "outputs": [
    {
     "data": {
      "text/html": [
       "<div>\n",
       "<style scoped>\n",
       "    .dataframe tbody tr th:only-of-type {\n",
       "        vertical-align: middle;\n",
       "    }\n",
       "\n",
       "    .dataframe tbody tr th {\n",
       "        vertical-align: top;\n",
       "    }\n",
       "\n",
       "    .dataframe thead th {\n",
       "        text-align: right;\n",
       "    }\n",
       "</style>\n",
       "<table border=\"1\" class=\"dataframe\">\n",
       "  <thead>\n",
       "    <tr style=\"text-align: right;\">\n",
       "      <th></th>\n",
       "      <th>Candidate</th>\n",
       "      <th>Party</th>\n",
       "      <th>Year</th>\n",
       "    </tr>\n",
       "  </thead>\n",
       "  <tbody>\n",
       "    <tr>\n",
       "      <th>0</th>\n",
       "      <td>Andrew Jackson</td>\n",
       "      <td>Democratic-Republican</td>\n",
       "      <td>1824</td>\n",
       "    </tr>\n",
       "    <tr>\n",
       "      <th>1</th>\n",
       "      <td>John Quincy Adams</td>\n",
       "      <td>Democratic-Republican</td>\n",
       "      <td>1824</td>\n",
       "    </tr>\n",
       "    <tr>\n",
       "      <th>2</th>\n",
       "      <td>Andrew Jackson</td>\n",
       "      <td>Democratic</td>\n",
       "      <td>1828</td>\n",
       "    </tr>\n",
       "    <tr>\n",
       "      <th>3</th>\n",
       "      <td>John Quincy Adams</td>\n",
       "      <td>National Republican</td>\n",
       "      <td>1828</td>\n",
       "    </tr>\n",
       "    <tr>\n",
       "      <th>4</th>\n",
       "      <td>Andrew Jackson</td>\n",
       "      <td>Democratic</td>\n",
       "      <td>1832</td>\n",
       "    </tr>\n",
       "    <tr>\n",
       "      <th>5</th>\n",
       "      <td>Henry Clay</td>\n",
       "      <td>National Republican</td>\n",
       "      <td>1832</td>\n",
       "    </tr>\n",
       "  </tbody>\n",
       "</table>\n",
       "</div>"
      ],
      "text/plain": [
       "           Candidate                  Party  Year\n",
       "0     Andrew Jackson  Democratic-Republican  1824\n",
       "1  John Quincy Adams  Democratic-Republican  1824\n",
       "2     Andrew Jackson             Democratic  1828\n",
       "3  John Quincy Adams    National Republican  1828\n",
       "4     Andrew Jackson             Democratic  1832\n",
       "5         Henry Clay    National Republican  1832"
      ]
     },
     "execution_count": 213,
     "metadata": {},
     "output_type": "execute_result"
    }
   ],
   "source": [
    "#Answer Here\n",
    "a.loc[[0,1,2,3,4,5],['Candidate','Party', 'Year']]"
   ]
  },
  {
   "cell_type": "markdown",
   "metadata": {
    "id": "Tw5Er1BCPtvR"
   },
   "source": [
    "Loc also supports **slicing** (for all types, including numeric and string labels!). Note that the slicing for loc is **inclusive**, even for numeric slices.\n",
    "\n",
    "Use Slicing on Rows and Columns"
   ]
  },
  {
   "cell_type": "code",
   "execution_count": 214,
   "metadata": {
    "id": "SXI38aagPtvR",
    "scrolled": true
   },
   "outputs": [
    {
     "data": {
      "text/html": [
       "<div>\n",
       "<style scoped>\n",
       "    .dataframe tbody tr th:only-of-type {\n",
       "        vertical-align: middle;\n",
       "    }\n",
       "\n",
       "    .dataframe tbody tr th {\n",
       "        vertical-align: top;\n",
       "    }\n",
       "\n",
       "    .dataframe thead th {\n",
       "        text-align: right;\n",
       "    }\n",
       "</style>\n",
       "<table border=\"1\" class=\"dataframe\">\n",
       "  <thead>\n",
       "    <tr style=\"text-align: right;\">\n",
       "      <th></th>\n",
       "      <th>Year</th>\n",
       "      <th>Candidate</th>\n",
       "      <th>Party</th>\n",
       "    </tr>\n",
       "  </thead>\n",
       "  <tbody>\n",
       "    <tr>\n",
       "      <th>5</th>\n",
       "      <td>1832</td>\n",
       "      <td>Henry Clay</td>\n",
       "      <td>National Republican</td>\n",
       "    </tr>\n",
       "    <tr>\n",
       "      <th>6</th>\n",
       "      <td>1832</td>\n",
       "      <td>William Wirt</td>\n",
       "      <td>Anti-Masonic</td>\n",
       "    </tr>\n",
       "    <tr>\n",
       "      <th>7</th>\n",
       "      <td>1836</td>\n",
       "      <td>Hugh Lawson White</td>\n",
       "      <td>Whig</td>\n",
       "    </tr>\n",
       "    <tr>\n",
       "      <th>8</th>\n",
       "      <td>1836</td>\n",
       "      <td>Martin Van Buren</td>\n",
       "      <td>Democratic</td>\n",
       "    </tr>\n",
       "    <tr>\n",
       "      <th>9</th>\n",
       "      <td>1836</td>\n",
       "      <td>William Henry Harrison</td>\n",
       "      <td>Whig</td>\n",
       "    </tr>\n",
       "    <tr>\n",
       "      <th>10</th>\n",
       "      <td>1840</td>\n",
       "      <td>Martin Van Buren</td>\n",
       "      <td>Democratic</td>\n",
       "    </tr>\n",
       "  </tbody>\n",
       "</table>\n",
       "</div>"
      ],
      "text/plain": [
       "    Year               Candidate                Party\n",
       "5   1832              Henry Clay  National Republican\n",
       "6   1832            William Wirt         Anti-Masonic\n",
       "7   1836       Hugh Lawson White                 Whig\n",
       "8   1836        Martin Van Buren           Democratic\n",
       "9   1836  William Henry Harrison                 Whig\n",
       "10  1840        Martin Van Buren           Democratic"
      ]
     },
     "execution_count": 214,
     "metadata": {},
     "output_type": "execute_result"
    }
   ],
   "source": [
    "# Answer Here\n",
    "a.loc[5:10,\"Year\":\"Party\"]"
   ]
  },
  {
   "cell_type": "markdown",
   "metadata": {
    "id": "pM5KD0kPPtvR"
   },
   "source": [
    "If we provide only a **single label** for the column argument, we get back a **Series**."
   ]
  },
  {
   "cell_type": "code",
   "execution_count": 215,
   "metadata": {
    "id": "Ps6PUX9_PtvS"
   },
   "outputs": [
    {
     "data": {
      "text/plain": [
       "0      Democratic-Republican\n",
       "1      Democratic-Republican\n",
       "2                 Democratic\n",
       "3        National Republican\n",
       "4                 Democratic\n",
       "               ...          \n",
       "177                    Green\n",
       "178               Democratic\n",
       "179               Republican\n",
       "180              Libertarian\n",
       "181                    Green\n",
       "Name: Party, Length: 182, dtype: object"
      ]
     },
     "execution_count": 215,
     "metadata": {},
     "output_type": "execute_result"
    }
   ],
   "source": [
    "# Answer Here\n",
    "a[\"Party\"]"
   ]
  },
  {
   "cell_type": "markdown",
   "metadata": {
    "id": "z8qglbBwPtvS"
   },
   "source": [
    "If we want a data frame instead and don't want to use to_frame, we can provide a **list** containing the column name."
   ]
  },
  {
   "cell_type": "code",
   "execution_count": 145,
   "metadata": {
    "id": "I9JqZBVMPtvS",
    "scrolled": true
   },
   "outputs": [
    {
     "data": {
      "text/html": [
       "<div>\n",
       "<style scoped>\n",
       "    .dataframe tbody tr th:only-of-type {\n",
       "        vertical-align: middle;\n",
       "    }\n",
       "\n",
       "    .dataframe tbody tr th {\n",
       "        vertical-align: top;\n",
       "    }\n",
       "\n",
       "    .dataframe thead th {\n",
       "        text-align: right;\n",
       "    }\n",
       "</style>\n",
       "<table border=\"1\" class=\"dataframe\">\n",
       "  <thead>\n",
       "    <tr style=\"text-align: right;\">\n",
       "      <th></th>\n",
       "      <th>Result</th>\n",
       "    </tr>\n",
       "  </thead>\n",
       "  <tbody>\n",
       "    <tr>\n",
       "      <th>0</th>\n",
       "      <td>loss</td>\n",
       "    </tr>\n",
       "    <tr>\n",
       "      <th>1</th>\n",
       "      <td>win</td>\n",
       "    </tr>\n",
       "    <tr>\n",
       "      <th>2</th>\n",
       "      <td>win</td>\n",
       "    </tr>\n",
       "    <tr>\n",
       "      <th>3</th>\n",
       "      <td>loss</td>\n",
       "    </tr>\n",
       "    <tr>\n",
       "      <th>4</th>\n",
       "      <td>win</td>\n",
       "    </tr>\n",
       "    <tr>\n",
       "      <th>...</th>\n",
       "      <td>...</td>\n",
       "    </tr>\n",
       "    <tr>\n",
       "      <th>177</th>\n",
       "      <td>loss</td>\n",
       "    </tr>\n",
       "    <tr>\n",
       "      <th>178</th>\n",
       "      <td>win</td>\n",
       "    </tr>\n",
       "    <tr>\n",
       "      <th>179</th>\n",
       "      <td>loss</td>\n",
       "    </tr>\n",
       "    <tr>\n",
       "      <th>180</th>\n",
       "      <td>loss</td>\n",
       "    </tr>\n",
       "    <tr>\n",
       "      <th>181</th>\n",
       "      <td>loss</td>\n",
       "    </tr>\n",
       "  </tbody>\n",
       "</table>\n",
       "<p>182 rows × 1 columns</p>\n",
       "</div>"
      ],
      "text/plain": [
       "    Result\n",
       "0     loss\n",
       "1      win\n",
       "2      win\n",
       "3     loss\n",
       "4      win\n",
       "..     ...\n",
       "177   loss\n",
       "178    win\n",
       "179   loss\n",
       "180   loss\n",
       "181   loss\n",
       "\n",
       "[182 rows x 1 columns]"
      ]
     },
     "execution_count": 145,
     "metadata": {},
     "output_type": "execute_result"
    }
   ],
   "source": [
    "# Answer Here\n",
    "a[['Result']]"
   ]
  },
  {
   "cell_type": "markdown",
   "metadata": {
    "id": "QighByBIPtvS"
   },
   "source": [
    "If we give only one row but many column labels, we'll get back a **Series** corresponding to a row of the table. This new Series has a neat index, where **each entry is the name of the column** that the data came from."
   ]
  },
  {
   "cell_type": "code",
   "execution_count": 8,
   "metadata": {
    "id": "5XT8-_bpPtvS"
   },
   "outputs": [
    {
     "data": {
      "text/plain": [
       "Year                             1824\n",
       "Candidate              Andrew Jackson\n",
       "Party           Democratic-Republican\n",
       "Popular vote                   151271\n",
       "Result                           loss\n",
       "%                           57.210122\n",
       "Name: 0, dtype: object"
      ]
     },
     "execution_count": 8,
     "metadata": {},
     "output_type": "execute_result"
    }
   ],
   "source": [
    "# Answer Here\n",
    "a.loc[0]"
   ]
  },
  {
   "cell_type": "code",
   "execution_count": null,
   "metadata": {
    "id": "hcdTlR8uPtvS"
   },
   "outputs": [],
   "source": [
    "# Answer Here"
   ]
  },
  {
   "cell_type": "markdown",
   "metadata": {
    "id": "oB0GTCT5PtvS"
   },
   "source": [
    "If we omit the column argument altogether, the **default behavior is to retrieve all columns**."
   ]
  },
  {
   "cell_type": "code",
   "execution_count": 151,
   "metadata": {
    "id": "cewKbmCYPtvT"
   },
   "outputs": [
    {
     "data": {
      "text/html": [
       "<div>\n",
       "<style scoped>\n",
       "    .dataframe tbody tr th:only-of-type {\n",
       "        vertical-align: middle;\n",
       "    }\n",
       "\n",
       "    .dataframe tbody tr th {\n",
       "        vertical-align: top;\n",
       "    }\n",
       "\n",
       "    .dataframe thead th {\n",
       "        text-align: right;\n",
       "    }\n",
       "</style>\n",
       "<table border=\"1\" class=\"dataframe\">\n",
       "  <thead>\n",
       "    <tr style=\"text-align: right;\">\n",
       "      <th></th>\n",
       "      <th>Year</th>\n",
       "      <th>Candidate</th>\n",
       "      <th>Party</th>\n",
       "      <th>Popular vote</th>\n",
       "      <th>Result</th>\n",
       "      <th>%</th>\n",
       "    </tr>\n",
       "  </thead>\n",
       "  <tbody>\n",
       "    <tr>\n",
       "      <th>0</th>\n",
       "      <td>1824</td>\n",
       "      <td>Andrew Jackson</td>\n",
       "      <td>Democratic-Republican</td>\n",
       "      <td>151271</td>\n",
       "      <td>loss</td>\n",
       "      <td>57.210122</td>\n",
       "    </tr>\n",
       "    <tr>\n",
       "      <th>1</th>\n",
       "      <td>1824</td>\n",
       "      <td>John Quincy Adams</td>\n",
       "      <td>Democratic-Republican</td>\n",
       "      <td>113142</td>\n",
       "      <td>win</td>\n",
       "      <td>42.789878</td>\n",
       "    </tr>\n",
       "  </tbody>\n",
       "</table>\n",
       "</div>"
      ],
      "text/plain": [
       "   Year          Candidate                  Party  Popular vote Result  \\\n",
       "0  1824     Andrew Jackson  Democratic-Republican        151271   loss   \n",
       "1  1824  John Quincy Adams  Democratic-Republican        113142    win   \n",
       "\n",
       "           %  \n",
       "0  57.210122  \n",
       "1  42.789878  "
      ]
     },
     "execution_count": 151,
     "metadata": {},
     "output_type": "execute_result"
    }
   ],
   "source": [
    "# Answer Here\n",
    "a.loc[[0,1]]"
   ]
  },
  {
   "cell_type": "markdown",
   "metadata": {
    "id": "GIuYoSqH7TYj"
   },
   "source": [
    "Specify Rows and Columns as List to retrive specific enteries"
   ]
  },
  {
   "cell_type": "code",
   "execution_count": 160,
   "metadata": {
    "id": "roAnjNt2PtvT",
    "scrolled": true
   },
   "outputs": [
    {
     "data": {
      "text/html": [
       "<div>\n",
       "<style scoped>\n",
       "    .dataframe tbody tr th:only-of-type {\n",
       "        vertical-align: middle;\n",
       "    }\n",
       "\n",
       "    .dataframe tbody tr th {\n",
       "        vertical-align: top;\n",
       "    }\n",
       "\n",
       "    .dataframe thead th {\n",
       "        text-align: right;\n",
       "    }\n",
       "</style>\n",
       "<table border=\"1\" class=\"dataframe\">\n",
       "  <thead>\n",
       "    <tr style=\"text-align: right;\">\n",
       "      <th></th>\n",
       "      <th>Year</th>\n",
       "      <th>Result</th>\n",
       "    </tr>\n",
       "  </thead>\n",
       "  <tbody>\n",
       "    <tr>\n",
       "      <th>1</th>\n",
       "      <td>1824</td>\n",
       "      <td>win</td>\n",
       "    </tr>\n",
       "    <tr>\n",
       "      <th>2</th>\n",
       "      <td>1828</td>\n",
       "      <td>win</td>\n",
       "    </tr>\n",
       "    <tr>\n",
       "      <th>3</th>\n",
       "      <td>1828</td>\n",
       "      <td>loss</td>\n",
       "    </tr>\n",
       "  </tbody>\n",
       "</table>\n",
       "</div>"
      ],
      "text/plain": [
       "   Year Result\n",
       "1  1824    win\n",
       "2  1828    win\n",
       "3  1828   loss"
      ]
     },
     "execution_count": 160,
     "metadata": {},
     "output_type": "execute_result"
    }
   ],
   "source": [
    "# Answer Here\n",
    "row=[1,2,3]\n",
    "column=[\"Year\",'Result']\n",
    "a.loc[row,column]"
   ]
  },
  {
   "cell_type": "markdown",
   "metadata": {
    "id": "C7Bfwc6gPtvT"
   },
   "source": [
    "Boolean Series are also boolean arrays, so we can use the Boolean Array Selection from earlier using loc as well."
   ]
  },
  {
   "cell_type": "code",
   "execution_count": null,
   "metadata": {
    "id": "Ub9I30OxPtvT"
   },
   "outputs": [],
   "source": [
    "# Answer Here"
   ]
  },
  {
   "cell_type": "markdown",
   "metadata": {
    "id": "533WKwGXPtvT"
   },
   "source": [
    "## String-labeled Rows\n",
    "\n",
    "Let's do a quick example using data with string-labeled rows instead of integer labeled rows, just to make sure we're really understanding loc.\n",
    "\n",
    "Use mottos.csv file"
   ]
  },
  {
   "cell_type": "code",
   "execution_count": 162,
   "metadata": {
    "id": "-y7r7wfBPtvT"
   },
   "outputs": [
    {
     "data": {
      "text/html": [
       "<div>\n",
       "<style scoped>\n",
       "    .dataframe tbody tr th:only-of-type {\n",
       "        vertical-align: middle;\n",
       "    }\n",
       "\n",
       "    .dataframe tbody tr th {\n",
       "        vertical-align: top;\n",
       "    }\n",
       "\n",
       "    .dataframe thead th {\n",
       "        text-align: right;\n",
       "    }\n",
       "</style>\n",
       "<table border=\"1\" class=\"dataframe\">\n",
       "  <thead>\n",
       "    <tr style=\"text-align: right;\">\n",
       "      <th></th>\n",
       "      <th>State</th>\n",
       "      <th>Motto</th>\n",
       "      <th>Translation</th>\n",
       "      <th>Language</th>\n",
       "      <th>Date Adopted</th>\n",
       "    </tr>\n",
       "  </thead>\n",
       "  <tbody>\n",
       "    <tr>\n",
       "      <th>0</th>\n",
       "      <td>Alabama</td>\n",
       "      <td>Audemus jura nostra defendere</td>\n",
       "      <td>We dare defend our rights!</td>\n",
       "      <td>Latin</td>\n",
       "      <td>1923</td>\n",
       "    </tr>\n",
       "    <tr>\n",
       "      <th>1</th>\n",
       "      <td>Alaska</td>\n",
       "      <td>North to the future</td>\n",
       "      <td>—</td>\n",
       "      <td>English</td>\n",
       "      <td>1967</td>\n",
       "    </tr>\n",
       "    <tr>\n",
       "      <th>2</th>\n",
       "      <td>Arizona</td>\n",
       "      <td>Ditat Deus</td>\n",
       "      <td>God enriches</td>\n",
       "      <td>Latin</td>\n",
       "      <td>1863</td>\n",
       "    </tr>\n",
       "    <tr>\n",
       "      <th>3</th>\n",
       "      <td>Arkansas</td>\n",
       "      <td>Regnat populus</td>\n",
       "      <td>The people rule</td>\n",
       "      <td>Latin</td>\n",
       "      <td>1907</td>\n",
       "    </tr>\n",
       "    <tr>\n",
       "      <th>4</th>\n",
       "      <td>California</td>\n",
       "      <td>Eureka (Εὕρηκα)</td>\n",
       "      <td>I have found it</td>\n",
       "      <td>Greek</td>\n",
       "      <td>1849</td>\n",
       "    </tr>\n",
       "    <tr>\n",
       "      <th>5</th>\n",
       "      <td>Colorado</td>\n",
       "      <td>Nil sine numine</td>\n",
       "      <td>Nothing without providence.</td>\n",
       "      <td>Latin</td>\n",
       "      <td>November 6, 1861</td>\n",
       "    </tr>\n",
       "    <tr>\n",
       "      <th>6</th>\n",
       "      <td>Connecticut</td>\n",
       "      <td>Qui transtulit sustinet</td>\n",
       "      <td>He who transplanted sustains</td>\n",
       "      <td>Latin</td>\n",
       "      <td>October 9, 1662</td>\n",
       "    </tr>\n",
       "    <tr>\n",
       "      <th>7</th>\n",
       "      <td>Delaware</td>\n",
       "      <td>Liberty and Independence</td>\n",
       "      <td>—</td>\n",
       "      <td>English</td>\n",
       "      <td>1847</td>\n",
       "    </tr>\n",
       "    <tr>\n",
       "      <th>8</th>\n",
       "      <td>Florida</td>\n",
       "      <td>In God We Trust</td>\n",
       "      <td>—</td>\n",
       "      <td>English</td>\n",
       "      <td>1868</td>\n",
       "    </tr>\n",
       "    <tr>\n",
       "      <th>9</th>\n",
       "      <td>Georgia</td>\n",
       "      <td>Wisdom, Justice, Moderation</td>\n",
       "      <td>—</td>\n",
       "      <td>English</td>\n",
       "      <td>1798</td>\n",
       "    </tr>\n",
       "    <tr>\n",
       "      <th>10</th>\n",
       "      <td>Hawaii</td>\n",
       "      <td>Ua mau ke ea o ka ʻāina i ka pono</td>\n",
       "      <td>The life of the land is perpetuated in righteo...</td>\n",
       "      <td>Hawaiian</td>\n",
       "      <td>July 31, 1843</td>\n",
       "    </tr>\n",
       "    <tr>\n",
       "      <th>11</th>\n",
       "      <td>Idaho</td>\n",
       "      <td>Esto perpetua</td>\n",
       "      <td>Let it be perpetual</td>\n",
       "      <td>Latin</td>\n",
       "      <td>1890</td>\n",
       "    </tr>\n",
       "    <tr>\n",
       "      <th>12</th>\n",
       "      <td>Illinois</td>\n",
       "      <td>State sovereignty, national union</td>\n",
       "      <td>—</td>\n",
       "      <td>English</td>\n",
       "      <td>1819</td>\n",
       "    </tr>\n",
       "    <tr>\n",
       "      <th>13</th>\n",
       "      <td>Indiana</td>\n",
       "      <td>The Crossroads of America</td>\n",
       "      <td>—</td>\n",
       "      <td>English</td>\n",
       "      <td>1937</td>\n",
       "    </tr>\n",
       "    <tr>\n",
       "      <th>14</th>\n",
       "      <td>Iowa</td>\n",
       "      <td>Our liberties we prize and our rights we will ...</td>\n",
       "      <td>—</td>\n",
       "      <td>English</td>\n",
       "      <td>1847</td>\n",
       "    </tr>\n",
       "    <tr>\n",
       "      <th>15</th>\n",
       "      <td>Kansas</td>\n",
       "      <td>Ad astra per aspera</td>\n",
       "      <td>To the stars through difficulties</td>\n",
       "      <td>Latin</td>\n",
       "      <td>1861</td>\n",
       "    </tr>\n",
       "    <tr>\n",
       "      <th>16</th>\n",
       "      <td>Kentucky</td>\n",
       "      <td>Deo gratiam habeamus</td>\n",
       "      <td>Let us be grateful to God</td>\n",
       "      <td>Latin</td>\n",
       "      <td>2002</td>\n",
       "    </tr>\n",
       "    <tr>\n",
       "      <th>17</th>\n",
       "      <td>Louisiana</td>\n",
       "      <td>Union, justice, confidence</td>\n",
       "      <td>—</td>\n",
       "      <td>English</td>\n",
       "      <td>1902</td>\n",
       "    </tr>\n",
       "    <tr>\n",
       "      <th>18</th>\n",
       "      <td>Maine</td>\n",
       "      <td>Dirigo</td>\n",
       "      <td>I lead</td>\n",
       "      <td>Latin</td>\n",
       "      <td>1820</td>\n",
       "    </tr>\n",
       "    <tr>\n",
       "      <th>19</th>\n",
       "      <td>Maryland</td>\n",
       "      <td>Fatti maschii, parole femine</td>\n",
       "      <td>Manly deeds, womanly words</td>\n",
       "      <td>Italian</td>\n",
       "      <td>1874</td>\n",
       "    </tr>\n",
       "    <tr>\n",
       "      <th>20</th>\n",
       "      <td>Massachusetts</td>\n",
       "      <td>Ense petit placidam sub libertate quietem</td>\n",
       "      <td>By the sword we seek peace, but peace only und...</td>\n",
       "      <td>Latin</td>\n",
       "      <td>1775</td>\n",
       "    </tr>\n",
       "    <tr>\n",
       "      <th>21</th>\n",
       "      <td>Michigan</td>\n",
       "      <td>Si quaeris peninsulam amoenam circumspice</td>\n",
       "      <td>If you seek a pleasant peninsula, look about you</td>\n",
       "      <td>Latin</td>\n",
       "      <td>June 2, 1835</td>\n",
       "    </tr>\n",
       "    <tr>\n",
       "      <th>22</th>\n",
       "      <td>Minnesota</td>\n",
       "      <td>L'étoile du Nord</td>\n",
       "      <td>The star of the North</td>\n",
       "      <td>French</td>\n",
       "      <td>1861</td>\n",
       "    </tr>\n",
       "    <tr>\n",
       "      <th>23</th>\n",
       "      <td>Mississippi</td>\n",
       "      <td>Virtute et armis</td>\n",
       "      <td>By valor and arms</td>\n",
       "      <td>Latin</td>\n",
       "      <td>February 7, 1894</td>\n",
       "    </tr>\n",
       "    <tr>\n",
       "      <th>24</th>\n",
       "      <td>Missouri</td>\n",
       "      <td>Salus populi suprema lex esto</td>\n",
       "      <td>Let the welfare of the people be the supreme law</td>\n",
       "      <td>Latin</td>\n",
       "      <td>January 11, 1822</td>\n",
       "    </tr>\n",
       "    <tr>\n",
       "      <th>25</th>\n",
       "      <td>Montana</td>\n",
       "      <td>Oro y plata</td>\n",
       "      <td>Gold and silver</td>\n",
       "      <td>Spanish</td>\n",
       "      <td>February 9, 1865</td>\n",
       "    </tr>\n",
       "    <tr>\n",
       "      <th>26</th>\n",
       "      <td>Nebraska</td>\n",
       "      <td>Equality before the law</td>\n",
       "      <td>—</td>\n",
       "      <td>English</td>\n",
       "      <td>1867</td>\n",
       "    </tr>\n",
       "    <tr>\n",
       "      <th>27</th>\n",
       "      <td>Nevada</td>\n",
       "      <td>All For Our Country</td>\n",
       "      <td>—</td>\n",
       "      <td>English</td>\n",
       "      <td>February 24, 1866</td>\n",
       "    </tr>\n",
       "    <tr>\n",
       "      <th>28</th>\n",
       "      <td>New Hampshire</td>\n",
       "      <td>Live Free or Die</td>\n",
       "      <td>—</td>\n",
       "      <td>English</td>\n",
       "      <td>1945</td>\n",
       "    </tr>\n",
       "    <tr>\n",
       "      <th>29</th>\n",
       "      <td>New Jersey</td>\n",
       "      <td>Liberty and prosperity</td>\n",
       "      <td>—</td>\n",
       "      <td>English</td>\n",
       "      <td>March 26, 1928</td>\n",
       "    </tr>\n",
       "    <tr>\n",
       "      <th>30</th>\n",
       "      <td>New Mexico</td>\n",
       "      <td>Crescit eundo</td>\n",
       "      <td>It grows as it goes</td>\n",
       "      <td>Latin</td>\n",
       "      <td>1887</td>\n",
       "    </tr>\n",
       "    <tr>\n",
       "      <th>31</th>\n",
       "      <td>New York</td>\n",
       "      <td>Excelsior</td>\n",
       "      <td>Ever upward</td>\n",
       "      <td>Latin</td>\n",
       "      <td>1778</td>\n",
       "    </tr>\n",
       "    <tr>\n",
       "      <th>32</th>\n",
       "      <td>North Carolina</td>\n",
       "      <td>Esse quam videri</td>\n",
       "      <td>To be, rather than to seem</td>\n",
       "      <td>Latin</td>\n",
       "      <td>1893</td>\n",
       "    </tr>\n",
       "    <tr>\n",
       "      <th>33</th>\n",
       "      <td>North Dakota</td>\n",
       "      <td>\\nSerit ut alteri saeclo prosit</td>\n",
       "      <td>One sows for the benefit of another age</td>\n",
       "      <td>Latin</td>\n",
       "      <td>March 11, 2011</td>\n",
       "    </tr>\n",
       "    <tr>\n",
       "      <th>34</th>\n",
       "      <td>Ohio</td>\n",
       "      <td>With God, all things are possible</td>\n",
       "      <td>—</td>\n",
       "      <td>English</td>\n",
       "      <td>October 1, 1959</td>\n",
       "    </tr>\n",
       "    <tr>\n",
       "      <th>35</th>\n",
       "      <td>Oklahoma</td>\n",
       "      <td>Labor omnia vincit</td>\n",
       "      <td>Labor conquers all things</td>\n",
       "      <td>Latin</td>\n",
       "      <td>March 10, 1893</td>\n",
       "    </tr>\n",
       "    <tr>\n",
       "      <th>36</th>\n",
       "      <td>Oregon</td>\n",
       "      <td>Alis volat propriis</td>\n",
       "      <td>She flies with her own wings</td>\n",
       "      <td>Latin</td>\n",
       "      <td>1854</td>\n",
       "    </tr>\n",
       "    <tr>\n",
       "      <th>37</th>\n",
       "      <td>Pennsylvania</td>\n",
       "      <td>Virtue, liberty, and independence</td>\n",
       "      <td>—</td>\n",
       "      <td>English</td>\n",
       "      <td>1875</td>\n",
       "    </tr>\n",
       "    <tr>\n",
       "      <th>38</th>\n",
       "      <td>Rhode Island</td>\n",
       "      <td>Hope</td>\n",
       "      <td>—</td>\n",
       "      <td>English</td>\n",
       "      <td>May 4, 1664</td>\n",
       "    </tr>\n",
       "    <tr>\n",
       "      <th>39</th>\n",
       "      <td>South Carolina</td>\n",
       "      <td>Dum spiro spero \\nAnimis opibusque parati</td>\n",
       "      <td>While I breathe, I hope \\nReady in soul and re...</td>\n",
       "      <td>Latin</td>\n",
       "      <td>May 22, 1777</td>\n",
       "    </tr>\n",
       "    <tr>\n",
       "      <th>40</th>\n",
       "      <td>South Dakota</td>\n",
       "      <td>Under God the people rule</td>\n",
       "      <td>—</td>\n",
       "      <td>English</td>\n",
       "      <td>1885</td>\n",
       "    </tr>\n",
       "    <tr>\n",
       "      <th>41</th>\n",
       "      <td>Tennessee</td>\n",
       "      <td>Agriculture and Commerce</td>\n",
       "      <td>—</td>\n",
       "      <td>English</td>\n",
       "      <td>May 24, 1802</td>\n",
       "    </tr>\n",
       "    <tr>\n",
       "      <th>42</th>\n",
       "      <td>Texas</td>\n",
       "      <td>Friendship</td>\n",
       "      <td>—</td>\n",
       "      <td>English</td>\n",
       "      <td>1930</td>\n",
       "    </tr>\n",
       "    <tr>\n",
       "      <th>43</th>\n",
       "      <td>Utah</td>\n",
       "      <td>Industry</td>\n",
       "      <td>NaN</td>\n",
       "      <td>English</td>\n",
       "      <td>May 3, 1896</td>\n",
       "    </tr>\n",
       "    <tr>\n",
       "      <th>44</th>\n",
       "      <td>Vermont</td>\n",
       "      <td>Stella quarta decima fulgeat</td>\n",
       "      <td>May the fourteenth star shine bright</td>\n",
       "      <td>Latin</td>\n",
       "      <td>April 10, 2015</td>\n",
       "    </tr>\n",
       "    <tr>\n",
       "      <th>45</th>\n",
       "      <td>Virginia</td>\n",
       "      <td>Sic semper tyrannis</td>\n",
       "      <td>Thus always to tyrants</td>\n",
       "      <td>Latin</td>\n",
       "      <td>1776</td>\n",
       "    </tr>\n",
       "    <tr>\n",
       "      <th>46</th>\n",
       "      <td>Washington</td>\n",
       "      <td>Al-ki or Alki</td>\n",
       "      <td>By and by</td>\n",
       "      <td>Chinook Jargon</td>\n",
       "      <td>—</td>\n",
       "    </tr>\n",
       "    <tr>\n",
       "      <th>47</th>\n",
       "      <td>West Virginia</td>\n",
       "      <td>Montani semper liberi</td>\n",
       "      <td>Mountaineers are always free</td>\n",
       "      <td>Latin</td>\n",
       "      <td>September 26, 1863</td>\n",
       "    </tr>\n",
       "    <tr>\n",
       "      <th>48</th>\n",
       "      <td>Wisconsin</td>\n",
       "      <td>Forward</td>\n",
       "      <td>—</td>\n",
       "      <td>English</td>\n",
       "      <td>1851</td>\n",
       "    </tr>\n",
       "    <tr>\n",
       "      <th>49</th>\n",
       "      <td>Wyoming</td>\n",
       "      <td>Equal Rights</td>\n",
       "      <td>—</td>\n",
       "      <td>English</td>\n",
       "      <td>1893</td>\n",
       "    </tr>\n",
       "  </tbody>\n",
       "</table>\n",
       "</div>"
      ],
      "text/plain": [
       "             State                                              Motto  \\\n",
       "0          Alabama                      Audemus jura nostra defendere   \n",
       "1           Alaska                                North to the future   \n",
       "2          Arizona                                         Ditat Deus   \n",
       "3         Arkansas                                     Regnat populus   \n",
       "4       California                                    Eureka (Εὕρηκα)   \n",
       "5         Colorado                                    Nil sine numine   \n",
       "6      Connecticut                            Qui transtulit sustinet   \n",
       "7         Delaware                           Liberty and Independence   \n",
       "8          Florida                                    In God We Trust   \n",
       "9          Georgia                        Wisdom, Justice, Moderation   \n",
       "10          Hawaii                  Ua mau ke ea o ka ʻāina i ka pono   \n",
       "11           Idaho                                      Esto perpetua   \n",
       "12        Illinois                  State sovereignty, national union   \n",
       "13         Indiana                          The Crossroads of America   \n",
       "14            Iowa  Our liberties we prize and our rights we will ...   \n",
       "15          Kansas                                Ad astra per aspera   \n",
       "16        Kentucky                               Deo gratiam habeamus   \n",
       "17       Louisiana                         Union, justice, confidence   \n",
       "18           Maine                                             Dirigo   \n",
       "19        Maryland                       Fatti maschii, parole femine   \n",
       "20   Massachusetts          Ense petit placidam sub libertate quietem   \n",
       "21        Michigan          Si quaeris peninsulam amoenam circumspice   \n",
       "22       Minnesota                                   L'étoile du Nord   \n",
       "23     Mississippi                                   Virtute et armis   \n",
       "24        Missouri                      Salus populi suprema lex esto   \n",
       "25         Montana                                        Oro y plata   \n",
       "26        Nebraska                            Equality before the law   \n",
       "27          Nevada                                All For Our Country   \n",
       "28   New Hampshire                                   Live Free or Die   \n",
       "29      New Jersey                             Liberty and prosperity   \n",
       "30      New Mexico                                      Crescit eundo   \n",
       "31        New York                                          Excelsior   \n",
       "32  North Carolina                                   Esse quam videri   \n",
       "33    North Dakota                    \\nSerit ut alteri saeclo prosit   \n",
       "34            Ohio                  With God, all things are possible   \n",
       "35        Oklahoma                                 Labor omnia vincit   \n",
       "36          Oregon                                Alis volat propriis   \n",
       "37    Pennsylvania                  Virtue, liberty, and independence   \n",
       "38    Rhode Island                                               Hope   \n",
       "39  South Carolina          Dum spiro spero \\nAnimis opibusque parati   \n",
       "40    South Dakota                          Under God the people rule   \n",
       "41       Tennessee                           Agriculture and Commerce   \n",
       "42           Texas                                         Friendship   \n",
       "43            Utah                                           Industry   \n",
       "44         Vermont                       Stella quarta decima fulgeat   \n",
       "45        Virginia                                Sic semper tyrannis   \n",
       "46      Washington                                      Al-ki or Alki   \n",
       "47   West Virginia                              Montani semper liberi   \n",
       "48       Wisconsin                                            Forward   \n",
       "49         Wyoming                                       Equal Rights   \n",
       "\n",
       "                                          Translation        Language  \\\n",
       "0                          We dare defend our rights!           Latin   \n",
       "1                                                   —         English   \n",
       "2                                        God enriches           Latin   \n",
       "3                                     The people rule           Latin   \n",
       "4                                     I have found it           Greek   \n",
       "5                         Nothing without providence.           Latin   \n",
       "6                        He who transplanted sustains           Latin   \n",
       "7                                                   —         English   \n",
       "8                                                   —         English   \n",
       "9                                                   —         English   \n",
       "10  The life of the land is perpetuated in righteo...        Hawaiian   \n",
       "11                                Let it be perpetual           Latin   \n",
       "12                                                  —         English   \n",
       "13                                                  —         English   \n",
       "14                                                  —         English   \n",
       "15                  To the stars through difficulties           Latin   \n",
       "16                          Let us be grateful to God           Latin   \n",
       "17                                                  —         English   \n",
       "18                                             I lead           Latin   \n",
       "19                         Manly deeds, womanly words         Italian   \n",
       "20  By the sword we seek peace, but peace only und...           Latin   \n",
       "21   If you seek a pleasant peninsula, look about you           Latin   \n",
       "22                              The star of the North          French   \n",
       "23                                  By valor and arms           Latin   \n",
       "24   Let the welfare of the people be the supreme law           Latin   \n",
       "25                                    Gold and silver         Spanish   \n",
       "26                                                  —         English   \n",
       "27                                                  —         English   \n",
       "28                                                  —         English   \n",
       "29                                                  —         English   \n",
       "30                                It grows as it goes           Latin   \n",
       "31                                        Ever upward           Latin   \n",
       "32                         To be, rather than to seem           Latin   \n",
       "33            One sows for the benefit of another age           Latin   \n",
       "34                                                  —         English   \n",
       "35                          Labor conquers all things           Latin   \n",
       "36                       She flies with her own wings           Latin   \n",
       "37                                                  —         English   \n",
       "38                                                  —         English   \n",
       "39  While I breathe, I hope \\nReady in soul and re...           Latin   \n",
       "40                                                  —         English   \n",
       "41                                                  —         English   \n",
       "42                                                  —         English   \n",
       "43                                                NaN         English   \n",
       "44               May the fourteenth star shine bright           Latin   \n",
       "45                             Thus always to tyrants           Latin   \n",
       "46                                          By and by  Chinook Jargon   \n",
       "47                       Mountaineers are always free           Latin   \n",
       "48                                                  —         English   \n",
       "49                                                  —         English   \n",
       "\n",
       "          Date Adopted  \n",
       "0                 1923  \n",
       "1                 1967  \n",
       "2                 1863  \n",
       "3                 1907  \n",
       "4                 1849  \n",
       "5     November 6, 1861  \n",
       "6      October 9, 1662  \n",
       "7                 1847  \n",
       "8                 1868  \n",
       "9                 1798  \n",
       "10       July 31, 1843  \n",
       "11                1890  \n",
       "12                1819  \n",
       "13                1937  \n",
       "14                1847  \n",
       "15                1861  \n",
       "16                2002  \n",
       "17                1902  \n",
       "18                1820  \n",
       "19                1874  \n",
       "20                1775  \n",
       "21        June 2, 1835  \n",
       "22                1861  \n",
       "23    February 7, 1894  \n",
       "24    January 11, 1822  \n",
       "25    February 9, 1865  \n",
       "26                1867  \n",
       "27   February 24, 1866  \n",
       "28                1945  \n",
       "29      March 26, 1928  \n",
       "30                1887  \n",
       "31                1778  \n",
       "32                1893  \n",
       "33      March 11, 2011  \n",
       "34     October 1, 1959  \n",
       "35      March 10, 1893  \n",
       "36                1854  \n",
       "37                1875  \n",
       "38         May 4, 1664  \n",
       "39        May 22, 1777  \n",
       "40                1885  \n",
       "41        May 24, 1802  \n",
       "42                1930  \n",
       "43         May 3, 1896  \n",
       "44      April 10, 2015  \n",
       "45                1776  \n",
       "46                   —  \n",
       "47  September 26, 1863  \n",
       "48                1851  \n",
       "49                1893  "
      ]
     },
     "execution_count": 162,
     "metadata": {},
     "output_type": "execute_result"
    }
   ],
   "source": [
    "# Answer Here\n",
    "mottos = pd.read_csv('sets/mottos.csv')\n",
    "mottos"
   ]
  },
  {
   "cell_type": "markdown",
   "metadata": {
    "id": "8E1olDerPtvT"
   },
   "source": [
    "Extract slice, can be specified using slice notation, even if the rows have string labels instead of integer labels."
   ]
  },
  {
   "cell_type": "markdown",
   "metadata": {
    "id": "9meAs22VPtvU"
   },
   "source": [
    "### iloc"
   ]
  },
  {
   "cell_type": "markdown",
   "metadata": {
    "id": "Kgz9kKXLPtvU"
   },
   "source": [
    "loc's cousin iloc is very similar, but is used to access based on numerical position instead of label. For example, to access to the top 3 rows and top 3 columns of a table, we can use [0:3, 0:3]. 'iloc' slicing is **exclusive**, just like standard Python slicing of numerical values.\n",
    "\n",
    "Use iloc to extract first 3 rows and columns from elections DataFrame"
   ]
  },
  {
   "cell_type": "code",
   "execution_count": 163,
   "metadata": {
    "id": "TveQUq2oPtvU"
   },
   "outputs": [
    {
     "data": {
      "text/html": [
       "<div>\n",
       "<style scoped>\n",
       "    .dataframe tbody tr th:only-of-type {\n",
       "        vertical-align: middle;\n",
       "    }\n",
       "\n",
       "    .dataframe tbody tr th {\n",
       "        vertical-align: top;\n",
       "    }\n",
       "\n",
       "    .dataframe thead th {\n",
       "        text-align: right;\n",
       "    }\n",
       "</style>\n",
       "<table border=\"1\" class=\"dataframe\">\n",
       "  <thead>\n",
       "    <tr style=\"text-align: right;\">\n",
       "      <th></th>\n",
       "      <th>State</th>\n",
       "      <th>Motto</th>\n",
       "      <th>Translation</th>\n",
       "    </tr>\n",
       "  </thead>\n",
       "  <tbody>\n",
       "    <tr>\n",
       "      <th>0</th>\n",
       "      <td>Alabama</td>\n",
       "      <td>Audemus jura nostra defendere</td>\n",
       "      <td>We dare defend our rights!</td>\n",
       "    </tr>\n",
       "    <tr>\n",
       "      <th>1</th>\n",
       "      <td>Alaska</td>\n",
       "      <td>North to the future</td>\n",
       "      <td>—</td>\n",
       "    </tr>\n",
       "    <tr>\n",
       "      <th>2</th>\n",
       "      <td>Arizona</td>\n",
       "      <td>Ditat Deus</td>\n",
       "      <td>God enriches</td>\n",
       "    </tr>\n",
       "  </tbody>\n",
       "</table>\n",
       "</div>"
      ],
      "text/plain": [
       "     State                          Motto                 Translation\n",
       "0  Alabama  Audemus jura nostra defendere  We dare defend our rights!\n",
       "1   Alaska            North to the future                           —\n",
       "2  Arizona                     Ditat Deus                God enriches"
      ]
     },
     "execution_count": 163,
     "metadata": {},
     "output_type": "execute_result"
    }
   ],
   "source": [
    "#Answer Here\n",
    "mottos.iloc[0:3, 0:3]"
   ]
  },
  {
   "cell_type": "markdown",
   "metadata": {
    "id": "d75cITKiPtvV"
   },
   "source": [
    "We will use both `loc` and `iloc` in the course. `loc` is generally preferred for a number of reasons, for example:\n",
    "\n",
    "1. It is harder to make mistakes since you have to literally write out what you want to get.\n",
    "2. Code is easier to read, because the reader doesn't have to know e.g., what column #17 represents.\n",
    "3. It is robust against permutations of the data, e.g. the social security administration switches the order of two columns.\n",
    "\n",
    "However, iloc is sometimes more convenient. We'll provide examples of when iloc is the superior choice."
   ]
  },
  {
   "cell_type": "markdown",
   "metadata": {
    "id": "Sj-li9oQPtvV"
   },
   "source": [
    "## Handy Properties and Utility Functions for Series and DataFrames"
   ]
  },
  {
   "cell_type": "markdown",
   "metadata": {
    "id": "2D6yrBvcPtvV"
   },
   "source": [
    "The head, shape, size, and describe methods can be used to quickly get a good sense of the data we're working with. For example:"
   ]
  },
  {
   "cell_type": "code",
   "execution_count": 5,
   "metadata": {
    "id": "I2c3ON6BPtvV"
   },
   "outputs": [],
   "source": [
    "mottos = pd.read_csv(\"/content/drive/MyDrive/mottos.csv\")"
   ]
  },
  {
   "cell_type": "code",
   "execution_count": null,
   "metadata": {
    "id": "3lj5YSbzPtvV"
   },
   "outputs": [],
   "source": [
    "# Answer Here"
   ]
  },
  {
   "cell_type": "markdown",
   "metadata": {
    "id": "bQSKGPxTroVf"
   },
   "source": [
    "Size of DataFrame"
   ]
  },
  {
   "cell_type": "code",
   "execution_count": 164,
   "metadata": {
    "id": "iGVtW1YEPtvV"
   },
   "outputs": [
    {
     "data": {
      "text/plain": [
       "250"
      ]
     },
     "execution_count": 164,
     "metadata": {},
     "output_type": "execute_result"
    }
   ],
   "source": [
    "# Answer Here\n",
    "mottos.size"
   ]
  },
  {
   "cell_type": "markdown",
   "metadata": {
    "id": "PB4R3k_6PtvW"
   },
   "source": [
    "The fact that the size is 250 means our data file is relatively small, with only 250 total entries.\n",
    "\n",
    "Shape of DataFrame"
   ]
  },
  {
   "cell_type": "code",
   "execution_count": 165,
   "metadata": {
    "id": "dBaU7nMNPtvW"
   },
   "outputs": [
    {
     "data": {
      "text/plain": [
       "(50, 5)"
      ]
     },
     "execution_count": 165,
     "metadata": {},
     "output_type": "execute_result"
    }
   ],
   "source": [
    "# Answer Here\n",
    "mottos.shape"
   ]
  },
  {
   "cell_type": "markdown",
   "metadata": {
    "id": "NevFNt3_PtvW"
   },
   "source": [
    "Use describe function and extract the meaningful information from DataFrame"
   ]
  },
  {
   "cell_type": "code",
   "execution_count": 166,
   "metadata": {
    "id": "7T7Xg4wePtvW"
   },
   "outputs": [
    {
     "data": {
      "text/plain": [
       "<bound method NDFrame.describe of              State                                              Motto  \\\n",
       "0          Alabama                      Audemus jura nostra defendere   \n",
       "1           Alaska                                North to the future   \n",
       "2          Arizona                                         Ditat Deus   \n",
       "3         Arkansas                                     Regnat populus   \n",
       "4       California                                    Eureka (Εὕρηκα)   \n",
       "5         Colorado                                    Nil sine numine   \n",
       "6      Connecticut                            Qui transtulit sustinet   \n",
       "7         Delaware                           Liberty and Independence   \n",
       "8          Florida                                    In God We Trust   \n",
       "9          Georgia                        Wisdom, Justice, Moderation   \n",
       "10          Hawaii                  Ua mau ke ea o ka ʻāina i ka pono   \n",
       "11           Idaho                                      Esto perpetua   \n",
       "12        Illinois                  State sovereignty, national union   \n",
       "13         Indiana                          The Crossroads of America   \n",
       "14            Iowa  Our liberties we prize and our rights we will ...   \n",
       "15          Kansas                                Ad astra per aspera   \n",
       "16        Kentucky                               Deo gratiam habeamus   \n",
       "17       Louisiana                         Union, justice, confidence   \n",
       "18           Maine                                             Dirigo   \n",
       "19        Maryland                       Fatti maschii, parole femine   \n",
       "20   Massachusetts          Ense petit placidam sub libertate quietem   \n",
       "21        Michigan          Si quaeris peninsulam amoenam circumspice   \n",
       "22       Minnesota                                   L'étoile du Nord   \n",
       "23     Mississippi                                   Virtute et armis   \n",
       "24        Missouri                      Salus populi suprema lex esto   \n",
       "25         Montana                                        Oro y plata   \n",
       "26        Nebraska                            Equality before the law   \n",
       "27          Nevada                                All For Our Country   \n",
       "28   New Hampshire                                   Live Free or Die   \n",
       "29      New Jersey                             Liberty and prosperity   \n",
       "30      New Mexico                                      Crescit eundo   \n",
       "31        New York                                          Excelsior   \n",
       "32  North Carolina                                   Esse quam videri   \n",
       "33    North Dakota                    \\nSerit ut alteri saeclo prosit   \n",
       "34            Ohio                  With God, all things are possible   \n",
       "35        Oklahoma                                 Labor omnia vincit   \n",
       "36          Oregon                                Alis volat propriis   \n",
       "37    Pennsylvania                  Virtue, liberty, and independence   \n",
       "38    Rhode Island                                               Hope   \n",
       "39  South Carolina          Dum spiro spero \\nAnimis opibusque parati   \n",
       "40    South Dakota                          Under God the people rule   \n",
       "41       Tennessee                           Agriculture and Commerce   \n",
       "42           Texas                                         Friendship   \n",
       "43            Utah                                           Industry   \n",
       "44         Vermont                       Stella quarta decima fulgeat   \n",
       "45        Virginia                                Sic semper tyrannis   \n",
       "46      Washington                                      Al-ki or Alki   \n",
       "47   West Virginia                              Montani semper liberi   \n",
       "48       Wisconsin                                            Forward   \n",
       "49         Wyoming                                       Equal Rights   \n",
       "\n",
       "                                          Translation        Language  \\\n",
       "0                          We dare defend our rights!           Latin   \n",
       "1                                                   —         English   \n",
       "2                                        God enriches           Latin   \n",
       "3                                     The people rule           Latin   \n",
       "4                                     I have found it           Greek   \n",
       "5                         Nothing without providence.           Latin   \n",
       "6                        He who transplanted sustains           Latin   \n",
       "7                                                   —         English   \n",
       "8                                                   —         English   \n",
       "9                                                   —         English   \n",
       "10  The life of the land is perpetuated in righteo...        Hawaiian   \n",
       "11                                Let it be perpetual           Latin   \n",
       "12                                                  —         English   \n",
       "13                                                  —         English   \n",
       "14                                                  —         English   \n",
       "15                  To the stars through difficulties           Latin   \n",
       "16                          Let us be grateful to God           Latin   \n",
       "17                                                  —         English   \n",
       "18                                             I lead           Latin   \n",
       "19                         Manly deeds, womanly words         Italian   \n",
       "20  By the sword we seek peace, but peace only und...           Latin   \n",
       "21   If you seek a pleasant peninsula, look about you           Latin   \n",
       "22                              The star of the North          French   \n",
       "23                                  By valor and arms           Latin   \n",
       "24   Let the welfare of the people be the supreme law           Latin   \n",
       "25                                    Gold and silver         Spanish   \n",
       "26                                                  —         English   \n",
       "27                                                  —         English   \n",
       "28                                                  —         English   \n",
       "29                                                  —         English   \n",
       "30                                It grows as it goes           Latin   \n",
       "31                                        Ever upward           Latin   \n",
       "32                         To be, rather than to seem           Latin   \n",
       "33            One sows for the benefit of another age           Latin   \n",
       "34                                                  —         English   \n",
       "35                          Labor conquers all things           Latin   \n",
       "36                       She flies with her own wings           Latin   \n",
       "37                                                  —         English   \n",
       "38                                                  —         English   \n",
       "39  While I breathe, I hope \\nReady in soul and re...           Latin   \n",
       "40                                                  —         English   \n",
       "41                                                  —         English   \n",
       "42                                                  —         English   \n",
       "43                                                NaN         English   \n",
       "44               May the fourteenth star shine bright           Latin   \n",
       "45                             Thus always to tyrants           Latin   \n",
       "46                                          By and by  Chinook Jargon   \n",
       "47                       Mountaineers are always free           Latin   \n",
       "48                                                  —         English   \n",
       "49                                                  —         English   \n",
       "\n",
       "          Date Adopted  \n",
       "0                 1923  \n",
       "1                 1967  \n",
       "2                 1863  \n",
       "3                 1907  \n",
       "4                 1849  \n",
       "5     November 6, 1861  \n",
       "6      October 9, 1662  \n",
       "7                 1847  \n",
       "8                 1868  \n",
       "9                 1798  \n",
       "10       July 31, 1843  \n",
       "11                1890  \n",
       "12                1819  \n",
       "13                1937  \n",
       "14                1847  \n",
       "15                1861  \n",
       "16                2002  \n",
       "17                1902  \n",
       "18                1820  \n",
       "19                1874  \n",
       "20                1775  \n",
       "21        June 2, 1835  \n",
       "22                1861  \n",
       "23    February 7, 1894  \n",
       "24    January 11, 1822  \n",
       "25    February 9, 1865  \n",
       "26                1867  \n",
       "27   February 24, 1866  \n",
       "28                1945  \n",
       "29      March 26, 1928  \n",
       "30                1887  \n",
       "31                1778  \n",
       "32                1893  \n",
       "33      March 11, 2011  \n",
       "34     October 1, 1959  \n",
       "35      March 10, 1893  \n",
       "36                1854  \n",
       "37                1875  \n",
       "38         May 4, 1664  \n",
       "39        May 22, 1777  \n",
       "40                1885  \n",
       "41        May 24, 1802  \n",
       "42                1930  \n",
       "43         May 3, 1896  \n",
       "44      April 10, 2015  \n",
       "45                1776  \n",
       "46                   —  \n",
       "47  September 26, 1863  \n",
       "48                1851  \n",
       "49                1893  >"
      ]
     },
     "execution_count": 166,
     "metadata": {},
     "output_type": "execute_result"
    }
   ],
   "source": [
    "# Answer Here\n",
    "mottos.describe"
   ]
  },
  {
   "cell_type": "markdown",
   "metadata": {
    "id": "jEAxyt57PtvW"
   },
   "source": [
    "Above, we see a quick summary of all the data. For example, the most common language for mottos is Latin, which covers 23 different states. Does anything else seem surprising?"
   ]
  },
  {
   "cell_type": "markdown",
   "metadata": {
    "id": "5Sz84ZcoPtvX"
   },
   "source": [
    "We can get a direct reference to the index using .index."
   ]
  },
  {
   "cell_type": "code",
   "execution_count": 170,
   "metadata": {
    "id": "Oc8PNHQSPtvX"
   },
   "outputs": [
    {
     "data": {
      "text/plain": [
       "RangeIndex(start=0, stop=50, step=1)"
      ]
     },
     "execution_count": 170,
     "metadata": {},
     "output_type": "execute_result"
    }
   ],
   "source": [
    "# Answer Here\n",
    "mottos.index"
   ]
  },
  {
   "cell_type": "code",
   "execution_count": 171,
   "metadata": {
    "id": "fHrsk46BPtvX"
   },
   "outputs": [
    {
     "data": {
      "text/html": [
       "<div>\n",
       "<style scoped>\n",
       "    .dataframe tbody tr th:only-of-type {\n",
       "        vertical-align: middle;\n",
       "    }\n",
       "\n",
       "    .dataframe tbody tr th {\n",
       "        vertical-align: top;\n",
       "    }\n",
       "\n",
       "    .dataframe thead th {\n",
       "        text-align: right;\n",
       "    }\n",
       "</style>\n",
       "<table border=\"1\" class=\"dataframe\">\n",
       "  <thead>\n",
       "    <tr style=\"text-align: right;\">\n",
       "      <th></th>\n",
       "      <th>State</th>\n",
       "      <th>Motto</th>\n",
       "      <th>Translation</th>\n",
       "      <th>Language</th>\n",
       "      <th>Date Adopted</th>\n",
       "    </tr>\n",
       "  </thead>\n",
       "  <tbody>\n",
       "    <tr>\n",
       "      <th>0</th>\n",
       "      <td>Alabama</td>\n",
       "      <td>Audemus jura nostra defendere</td>\n",
       "      <td>We dare defend our rights!</td>\n",
       "      <td>Latin</td>\n",
       "      <td>1923</td>\n",
       "    </tr>\n",
       "    <tr>\n",
       "      <th>1</th>\n",
       "      <td>Alaska</td>\n",
       "      <td>North to the future</td>\n",
       "      <td>—</td>\n",
       "      <td>English</td>\n",
       "      <td>1967</td>\n",
       "    </tr>\n",
       "  </tbody>\n",
       "</table>\n",
       "</div>"
      ],
      "text/plain": [
       "     State                          Motto                 Translation  \\\n",
       "0  Alabama  Audemus jura nostra defendere  We dare defend our rights!   \n",
       "1   Alaska            North to the future                           —   \n",
       "\n",
       "  Language Date Adopted  \n",
       "0    Latin         1923  \n",
       "1  English         1967  "
      ]
     },
     "execution_count": 171,
     "metadata": {},
     "output_type": "execute_result"
    }
   ],
   "source": [
    "mottos.head(2)"
   ]
  },
  {
   "cell_type": "markdown",
   "metadata": {
    "id": "IZRgHL-cPtvX"
   },
   "source": [
    "It turns out the columns also have an Index. We can access this index by using `.columns`."
   ]
  },
  {
   "cell_type": "code",
   "execution_count": 172,
   "metadata": {
    "colab": {
     "base_uri": "https://localhost:8080/"
    },
    "id": "b3uXufYwPtvX",
    "outputId": "c97a8be0-cdf1-4ace-da34-8ed493a72928"
   },
   "outputs": [
    {
     "data": {
      "text/plain": [
       "Index(['State', 'Motto', 'Translation', 'Language', 'Date Adopted'], dtype='object')"
      ]
     },
     "execution_count": 172,
     "metadata": {},
     "output_type": "execute_result"
    }
   ],
   "source": [
    "# Answer Here\n",
    "mottos.columns"
   ]
  },
  {
   "cell_type": "markdown",
   "metadata": {
    "id": "vfqTqtXjPtvY"
   },
   "source": [
    "## Sorting and Value Counts\n",
    "\n",
    "There are also a ton of useful utility methods we can use with Data Frames and Series. For example, we can create a copy of a data frame sorted by a specific column using `sort_values`."
   ]
  },
  {
   "cell_type": "code",
   "execution_count": 173,
   "metadata": {
    "id": "ioH43WI_PtvY"
   },
   "outputs": [
    {
     "data": {
      "text/plain": [
       "<bound method DataFrame.sort_values of              State                                              Motto  \\\n",
       "0          Alabama                      Audemus jura nostra defendere   \n",
       "1           Alaska                                North to the future   \n",
       "2          Arizona                                         Ditat Deus   \n",
       "3         Arkansas                                     Regnat populus   \n",
       "4       California                                    Eureka (Εὕρηκα)   \n",
       "5         Colorado                                    Nil sine numine   \n",
       "6      Connecticut                            Qui transtulit sustinet   \n",
       "7         Delaware                           Liberty and Independence   \n",
       "8          Florida                                    In God We Trust   \n",
       "9          Georgia                        Wisdom, Justice, Moderation   \n",
       "10          Hawaii                  Ua mau ke ea o ka ʻāina i ka pono   \n",
       "11           Idaho                                      Esto perpetua   \n",
       "12        Illinois                  State sovereignty, national union   \n",
       "13         Indiana                          The Crossroads of America   \n",
       "14            Iowa  Our liberties we prize and our rights we will ...   \n",
       "15          Kansas                                Ad astra per aspera   \n",
       "16        Kentucky                               Deo gratiam habeamus   \n",
       "17       Louisiana                         Union, justice, confidence   \n",
       "18           Maine                                             Dirigo   \n",
       "19        Maryland                       Fatti maschii, parole femine   \n",
       "20   Massachusetts          Ense petit placidam sub libertate quietem   \n",
       "21        Michigan          Si quaeris peninsulam amoenam circumspice   \n",
       "22       Minnesota                                   L'étoile du Nord   \n",
       "23     Mississippi                                   Virtute et armis   \n",
       "24        Missouri                      Salus populi suprema lex esto   \n",
       "25         Montana                                        Oro y plata   \n",
       "26        Nebraska                            Equality before the law   \n",
       "27          Nevada                                All For Our Country   \n",
       "28   New Hampshire                                   Live Free or Die   \n",
       "29      New Jersey                             Liberty and prosperity   \n",
       "30      New Mexico                                      Crescit eundo   \n",
       "31        New York                                          Excelsior   \n",
       "32  North Carolina                                   Esse quam videri   \n",
       "33    North Dakota                    \\nSerit ut alteri saeclo prosit   \n",
       "34            Ohio                  With God, all things are possible   \n",
       "35        Oklahoma                                 Labor omnia vincit   \n",
       "36          Oregon                                Alis volat propriis   \n",
       "37    Pennsylvania                  Virtue, liberty, and independence   \n",
       "38    Rhode Island                                               Hope   \n",
       "39  South Carolina          Dum spiro spero \\nAnimis opibusque parati   \n",
       "40    South Dakota                          Under God the people rule   \n",
       "41       Tennessee                           Agriculture and Commerce   \n",
       "42           Texas                                         Friendship   \n",
       "43            Utah                                           Industry   \n",
       "44         Vermont                       Stella quarta decima fulgeat   \n",
       "45        Virginia                                Sic semper tyrannis   \n",
       "46      Washington                                      Al-ki or Alki   \n",
       "47   West Virginia                              Montani semper liberi   \n",
       "48       Wisconsin                                            Forward   \n",
       "49         Wyoming                                       Equal Rights   \n",
       "\n",
       "                                          Translation        Language  \\\n",
       "0                          We dare defend our rights!           Latin   \n",
       "1                                                   —         English   \n",
       "2                                        God enriches           Latin   \n",
       "3                                     The people rule           Latin   \n",
       "4                                     I have found it           Greek   \n",
       "5                         Nothing without providence.           Latin   \n",
       "6                        He who transplanted sustains           Latin   \n",
       "7                                                   —         English   \n",
       "8                                                   —         English   \n",
       "9                                                   —         English   \n",
       "10  The life of the land is perpetuated in righteo...        Hawaiian   \n",
       "11                                Let it be perpetual           Latin   \n",
       "12                                                  —         English   \n",
       "13                                                  —         English   \n",
       "14                                                  —         English   \n",
       "15                  To the stars through difficulties           Latin   \n",
       "16                          Let us be grateful to God           Latin   \n",
       "17                                                  —         English   \n",
       "18                                             I lead           Latin   \n",
       "19                         Manly deeds, womanly words         Italian   \n",
       "20  By the sword we seek peace, but peace only und...           Latin   \n",
       "21   If you seek a pleasant peninsula, look about you           Latin   \n",
       "22                              The star of the North          French   \n",
       "23                                  By valor and arms           Latin   \n",
       "24   Let the welfare of the people be the supreme law           Latin   \n",
       "25                                    Gold and silver         Spanish   \n",
       "26                                                  —         English   \n",
       "27                                                  —         English   \n",
       "28                                                  —         English   \n",
       "29                                                  —         English   \n",
       "30                                It grows as it goes           Latin   \n",
       "31                                        Ever upward           Latin   \n",
       "32                         To be, rather than to seem           Latin   \n",
       "33            One sows for the benefit of another age           Latin   \n",
       "34                                                  —         English   \n",
       "35                          Labor conquers all things           Latin   \n",
       "36                       She flies with her own wings           Latin   \n",
       "37                                                  —         English   \n",
       "38                                                  —         English   \n",
       "39  While I breathe, I hope \\nReady in soul and re...           Latin   \n",
       "40                                                  —         English   \n",
       "41                                                  —         English   \n",
       "42                                                  —         English   \n",
       "43                                                NaN         English   \n",
       "44               May the fourteenth star shine bright           Latin   \n",
       "45                             Thus always to tyrants           Latin   \n",
       "46                                          By and by  Chinook Jargon   \n",
       "47                       Mountaineers are always free           Latin   \n",
       "48                                                  —         English   \n",
       "49                                                  —         English   \n",
       "\n",
       "          Date Adopted  \n",
       "0                 1923  \n",
       "1                 1967  \n",
       "2                 1863  \n",
       "3                 1907  \n",
       "4                 1849  \n",
       "5     November 6, 1861  \n",
       "6      October 9, 1662  \n",
       "7                 1847  \n",
       "8                 1868  \n",
       "9                 1798  \n",
       "10       July 31, 1843  \n",
       "11                1890  \n",
       "12                1819  \n",
       "13                1937  \n",
       "14                1847  \n",
       "15                1861  \n",
       "16                2002  \n",
       "17                1902  \n",
       "18                1820  \n",
       "19                1874  \n",
       "20                1775  \n",
       "21        June 2, 1835  \n",
       "22                1861  \n",
       "23    February 7, 1894  \n",
       "24    January 11, 1822  \n",
       "25    February 9, 1865  \n",
       "26                1867  \n",
       "27   February 24, 1866  \n",
       "28                1945  \n",
       "29      March 26, 1928  \n",
       "30                1887  \n",
       "31                1778  \n",
       "32                1893  \n",
       "33      March 11, 2011  \n",
       "34     October 1, 1959  \n",
       "35      March 10, 1893  \n",
       "36                1854  \n",
       "37                1875  \n",
       "38         May 4, 1664  \n",
       "39        May 22, 1777  \n",
       "40                1885  \n",
       "41        May 24, 1802  \n",
       "42                1930  \n",
       "43         May 3, 1896  \n",
       "44      April 10, 2015  \n",
       "45                1776  \n",
       "46                   —  \n",
       "47  September 26, 1863  \n",
       "48                1851  \n",
       "49                1893  >"
      ]
     },
     "execution_count": 173,
     "metadata": {},
     "output_type": "execute_result"
    }
   ],
   "source": [
    "# Answer Here\n",
    "mottos.sort_values"
   ]
  },
  {
   "cell_type": "markdown",
   "metadata": {
    "id": "LwW2YK8gPtvY"
   },
   "source": [
    "As mentioned before, all Data Frame methods return a copy and do **not** modify the original data structure, unless you set inplace to True."
   ]
  },
  {
   "cell_type": "markdown",
   "metadata": {
    "id": "tMqlf3Q8PtvY"
   },
   "source": [
    "If we want to sort in reverse order, we can set `ascending=False`."
   ]
  },
  {
   "cell_type": "code",
   "execution_count": 174,
   "metadata": {
    "id": "-Cx7vHzKPtvY"
   },
   "outputs": [
    {
     "data": {
      "text/html": [
       "<div>\n",
       "<style scoped>\n",
       "    .dataframe tbody tr th:only-of-type {\n",
       "        vertical-align: middle;\n",
       "    }\n",
       "\n",
       "    .dataframe tbody tr th {\n",
       "        vertical-align: top;\n",
       "    }\n",
       "\n",
       "    .dataframe thead th {\n",
       "        text-align: right;\n",
       "    }\n",
       "</style>\n",
       "<table border=\"1\" class=\"dataframe\">\n",
       "  <thead>\n",
       "    <tr style=\"text-align: right;\">\n",
       "      <th></th>\n",
       "      <th>Year</th>\n",
       "      <th>Candidate</th>\n",
       "      <th>Party</th>\n",
       "      <th>Popular vote</th>\n",
       "      <th>Result</th>\n",
       "      <th>%</th>\n",
       "    </tr>\n",
       "  </thead>\n",
       "  <tbody>\n",
       "    <tr>\n",
       "      <th>114</th>\n",
       "      <td>1964</td>\n",
       "      <td>Lyndon Johnson</td>\n",
       "      <td>Democratic</td>\n",
       "      <td>43127041</td>\n",
       "      <td>win</td>\n",
       "      <td>61.344703</td>\n",
       "    </tr>\n",
       "    <tr>\n",
       "      <th>91</th>\n",
       "      <td>1936</td>\n",
       "      <td>Franklin Roosevelt</td>\n",
       "      <td>Democratic</td>\n",
       "      <td>27752648</td>\n",
       "      <td>win</td>\n",
       "      <td>60.978107</td>\n",
       "    </tr>\n",
       "    <tr>\n",
       "      <th>120</th>\n",
       "      <td>1972</td>\n",
       "      <td>Richard Nixon</td>\n",
       "      <td>Republican</td>\n",
       "      <td>47168710</td>\n",
       "      <td>win</td>\n",
       "      <td>60.907806</td>\n",
       "    </tr>\n",
       "    <tr>\n",
       "      <th>79</th>\n",
       "      <td>1920</td>\n",
       "      <td>Warren Harding</td>\n",
       "      <td>Republican</td>\n",
       "      <td>16144093</td>\n",
       "      <td>win</td>\n",
       "      <td>60.574501</td>\n",
       "    </tr>\n",
       "    <tr>\n",
       "      <th>133</th>\n",
       "      <td>1984</td>\n",
       "      <td>Ronald Reagan</td>\n",
       "      <td>Republican</td>\n",
       "      <td>54455472</td>\n",
       "      <td>win</td>\n",
       "      <td>59.023326</td>\n",
       "    </tr>\n",
       "    <tr>\n",
       "      <th>...</th>\n",
       "      <td>...</td>\n",
       "      <td>...</td>\n",
       "      <td>...</td>\n",
       "      <td>...</td>\n",
       "      <td>...</td>\n",
       "      <td>...</td>\n",
       "    </tr>\n",
       "    <tr>\n",
       "      <th>165</th>\n",
       "      <td>2008</td>\n",
       "      <td>Cynthia McKinney</td>\n",
       "      <td>Green</td>\n",
       "      <td>161797</td>\n",
       "      <td>loss</td>\n",
       "      <td>0.123442</td>\n",
       "    </tr>\n",
       "    <tr>\n",
       "      <th>148</th>\n",
       "      <td>1996</td>\n",
       "      <td>John Hagelin</td>\n",
       "      <td>Natural Law</td>\n",
       "      <td>113670</td>\n",
       "      <td>loss</td>\n",
       "      <td>0.118219</td>\n",
       "    </tr>\n",
       "    <tr>\n",
       "      <th>160</th>\n",
       "      <td>2004</td>\n",
       "      <td>Michael Peroutka</td>\n",
       "      <td>Constitution</td>\n",
       "      <td>143630</td>\n",
       "      <td>loss</td>\n",
       "      <td>0.117542</td>\n",
       "    </tr>\n",
       "    <tr>\n",
       "      <th>141</th>\n",
       "      <td>1992</td>\n",
       "      <td>Bo Gritz</td>\n",
       "      <td>Populist</td>\n",
       "      <td>106152</td>\n",
       "      <td>loss</td>\n",
       "      <td>0.101918</td>\n",
       "    </tr>\n",
       "    <tr>\n",
       "      <th>156</th>\n",
       "      <td>2004</td>\n",
       "      <td>David Cobb</td>\n",
       "      <td>Green</td>\n",
       "      <td>119859</td>\n",
       "      <td>loss</td>\n",
       "      <td>0.098088</td>\n",
       "    </tr>\n",
       "  </tbody>\n",
       "</table>\n",
       "<p>182 rows × 6 columns</p>\n",
       "</div>"
      ],
      "text/plain": [
       "     Year           Candidate         Party  Popular vote Result          %\n",
       "114  1964      Lyndon Johnson    Democratic      43127041    win  61.344703\n",
       "91   1936  Franklin Roosevelt    Democratic      27752648    win  60.978107\n",
       "120  1972       Richard Nixon    Republican      47168710    win  60.907806\n",
       "79   1920      Warren Harding    Republican      16144093    win  60.574501\n",
       "133  1984       Ronald Reagan    Republican      54455472    win  59.023326\n",
       "..    ...                 ...           ...           ...    ...        ...\n",
       "165  2008    Cynthia McKinney         Green        161797   loss   0.123442\n",
       "148  1996        John Hagelin   Natural Law        113670   loss   0.118219\n",
       "160  2004    Michael Peroutka  Constitution        143630   loss   0.117542\n",
       "141  1992            Bo Gritz      Populist        106152   loss   0.101918\n",
       "156  2004          David Cobb         Green        119859   loss   0.098088\n",
       "\n",
       "[182 rows x 6 columns]"
      ]
     },
     "execution_count": 174,
     "metadata": {},
     "output_type": "execute_result"
    }
   ],
   "source": [
    "a.sort_values('%', ascending=False)"
   ]
  },
  {
   "cell_type": "markdown",
   "metadata": {
    "id": "l88QC8yvPtvZ"
   },
   "source": [
    "We can also use `sort_values` on Series objects."
   ]
  },
  {
   "cell_type": "code",
   "execution_count": 176,
   "metadata": {
    "id": "4wTi414QPtva"
   },
   "outputs": [
    {
     "data": {
      "text/plain": [
       "25           Spanish\n",
       "18             Latin\n",
       "47             Latin\n",
       "45             Latin\n",
       "44             Latin\n",
       "39             Latin\n",
       "36             Latin\n",
       "35             Latin\n",
       "33             Latin\n",
       "32             Latin\n",
       "31             Latin\n",
       "30             Latin\n",
       "24             Latin\n",
       "23             Latin\n",
       "21             Latin\n",
       "20             Latin\n",
       "0              Latin\n",
       "11             Latin\n",
       "15             Latin\n",
       "2              Latin\n",
       "3              Latin\n",
       "6              Latin\n",
       "16             Latin\n",
       "5              Latin\n",
       "19           Italian\n",
       "10          Hawaiian\n",
       "4              Greek\n",
       "22            French\n",
       "17           English\n",
       "38           English\n",
       "43           English\n",
       "40           English\n",
       "41           English\n",
       "42           English\n",
       "48           English\n",
       "37           English\n",
       "8            English\n",
       "7            English\n",
       "34           English\n",
       "9            English\n",
       "29           English\n",
       "28           English\n",
       "27           English\n",
       "26           English\n",
       "1            English\n",
       "12           English\n",
       "13           English\n",
       "14           English\n",
       "49           English\n",
       "46    Chinook Jargon\n",
       "Name: Language, dtype: object"
      ]
     },
     "execution_count": 176,
     "metadata": {},
     "output_type": "execute_result"
    }
   ],
   "source": [
    "mottos['Language'].sort_values(ascending=False).head(50)"
   ]
  },
  {
   "cell_type": "markdown",
   "metadata": {
    "id": "8_4EHw_lPtvb"
   },
   "source": [
    "For Series, the `value_counts` method is often quite handy."
   ]
  },
  {
   "cell_type": "code",
   "execution_count": 185,
   "metadata": {
    "id": "qO1Uxnw3Ptvb"
   },
   "outputs": [
    {
     "data": {
      "text/plain": [
       "Latin             23\n",
       "English           21\n",
       "Greek              1\n",
       "Hawaiian           1\n",
       "Italian            1\n",
       "French             1\n",
       "Spanish            1\n",
       "Chinook Jargon     1\n",
       "Name: Language, dtype: int64"
      ]
     },
     "execution_count": 185,
     "metadata": {},
     "output_type": "execute_result"
    }
   ],
   "source": [
    "mottos['Language'].value_counts()"
   ]
  },
  {
   "cell_type": "markdown",
   "metadata": {
    "id": "l1fAovTpPtvb"
   },
   "source": [
    "Also commonly used is the `unique` method, which returns **all unique values** as a numpy array."
   ]
  },
  {
   "cell_type": "code",
   "execution_count": 186,
   "metadata": {
    "id": "_ToE_vqVPtvb"
   },
   "outputs": [
    {
     "data": {
      "text/plain": [
       "array(['Latin', 'English', 'Greek', 'Hawaiian', 'Italian', 'French',\n",
       "       'Spanish', 'Chinook Jargon'], dtype=object)"
      ]
     },
     "execution_count": 186,
     "metadata": {},
     "output_type": "execute_result"
    }
   ],
   "source": [
    "mottos['Language'].unique()"
   ]
  },
  {
   "cell_type": "code",
   "execution_count": 187,
   "metadata": {
    "colab": {
     "base_uri": "https://localhost:8080/"
    },
    "id": "HAYgnI5ZPtvb",
    "outputId": "fe2327f2-b209-45fe-dc98-b866fe139dd9"
   },
   "outputs": [
    {
     "data": {
      "text/plain": [
       "5"
      ]
     },
     "execution_count": 187,
     "metadata": {},
     "output_type": "execute_result"
    }
   ],
   "source": [
    "def fiba(n):\n",
    "    if n < 2:\n",
    "        return n\n",
    "    else:\n",
    "        return fiba(n-1) + fiba(n-2)\n",
    "\n",
    "\n",
    "\n",
    "fiba(5)"
   ]
  },
  {
   "cell_type": "markdown",
   "metadata": {
    "id": "nyvmtSviPtvc"
   },
   "source": [
    "# Thank you!"
   ]
  }
 ],
 "metadata": {
  "colab": {
   "provenance": []
  },
  "kernelspec": {
   "display_name": "Python 3 (ipykernel)",
   "language": "python",
   "name": "python3"
  },
  "language_info": {
   "codemirror_mode": {
    "name": "ipython",
    "version": 3
   },
   "file_extension": ".py",
   "mimetype": "text/x-python",
   "name": "python",
   "nbconvert_exporter": "python",
   "pygments_lexer": "ipython3",
   "version": "3.10.9"
  },
  "vscode": {
   "interpreter": {
    "hash": "7a3d88c904243d2c3f246166597f86d1c0a39f3d97496d1fe394945d0c6d436d"
   }
  }
 },
 "nbformat": 4,
 "nbformat_minor": 1
}
