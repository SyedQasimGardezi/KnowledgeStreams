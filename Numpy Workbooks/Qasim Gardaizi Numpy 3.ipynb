{
 "cells": [
  {
   "cell_type": "code",
   "execution_count": 107,
   "id": "2a8a0fa8-ceee-4b65-9739-39bdbf33d23c",
   "metadata": {
    "id": "2a8a0fa8-ceee-4b65-9739-39bdbf33d23c"
   },
   "outputs": [],
   "source": [
    "import numpy as np"
   ]
  },
  {
   "cell_type": "markdown",
   "id": "6cd94836-36bf-4eca-a68c-4d4afb52ef7d",
   "metadata": {
    "id": "6cd94836-36bf-4eca-a68c-4d4afb52ef7d"
   },
   "source": [
    "# Q1"
   ]
  },
  {
   "cell_type": "markdown",
   "id": "26a82645-942a-40ba-9d5b-a58c65d27817",
   "metadata": {
    "id": "26a82645-942a-40ba-9d5b-a58c65d27817"
   },
   "source": [
    "Statement: Given a 3D NumPy array arr of shape (2, 3, 4), write a code snippet to calculate the sum of all elements in the array.\n",
    "\n",
    "Sample Input:"
   ]
  },
  {
   "cell_type": "code",
   "execution_count": 108,
   "id": "dbf71bf2-1ac9-48f3-96fb-5f22ad767b29",
   "metadata": {
    "id": "dbf71bf2-1ac9-48f3-96fb-5f22ad767b29"
   },
   "outputs": [
    {
     "data": {
      "text/plain": [
       "276"
      ]
     },
     "execution_count": 108,
     "metadata": {},
     "output_type": "execute_result"
    }
   ],
   "source": [
    "# Answer Here\n",
    "a = np.arange(24).reshape(2, 3, 4)\n",
    "np.sum(a)"
   ]
  },
  {
   "cell_type": "markdown",
   "id": "14bd52a2-86d8-4ef6-b1ee-de66e9703458",
   "metadata": {
    "id": "14bd52a2-86d8-4ef6-b1ee-de66e9703458"
   },
   "source": [
    "# Q2"
   ]
  },
  {
   "cell_type": "markdown",
   "id": "9a536e77-25c6-4b63-906b-7aa8eaaa073e",
   "metadata": {
    "id": "9a536e77-25c6-4b63-906b-7aa8eaaa073e"
   },
   "source": [
    "Statement: Write a NumPy code snippet to create a 4D array arr of shape (2, 3, 4, 5) filled with random integers ranging from 0 to 9.\n",
    "\n",
    "Sample Output:"
   ]
  },
  {
   "cell_type": "code",
   "execution_count": 109,
   "id": "5602b3f2-13e2-4585-9870-9bc07563c60e",
   "metadata": {
    "id": "5602b3f2-13e2-4585-9870-9bc07563c60e"
   },
   "outputs": [
    {
     "data": {
      "text/plain": [
       "array([[[[4, 7, 5, 0, 0],\n",
       "         [6, 1, 0, 4, 8],\n",
       "         [7, 3, 4, 1, 3],\n",
       "         [2, 6, 9, 9, 0]],\n",
       "\n",
       "        [[8, 8, 4, 4, 4],\n",
       "         [2, 1, 5, 5, 5],\n",
       "         [0, 3, 0, 7, 7],\n",
       "         [9, 4, 7, 5, 4]],\n",
       "\n",
       "        [[3, 9, 8, 0, 3],\n",
       "         [6, 7, 2, 4, 4],\n",
       "         [5, 1, 4, 9, 4],\n",
       "         [2, 2, 5, 5, 1]]],\n",
       "\n",
       "\n",
       "       [[[9, 8, 6, 5, 4],\n",
       "         [4, 7, 1, 3, 6],\n",
       "         [4, 3, 0, 8, 0],\n",
       "         [0, 3, 5, 8, 5]],\n",
       "\n",
       "        [[5, 4, 7, 2, 4],\n",
       "         [9, 7, 6, 9, 3],\n",
       "         [6, 8, 3, 1, 9],\n",
       "         [1, 0, 1, 8, 5]],\n",
       "\n",
       "        [[5, 6, 8, 1, 3],\n",
       "         [1, 6, 4, 8, 4],\n",
       "         [5, 0, 7, 0, 6],\n",
       "         [1, 9, 5, 9, 6]]]])"
      ]
     },
     "execution_count": 109,
     "metadata": {},
     "output_type": "execute_result"
    }
   ],
   "source": [
    "# Answer Here\n",
    "b = np.random.randint(10,size=(2,3,4,5))\n",
    "b"
   ]
  },
  {
   "cell_type": "markdown",
   "id": "540f8d57-6cc0-4e53-8744-787e868276a4",
   "metadata": {
    "id": "540f8d57-6cc0-4e53-8744-787e868276a4"
   },
   "source": [
    "# Q3"
   ]
  },
  {
   "cell_type": "markdown",
   "id": "37497bad-10e3-4c65-b4f6-65bb5ed0b00d",
   "metadata": {
    "id": "37497bad-10e3-4c65-b4f6-65bb5ed0b00d"
   },
   "source": [
    "Statement: Given a 4D NumPy array arr of shape (2, 3, 4, 5), write a code snippet to calculate the mean along the second axis.\n",
    "\n",
    "Sample Input:"
   ]
  },
  {
   "cell_type": "code",
   "execution_count": 110,
   "id": "84df3761-5341-4010-b541-6a79a1b74625",
   "metadata": {
    "id": "84df3761-5341-4010-b541-6a79a1b74625"
   },
   "outputs": [
    {
     "data": {
      "text/plain": [
       "array([[[5.        , 8.        , 5.66666667, 1.33333333, 2.33333333],\n",
       "        [4.66666667, 3.        , 2.33333333, 4.33333333, 5.66666667],\n",
       "        [4.        , 2.33333333, 2.66666667, 5.66666667, 4.66666667],\n",
       "        [4.33333333, 4.        , 7.        , 6.33333333, 1.66666667]],\n",
       "\n",
       "       [[6.33333333, 6.        , 7.        , 2.66666667, 3.66666667],\n",
       "        [4.66666667, 6.66666667, 3.66666667, 6.66666667, 4.33333333],\n",
       "        [5.        , 3.66666667, 3.33333333, 3.        , 5.        ],\n",
       "        [0.66666667, 4.        , 3.66666667, 8.33333333, 5.33333333]]])"
      ]
     },
     "execution_count": 110,
     "metadata": {},
     "output_type": "execute_result"
    }
   ],
   "source": [
    "# Answer Here\n",
    "np.mean(b,axis=1)"
   ]
  },
  {
   "cell_type": "markdown",
   "id": "9d4cd387-ca18-4951-a1ab-63a7a1f80a0d",
   "metadata": {
    "id": "9d4cd387-ca18-4951-a1ab-63a7a1f80a0d"
   },
   "source": [
    "# Q4"
   ]
  },
  {
   "cell_type": "markdown",
   "id": "768891f0-dd85-4a6b-a336-31061a30945f",
   "metadata": {
    "id": "768891f0-dd85-4a6b-a336-31061a30945f"
   },
   "source": [
    "Statement: You have collected data from a temperature sensor placed at different locations over a period of time. The recorded temperatures are stored in a 3D NumPy array temps of shape (7, 24, 60), where the dimensions represent the number of days, hours in a day, and minutes in an hour, respectively. Write a code snippet to calculate the average temperature for each day.\n",
    "\n",
    "Sample Input:"
   ]
  },
  {
   "cell_type": "code",
   "execution_count": 111,
   "id": "905df96f-ee7f-410f-adae-88758871af96",
   "metadata": {
    "id": "905df96f-ee7f-410f-adae-88758871af96"
   },
   "outputs": [],
   "source": [
    "# Answer Here\n",
    "temp = np.random.randint(30,50,size=(7,24,60))\n",
    "x = np.mean(temp,axis=(1,2))"
   ]
  },
  {
   "cell_type": "markdown",
   "id": "f8913844-39a1-4d9b-a434-7af478336f20",
   "metadata": {
    "id": "f8913844-39a1-4d9b-a434-7af478336f20"
   },
   "source": [
    "Sample Output:\n",
    "\n",
    "array([27.43864059, 26.99643944, 27.10398301, 27.43854821, 26.81072977,\n",
    "       26.76581481, 27.07946152])"
   ]
  },
  {
   "cell_type": "markdown",
   "id": "55a224ca-01c9-4b13-8bc9-1db7269a35d5",
   "metadata": {
    "id": "55a224ca-01c9-4b13-8bc9-1db7269a35d5"
   },
   "source": [
    "# Q5"
   ]
  },
  {
   "cell_type": "markdown",
   "id": "af5efd9b-ff4f-4ae1-af9a-da9bf621d3bd",
   "metadata": {
    "id": "af5efd9b-ff4f-4ae1-af9a-da9bf621d3bd"
   },
   "source": [
    "Statement: You have collected data from multiple sensors placed in different rooms of a building. The sensor readings are stored in a 4D NumPy array readings of shape (4, 7, 24, 60), where the dimensions represent the number of sensors, number of days, hours in a day, and minutes in an hour, respectively. Write a code snippet to calculate the maximum reading for each sensor across all days."
   ]
  },
  {
   "cell_type": "code",
   "execution_count": 112,
   "id": "79873e69-35ad-4bde-ba48-cf33218b1dc2",
   "metadata": {
    "id": "79873e69-35ad-4bde-ba48-cf33218b1dc2"
   },
   "outputs": [
    {
     "data": {
      "text/plain": [
       "array([49, 49, 49, 49])"
      ]
     },
     "execution_count": 112,
     "metadata": {},
     "output_type": "execute_result"
    }
   ],
   "source": [
    "# Answer Here\n",
    "temp2 = np.random.randint(30,50,size=(4,7,24,60))\n",
    "np.max(temp2,axis=(1,2,3))"
   ]
  },
  {
   "cell_type": "markdown",
   "id": "e8ca2836-0977-4b11-a214-a93630131927",
   "metadata": {
    "id": "e8ca2836-0977-4b11-a214-a93630131927"
   },
   "source": [
    "# Q6"
   ]
  },
  {
   "cell_type": "markdown",
   "id": "b324cb33-b481-4cf8-a148-9292ec382a8c",
   "metadata": {
    "id": "b324cb33-b481-4cf8-a148-9292ec382a8c"
   },
   "source": [
    "Statement: You have collected data from a 3D printer that measures the dimensions of printed objects. The recorded dimensions are stored in a 3D NumPy array dimensions of shape (100, 50, 3), where the dimensions represent the number of printed objects, number of measurements for each object, and the three dimensions (length, width, height), respectively. Write a code snippet to calculate the average length, width, and height across all objects.\n",
    "\n",
    "Sample Input:"
   ]
  },
  {
   "cell_type": "code",
   "execution_count": 113,
   "id": "d1199cf1-5f47-45f5-a090-615021490d8e",
   "metadata": {
    "id": "d1199cf1-5f47-45f5-a090-615021490d8e"
   },
   "outputs": [
    {
     "name": "stdout",
     "output_type": "stream",
     "text": [
      "length =  4.5686\n",
      "width =  4.5732\n",
      "height =  4.4584\n"
     ]
    }
   ],
   "source": [
    "# Answer Here\n",
    "x=np.random.randint(0,10,size=(100,50,3))\n",
    "dimensions=np.mean(x,axis=(0,1))\n",
    "print(\"length = \",dimensions[0])\n",
    "print(\"width = \",dimensions[1])\n",
    "print(\"height = \",dimensions[2])"
   ]
  },
  {
   "cell_type": "markdown",
   "id": "a3c20cfa-7ad6-437b-8837-1eabded47ac7",
   "metadata": {
    "id": "a3c20cfa-7ad6-437b-8837-1eabded47ac7"
   },
   "source": [
    "# Q7"
   ]
  },
  {
   "cell_type": "markdown",
   "id": "c5c5e835-2d6d-4bec-a700-4125e2ea7375",
   "metadata": {
    "id": "c5c5e835-2d6d-4bec-a700-4125e2ea7375"
   },
   "source": [
    "Statement: You are given a 3D NumPy array data of shape (5, 6, 7) representing the sensor readings from multiple sensors placed in different locations over a period of time. Each sensor provides measurements at different time points. Write a code snippet to calculate the following statistics for each sensor:\n",
    "\n",
    "Total number of measurements\n",
    "\n",
    "Average measurement value\n",
    "\n",
    "Standard deviation of measurements\n",
    "\n",
    "Minimum measurement value\n",
    "\n",
    "Maximum measurement value\n",
    "\n",
    "Sample Input:"
   ]
  },
  {
   "cell_type": "code",
   "execution_count": 114,
   "id": "46256376-8395-460c-a736-71a83252e47f",
   "metadata": {
    "id": "46256376-8395-460c-a736-71a83252e47f"
   },
   "outputs": [
    {
     "name": "stdout",
     "output_type": "stream",
     "text": [
      "Total Measurements: 210\n",
      "Avg Measurement: 39.4\n",
      "Standrad Deviation: 5.696448350465737\n",
      "Min Measurement: 30\n",
      "Max Measurement: 49\n"
     ]
    }
   ],
   "source": [
    "# Answer Here\n",
    "y = np.random.randint(30,50,size=(5,6,7))\n",
    "print(\"Total Measurements:\",np.size(y))\n",
    "print(\"Avg Measurement:\",np.mean(y))\n",
    "print(\"Standrad Deviation:\",np.std(y))\n",
    "print(\"Min Measurement:\",np.min(y))\n",
    "print(\"Max Measurement:\",np.max(y))"
   ]
  },
  {
   "cell_type": "markdown",
   "id": "1dfa970d",
   "metadata": {
    "id": "87f085a1-fec3-40e5-90db-d535c0de01c0"
   },
   "source": [
    "## randn()\n",
    "### The numpy.random.randn() function creates an array of specified shape and fills it with random values as per standard normal distribution. "
   ]
  },
  {
   "cell_type": "markdown",
   "id": "28b09e37",
   "metadata": {},
   "source": [
    "## randint()\n",
    "### Return random integers "
   ]
  },
  {
   "cell_type": "code",
   "execution_count": null,
   "id": "ae2992ff",
   "metadata": {},
   "outputs": [],
   "source": []
  }
 ],
 "metadata": {
  "colab": {
   "provenance": []
  },
  "kernelspec": {
   "display_name": "Python 3 (ipykernel)",
   "language": "python",
   "name": "python3"
  },
  "language_info": {
   "codemirror_mode": {
    "name": "ipython",
    "version": 3
   },
   "file_extension": ".py",
   "mimetype": "text/x-python",
   "name": "python",
   "nbconvert_exporter": "python",
   "pygments_lexer": "ipython3",
   "version": "3.10.9"
  }
 },
 "nbformat": 4,
 "nbformat_minor": 5
}
