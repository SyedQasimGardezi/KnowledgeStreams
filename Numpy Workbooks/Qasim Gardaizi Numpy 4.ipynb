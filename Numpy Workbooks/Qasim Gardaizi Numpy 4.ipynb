{
 "cells": [
  {
   "cell_type": "code",
   "execution_count": 1,
   "metadata": {
    "id": "qQxFQvrEEKqm"
   },
   "outputs": [],
   "source": [
    "import numpy as np"
   ]
  },
  {
   "cell_type": "code",
   "execution_count": 3,
   "metadata": {
    "colab": {
     "base_uri": "https://localhost:8080/"
    },
    "id": "n_ncJAFDEbs1",
    "outputId": "07fee65b-a02f-48ae-bd3b-6535c4eb3341"
   },
   "outputs": [
    {
     "name": "stdout",
     "output_type": "stream",
     "text": [
      "Drive already mounted at /content/drive; to attempt to forcibly remount, call drive.mount(\"/content/drive\", force_remount=True).\n"
     ]
    }
   ],
   "source": [
    "from google.colab import drive\n",
    "drive.mount('/content/drive')"
   ]
  },
  {
   "cell_type": "markdown",
   "metadata": {
    "id": "5dL78wl-ElhS"
   },
   "source": [
    "# Q.1\n",
    "**Statement:** You are working with a retail store that needs to manage its inventory efficiently. They have provided you with a dataset containing information about products, their quantities in stock, and the number of units sold daily for the past week. Total number of products are 5. Your task is to calculate the following:\n",
    "\n",
    "\n",
    "\n",
    "1.The total sales for each product over the past week.\n",
    "\n",
    "2.The average daily sales for each product.\n",
    "\n",
    "3.The product with the highest sales.\n",
    "\n",
    "4.The product with the lowest sales.\n",
    "\n",
    "5.The total sales for all products combined.\n",
    "\n",
    "You are required to use NumPy for efficient data processing and calculations. Write code to solve this inventory management problem."
   ]
  },
  {
   "cell_type": "code",
   "execution_count": 2,
   "metadata": {
    "colab": {
     "base_uri": "https://localhost:8080/"
    },
    "id": "DxtXsLXRVpdW",
    "outputId": "40de5dcf-9716-49fb-f80d-663521b7ddfc"
   },
   "outputs": [
    {
     "name": "stdout",
     "output_type": "stream",
     "text": [
      "Total Sales:  [175  72 205 204 210]\n",
      "Average Daily Sale:  [25.         10.28571429 29.28571429 29.14285714 30.        ]\n",
      "Highest Sales:  210\n",
      "Lowest Sales:  72\n",
      "Total of all Products: 866\n"
     ]
    }
   ],
   "source": [
    "import numpy as np\n",
    "\n",
    "# Sample data (replace with your actual data)\n",
    "product_names = np.array(['Product A', 'Product B', 'Product C', 'Product D', 'Product E'])\n",
    "quantities_in_stock = np.array([100, 150, 200, 250, 50])\n",
    "\n",
    "daily_sales_data = np.array([[10, 15, 20, 25, 30, 35, 40],\n",
    "                             [5, 7, 8, 10, 12, 14, 16],\n",
    "                             [15, 20, 25, 30, 35, 40, 40],\n",
    "                             [12, 25, 20, 40, 20, 32, 55],\n",
    "                             [15, 20, 25, 30, 35, 40, 45]])\n",
    "\n",
    "# Calculate total sales revenue for each product over the past week\n",
    "x=np.sum(daily_sales_data,axis=1)\n",
    "print(\"Total Sales: \",x)\n",
    "\n",
    "# Calculate average daily sales for each product\n",
    "print(\"Average Daily Sale: \",np.mean(daily_sales_data,axis=1))\n",
    "\n",
    "# Find the product with the highest and lowest sales\n",
    "print(\"Highest Sales: \",np.max(x))\n",
    "print(\"Lowest Sales: \",np.min(x))\n",
    "\n",
    "# Calculate the total sales revenue for all products combined\n",
    "print(\"Total of all Products:\",np.sum(daily_sales_data ))"
   ]
  },
  {
   "cell_type": "markdown",
   "metadata": {
    "id": "ICk1qoQHVwDc"
   },
   "source": [
    "# Q.2\n",
    "**Statement:** Statement: You are working with a manufacturing plant that produces various components. They have provided you with data on the production rates of five different machines over the past month. Your task is to analyze the performance of these machines by calculating the following metrics:\n",
    "\n",
    "1.The total production output for each machine over the past month.\n",
    "\n",
    "2.The average daily production rate for each machine.\n",
    "\n",
    "3.The machine with the highest total production output.\n",
    "\n",
    "4.The machine with the lowest total production output.\n",
    "\n",
    "The overall production efficiency of the plant, which is defined as the ratio of the total production output to the total number of hours worked, and working hour for each day is 2 hours."
   ]
  },
  {
   "cell_type": "code",
   "execution_count": 3,
   "metadata": {
    "colab": {
     "base_uri": "https://localhost:8080/"
    },
    "id": "lIu6pfmgbUQd",
    "outputId": "b5c4d442-b015-4da6-92ce-fd8c5d72ba21"
   },
   "outputs": [
    {
     "name": "stdout",
     "output_type": "stream",
     "text": [
      "[[132 109 179 125 117 173 109 125 117 182 179 162 134 170 123 106 186 176\n",
      "  163 159 108 177 111 193 170 141 184 194 154 119]\n",
      " [106 171 133 118 196 118 146 109 128 109 147 198 179 153 110 121 173 152\n",
      "  140 118 136 108 153 134 107 194 171 106 176 129]\n",
      " [124 139 180 141 114 134 172 179 140 131 103 108 115 109 137 156 181 176\n",
      "  122 161 180 149 183 184 175 133 200 181 115 109]\n",
      " [146 194 109 120 177 173 198 101 199 148 102 176 152 132 192 163 150 165\n",
      "  165 112 194 167 150 189 150 100 132 154 139 151]\n",
      " [109 180 123 107 162 172 162 177 182 128 164 107 194 124 198 121 165 140\n",
      "  198 101 159 176 133 157 105 131 194 120 107 164]]\n",
      "Total Output for each Machine [4477 4239 4431 4600 4460]\n",
      "Average Output for each Machine [149.23333333 141.3        147.7        153.33333333 148.66666667]\n",
      "Highest 4600\n",
      "Lowest 4239\n",
      "Overall Output 22207\n",
      "Max 989\n"
     ]
    }
   ],
   "source": [
    "\n",
    "\n",
    "# Sample data (replace with your actual data)\n",
    "\n",
    "\n",
    "# Generate random production rates between 100 and 200 for 5 machines and 30 days\n",
    "data = np.random.randint(100,201,size=(5,30))\n",
    "print(data)\n",
    "\n",
    "# Calculate total production output for each machine over the past month\n",
    "\n",
    "print(\"Total Output for each Machine\",np.sum(data,axis=1))\n",
    "# Calculate average daily production rate for each machine\n",
    "print(\"Average Output for each Machine\",np.mean(data,axis=1))\n",
    "\n",
    "# Find the machine with the highest and lowest total production output\n",
    "print(\"Highest\",np.max(np.sum(data,axis=1)))\n",
    "print(\"Lowest\",np.min(np.sum(data,axis=1)))\n",
    "\n",
    "# Calculate the overall production efficiency of the plant\n",
    "print(\"Overall Output\",np.sum(data))\n",
    "print(\"Max\",np.sum(np.max(data,axis=1)))\n",
    "\n",
    "\n"
   ]
  },
  {
   "cell_type": "markdown",
   "metadata": {
    "id": "Ayc9TG-vff7A"
   },
   "source": [
    "# Q3:\n",
    "\n",
    "**Statment**\n",
    "You are working on a project that involves simulating sensor data for a network of 10 sensors over a period of 15 days. Each sensor collects data once per hour. Your task is to generate a NumPy array named sensor_data to represent this simulated sensor data and perform following statistical analysis on it.\n",
    "\n",
    "Populate the sensor_data array with random floating-point values between 0.0 and 100.0\n",
    "The generated values should represent sensor readings collected once per hour.\n",
    "\n",
    "After generating the sensor_data array, perform the following statistical **calculations:**\n",
    "\n",
    "1.Calculate the mean (average) sensor reading for each sensor over the 15 days.\n",
    "\n",
    "2.Calculate the standard deviation of sensor readings for each sensor.\n",
    "\n",
    "3.Calculate the maximum sensor reading for each sensor.\n",
    "\n",
    "4.Calculate the minimum sensor reading for each sensor.\n",
    "\n",
    "5.Calculate the overall mean sensor reading for all sensors and all days.\n",
    "\n",
    "6.Calculate the overall standard deviation of sensor readings for all sensors an"
   ]
  },
  {
   "cell_type": "code",
   "execution_count": 4,
   "metadata": {
    "colab": {
     "base_uri": "https://localhost:8080/"
    },
    "id": "TWSK9GA1gfz0",
    "outputId": "ffd786c8-75f1-4b0f-97df-0f9595df8e50"
   },
   "outputs": [
    {
     "name": "stdout",
     "output_type": "stream",
     "text": [
      "Mean of each sensor for 15 days [48.08401635 48.86634652 49.25811166 50.78056585 50.13273815 48.22963613\n",
      " 47.19471749 46.67612183 51.60641706 50.21493342]\n",
      "Std of each sensor [28.32397773 27.37816431 28.89757092 28.10738192 29.89917386 30.22855547\n",
      " 28.631958   28.14024375 28.89795573 29.10139501]\n",
      "Max of each sensor [99.58243144 99.79487747 99.97787989 99.82432222 99.72740763 99.90096454\n",
      " 99.80055492 99.64091524 99.71572297 99.7511375 ]\n",
      "Min of each sensor [0.33201025 0.58965118 0.2528751  0.03876143 0.02882197 0.56401895\n",
      " 0.18939477 0.09188105 0.18338507 0.23421494]\n",
      "Overall Mean 49.10436044435537\n",
      "Overall STD 28.81157433284273\n"
     ]
    }
   ],
   "source": [
    "import numpy as np\n",
    "\n",
    "# Data Generation Requirements\n",
    "num_sensors = 10\n",
    "num_days = 15\n",
    "hours_per_day = 24\n",
    "shape = (num_sensors, num_days * hours_per_day)\n",
    "\n",
    "random_array = np.random.uniform(0.0, 100.0, shape)\n",
    "print(\"Mean of each sensor for 15 days\",np.mean(random_array,axis=(1)))\n",
    "print(\"Std of each sensor\",np.std(random_array,axis=(1)))\n",
    "print(\"Max of each sensor\",np.max(random_array,axis=(1)))\n",
    "print(\"Min of each sensor\",np.min(random_array,axis=(1)))\n",
    "print(\"Overall Mean\",np.mean(random_array))\n",
    "print(\"Overall STD\",np.std(random_array))\n",
    "\n"
   ]
  },
  {
   "cell_type": "markdown",
   "metadata": {
    "id": "IShr0NSyhcEc"
   },
   "source": [
    "# Q4:\n",
    "\n",
    "**Statement**: You are tasked with analyzing the exam scores of 30 students in a class over a period of 10 exams. The exam scores are represented as a NumPy, where each row corresponds to a different student, and each column represents their score in a specific exam.\n",
    "\n",
    "Populate the exam_scores array with random integer values between 50 and 100 to simulate students' exam performance.\n",
    "\n",
    "After generating the exam_scores array, perform the following tasks:\n",
    "\n",
    "1.Calculate the average score for each student over the 10 exams.\n",
    "\n",
    "2.Calculate the standard deviation of scores for each student.\n",
    "\n",
    "3.Identify students who have consistently performed well, defined as those whose average score is above 85.\n",
    "\n",
    "4.Identify students who may need additional support, defined as those whose average score is below 50.\n",
    "\n",
    "Write code to create and populate the exam_scores array and then perform the specified statistical analysis and performance evaluation tasks on the data.\n",
    "\n",
    "\n",
    "\n"
   ]
  },
  {
   "cell_type": "code",
   "execution_count": 15,
   "metadata": {
    "colab": {
     "base_uri": "https://localhost:8080/"
    },
    "id": "F3p_SMeoiT2o",
    "outputId": "f03ba729-f2e7-457e-83ae-e3d8b22841cc"
   },
   "outputs": [
    {
     "name": "stdout",
     "output_type": "stream",
     "text": [
      "avg of each [78.4 83.7 73.1 87.3 84.3 69.3 81.4 75.6 86.3 65.2 71.7 73.2 68.7 71.6\n",
      " 76.9 70.5 71.5 75.  75.4 82.6 75.8 74.4 73.4 70.3 76.7 73.7 70.1 68.7\n",
      " 75.6 68.2]\n",
      "std of each [12.13424905 16.17436243 18.99710504 11.44595999 13.12288078 11.74776575\n",
      " 10.38460399 15.1142317  11.75627492 13.97712417 12.1        11.2409964\n",
      "  7.37631344 12.2490816  14.93619764 17.0425937  17.47140521 15.0797878\n",
      " 14.35409349 12.73734666 13.1362095  15.3244902  18.32048034 13.49851844\n",
      " 16.60150596 16.06891409 12.17743815 13.37198564 17.76063062 15.9298462 ]\n",
      "Index of students who performed well: [3 8]\n",
      "Numbers [[ 83  69  97  99  83  96  97  98  84  67]\n",
      " [ 91  86  92  78  78 100  84  59  98  97]]\n",
      "Index of students indices who may need additional support: []\n",
      "Numbers []\n"
     ]
    }
   ],
   "source": [
    "import numpy as np\n",
    "\n",
    "# Create the exam_scores array (30 students, 10 exams)\n",
    "num_students = 30\n",
    "num_exams = 10\n",
    "\n",
    "# Populate the exam_scores array with random scores between 50 and 100\n",
    "a = np.random.randint(50,101,(num_students,num_exams))\n",
    "#print(a)\n",
    "# 1. Calculate the average score for each student over the 10 exams\n",
    "avg=np.mean(a,axis=1)\n",
    "print(\"avg of each\",avg)\n",
    "# 2. Calculate the standard deviation of scores for each student\n",
    "print(\"std of each\",np.std(a,axis=1))\n",
    "# 3. Identify students who have consistently performed well (average score > 85)\n",
    "maskHigh=avg>85\n",
    "print(\"Index of students who performed well:\",np.where(maskHigh)[0])\n",
    "print(\"Numbers\",a[np.where(maskHigh)[0]])\n",
    "# 4. Identify students who may need additional support (average score < 60)\n",
    "mask=avg<60\n",
    "print(\"Index of students indices who may need additional support:\", np.where(mask)[0])\n",
    "print(\"Numbers\",a[np.where(mask)[0]])"
   ]
  },
  {
   "cell_type": "code",
   "execution_count": null,
   "metadata": {},
   "outputs": [],
   "source": []
  }
 ],
 "metadata": {
  "colab": {
   "provenance": []
  },
  "kernelspec": {
   "display_name": "Python 3 (ipykernel)",
   "language": "python",
   "name": "python3"
  },
  "language_info": {
   "codemirror_mode": {
    "name": "ipython",
    "version": 3
   },
   "file_extension": ".py",
   "mimetype": "text/x-python",
   "name": "python",
   "nbconvert_exporter": "python",
   "pygments_lexer": "ipython3",
   "version": "3.10.9"
  }
 },
 "nbformat": 4,
 "nbformat_minor": 1
}
