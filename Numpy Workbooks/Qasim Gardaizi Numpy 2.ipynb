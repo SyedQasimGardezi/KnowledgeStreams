{
 "cells": [
  {
   "cell_type": "markdown",
   "metadata": {
    "id": "YmwKgUrAkbfG"
   },
   "source": [
    "# Numpy Basics Exercises\n",
    "\n",
    "Please complete the following exercises **using numpy only**."
   ]
  },
  {
   "cell_type": "markdown",
   "metadata": {
    "id": "oWtZzrvXjxVl"
   },
   "source": [
    "# Array Broadcasting\n",
    "NumPy arrays of different dimensionality can be combined in the same expression. Arrays with smaller dimension are broadcasted to match the larger arrays, without copying data.\n",
    "\n",
    "Broadcasting has two rules.\n",
    "\n",
    "RULE 1: PREPEND ONES TO SMALLER ARRAY'S SHAPE\n",
    "\n",
    "RULE 2: DIMENSIONS OF SIZE 1 ARE REPEATED WITHOUT COPYING"
   ]
  },
  {
   "cell_type": "code",
   "execution_count": 2,
   "metadata": {
    "id": "7vrTvmEWjwtY"
   },
   "outputs": [],
   "source": [
    "import numpy as np"
   ]
  },
  {
   "cell_type": "code",
   "execution_count": 70,
   "metadata": {},
   "outputs": [
    {
     "name": "stdout",
     "output_type": "stream",
     "text": [
      "a.shape= (3, 5)\n",
      "b.shape= (1, 5)\n",
      "[[[1. 1. 1. 1. 1.]]]\n"
     ]
    }
   ],
   "source": [
    "# RULE 1: PREPEND ONES TO SMALLER ARRAY'S SHAPE\n",
    "a = np.ones((3, 5)) \n",
    "print(\"a.shape=\",a.shape)\n",
    "b = np.ones((5,)).reshape(1, 5)\n",
    "print(\"b.shape=\",b.shape)\n",
    "print(b[np.newaxis, :])"
   ]
  },
  {
   "cell_type": "code",
   "execution_count": 67,
   "metadata": {},
   "outputs": [
    {
     "name": "stdout",
     "output_type": "stream",
     "text": [
      "(3, 5) (1, 5)\n",
      "[[2. 2. 2. 2. 2.]\n",
      " [2. 2. 2. 2. 2.]\n",
      " [2. 2. 2. 2. 2.]]\n"
     ]
    }
   ],
   "source": [
    "# RULE 2: DIMENSIONS OF SIZE 1 ARE REPEATED WITHOUT COPYING\n",
    "c=a+b\n",
    "print(a.shape,b.shape)\n",
    "print(c)"
   ]
  },
  {
   "cell_type": "markdown",
   "metadata": {
    "id": "Qp9UkMByj5Il"
   },
   "source": [
    "1.Use reduce() operation on an array to reduec it into a single meaningful value. You. can also use a specific axis to apply reduce operation.\n",
    "\n",
    "2.accumulate() creates a new array containing the intermediate results of the reduce operation at each element in a.\n"
   ]
  },
  {
   "cell_type": "code",
   "execution_count": 71,
   "metadata": {
    "id": "nmLsvmTZj626"
   },
   "outputs": [
    {
     "name": "stdout",
     "output_type": "stream",
     "text": [
      "1. reduce() =  25\n",
      "2. accumulate() =  [ 1  4  9 16 25]\n"
     ]
    }
   ],
   "source": [
    "# 1. Use reduce()\n",
    "a = np.array([1,3,5,7,9])\n",
    "print(\"1. reduce() = \",np.add.reduce(a))\n",
    "\n",
    "#2. Use accumulate()\n",
    "print(\"2. accumulate() = \",np.add.accumulate(a))"
   ]
  },
  {
   "cell_type": "markdown",
   "metadata": {
    "id": "Oork_pTdXsin"
   },
   "source": [
    "### Create a 2-D array where the first row goes from 10 to 80 exclusive with steps of 5 and 2nd row goes from 5 to 47 exclusive with steps of 3"
   ]
  },
  {
   "cell_type": "code",
   "execution_count": 72,
   "metadata": {
    "id": "JJs0sRQ7YKgF"
   },
   "outputs": [
    {
     "data": {
      "text/plain": [
       "array([10, 15, 20, 25, 30, 35, 40, 45, 50, 55, 60, 65, 70, 75])"
      ]
     },
     "execution_count": 72,
     "metadata": {},
     "output_type": "execute_result"
    }
   ],
   "source": [
    "# Answer here\n",
    "one = np.arange(10,80,5)\n",
    "one"
   ]
  },
  {
   "cell_type": "code",
   "execution_count": 73,
   "metadata": {},
   "outputs": [
    {
     "data": {
      "text/plain": [
       "array([ 5,  8, 11, 14, 17, 20, 23, 26, 29, 32, 35, 38, 41, 44])"
      ]
     },
     "execution_count": 73,
     "metadata": {},
     "output_type": "execute_result"
    }
   ],
   "source": [
    "two = np.arange(5,47,3)\n",
    "two"
   ]
  },
  {
   "cell_type": "code",
   "execution_count": 77,
   "metadata": {},
   "outputs": [
    {
     "data": {
      "text/plain": [
       "array([[10, 15, 20, 25, 30, 35, 40, 45, 50, 55, 60, 65, 70, 75],\n",
       "       [ 5,  8, 11, 14, 17, 20, 23, 26, 29, 32, 35, 38, 41, 44]])"
      ]
     },
     "execution_count": 77,
     "metadata": {},
     "output_type": "execute_result"
    }
   ],
   "source": [
    "full = np.vstack((one,two))\n",
    "full"
   ]
  },
  {
   "cell_type": "markdown",
   "metadata": {
    "id": "eBGU-aEqYM16"
   },
   "source": [
    "### Now use indexing to select the 5th 7th and 11th columns"
   ]
  },
  {
   "cell_type": "code",
   "execution_count": 82,
   "metadata": {
    "id": "-xAT9OukYNKx"
   },
   "outputs": [
    {
     "data": {
      "text/plain": [
       "array([[30, 40, 60],\n",
       "       [17, 23, 35]])"
      ]
     },
     "execution_count": 82,
     "metadata": {},
     "output_type": "execute_result"
    }
   ],
   "source": [
    "# Answer here\n",
    "full[:,[4,6,10]]"
   ]
  },
  {
   "cell_type": "markdown",
   "metadata": {
    "id": "wu3J-12UZl2I"
   },
   "source": [
    "### Select the 2nd row and fourth-last to second-last columns"
   ]
  },
  {
   "cell_type": "code",
   "execution_count": 83,
   "metadata": {
    "id": "YPAaA_BKZl-N"
   },
   "outputs": [
    {
     "data": {
      "text/plain": [
       "array([[35, 38, 41]])"
      ]
     },
     "execution_count": 83,
     "metadata": {},
     "output_type": "execute_result"
    }
   ],
   "source": [
    "#Answer here\n",
    "full[[1],-4:-1]"
   ]
  },
  {
   "cell_type": "markdown",
   "metadata": {
    "id": "kCgDP3J_ZmF8"
   },
   "source": [
    "### Select 3rd to 3rd last columns skipping every second column"
   ]
  },
  {
   "cell_type": "code",
   "execution_count": 84,
   "metadata": {
    "id": "YqRY90S0ZmNW"
   },
   "outputs": [
    {
     "data": {
      "text/plain": [
       "array([[20, 25, 30, 35, 40, 45, 50, 55, 60, 65],\n",
       "       [11, 14, 17, 20, 23, 26, 29, 32, 35, 38]])"
      ]
     },
     "execution_count": 84,
     "metadata": {},
     "output_type": "execute_result"
    }
   ],
   "source": [
    "# Answer here\n",
    "full[:,2:-2]"
   ]
  },
  {
   "cell_type": "markdown",
   "metadata": {
    "id": "x21_4u7SZmUx"
   },
   "source": [
    "###  Select 3rd to 3rd last columns skipping every second column but in reverse order"
   ]
  },
  {
   "cell_type": "code",
   "execution_count": 88,
   "metadata": {
    "id": "oEQws0mAZmcU"
   },
   "outputs": [
    {
     "data": {
      "text/plain": [
       "array([[65, 55, 45, 35, 25],\n",
       "       [38, 32, 26, 20, 14]])"
      ]
     },
     "execution_count": 88,
     "metadata": {},
     "output_type": "execute_result"
    }
   ],
   "source": [
    "# Answer here\n",
    "full[:,-3:2:-2]"
   ]
  },
  {
   "cell_type": "markdown",
   "metadata": {
    "id": "bqVyb4DKZmkR"
   },
   "source": [
    "### We will work with the following array:"
   ]
  },
  {
   "cell_type": "code",
   "execution_count": 90,
   "metadata": {
    "colab": {
     "base_uri": "https://localhost:8080/"
    },
    "id": "Iz86eeTWZmsK",
    "outputId": "657f8c8d-0a3b-44b8-e0fe-6de9614c11c1"
   },
   "outputs": [
    {
     "data": {
      "text/plain": [
       "array([[ 0,  1,  2,  3,  4],\n",
       "       [ 5,  6,  7,  8,  9],\n",
       "       [10, 11, 12, 13, 14],\n",
       "       [15, 16, 17, 18, 19],\n",
       "       [20, 21, 22, 23, 24]])"
      ]
     },
     "execution_count": 90,
     "metadata": {},
     "output_type": "execute_result"
    }
   ],
   "source": [
    "a = np.arange(25).reshape(5, 5)\n",
    "a"
   ]
  },
  {
   "cell_type": "markdown",
   "metadata": {
    "id": "OdjK0hqobWGp"
   },
   "source": [
    "### Use slicing only to select 3rd and last row along with 2nd and last columns"
   ]
  },
  {
   "cell_type": "code",
   "execution_count": 91,
   "metadata": {
    "id": "-iw2ciaibUHU"
   },
   "outputs": [
    {
     "data": {
      "text/plain": [
       "array([[11, 14],\n",
       "       [21, 24]])"
      ]
     },
     "execution_count": 91,
     "metadata": {},
     "output_type": "execute_result"
    }
   ],
   "source": [
    "# Answer here\n",
    "a[2:5:2,1:6:3]"
   ]
  },
  {
   "cell_type": "markdown",
   "metadata": {
    "id": "5PtInLvEb7Am"
   },
   "source": [
    "### Extract the following sub-array: [[2, 3], [12, 13], [22, 23]]"
   ]
  },
  {
   "cell_type": "code",
   "execution_count": 92,
   "metadata": {
    "id": "lVi9eV2rb6hz"
   },
   "outputs": [
    {
     "data": {
      "text/plain": [
       "array([[ 2,  3],\n",
       "       [12, 13],\n",
       "       [22, 23]])"
      ]
     },
     "execution_count": 92,
     "metadata": {},
     "output_type": "execute_result"
    }
   ],
   "source": [
    "# Answer here\n",
    "a[::2,2:4]"
   ]
  },
  {
   "cell_type": "markdown",
   "metadata": {
    "id": "mHN-ADlNcRE7"
   },
   "source": [
    "### Combine fancy/location indexing with slicing to extract the following sub-array: [[6, 8], [16, 18], [21, 23]]"
   ]
  },
  {
   "cell_type": "code",
   "execution_count": 93,
   "metadata": {
    "id": "e_R0tbMHcNGy"
   },
   "outputs": [
    {
     "data": {
      "text/plain": [
       "array([[ 6,  8],\n",
       "       [16, 18],\n",
       "       [21, 23]])"
      ]
     },
     "execution_count": 93,
     "metadata": {},
     "output_type": "execute_result"
    }
   ],
   "source": [
    "# Answer here\n",
    "a[[1,3,4],1:-1:2]"
   ]
  },
  {
   "cell_type": "markdown",
   "metadata": {
    "id": "gRle44JLc8oL"
   },
   "source": [
    "### Change the values 1, 10, 19 and 22 in the array to -2"
   ]
  },
  {
   "cell_type": "code",
   "execution_count": 94,
   "metadata": {
    "id": "MnIs-SBzdMPv"
   },
   "outputs": [
    {
     "data": {
      "text/plain": [
       "array([[ 0, -2,  2,  3,  4],\n",
       "       [ 5,  6,  7,  8,  9],\n",
       "       [-2, 11, 12, 13, 14],\n",
       "       [15, 16, 17, 18, -2],\n",
       "       [20, 21, -2, 23, 24]])"
      ]
     },
     "execution_count": 94,
     "metadata": {},
     "output_type": "execute_result"
    }
   ],
   "source": [
    "# Answer\n",
    "mask=[1,10,19,22]\n",
    "indices=[0,2,3,4],[1,0,4,2]\n",
    "b=a[indices]\n",
    "a[indices]=-2\n",
    "a"
   ]
  },
  {
   "cell_type": "markdown",
   "metadata": {
    "id": "tWSQO5e3dZxf"
   },
   "source": [
    "### Repeat above using boolean indexing"
   ]
  },
  {
   "cell_type": "code",
   "execution_count": 95,
   "metadata": {
    "id": "zytB7nrMdYfT"
   },
   "outputs": [
    {
     "data": {
      "text/plain": [
       "array([[ 0, -2,  2,  3,  4],\n",
       "       [ 5,  6,  7,  8,  9],\n",
       "       [-2, 11, 12, 13, 14],\n",
       "       [15, 16, 17, 18, -2],\n",
       "       [20, 21, -2, 23, 24]])"
      ]
     },
     "execution_count": 95,
     "metadata": {},
     "output_type": "execute_result"
    }
   ],
   "source": [
    "# Answer here\n",
    "a = np.arange(25).reshape(5, 5)\n",
    "mask=np.array([[0,1,0,0,0],[0,0,0,0,0],[1,0,0,0,0],[0,0,0,0,1],[0,0,1,0,0]],dtype=bool)\n",
    "b=a[mask]\n",
    "a[mask]=-2\n",
    "a"
   ]
  },
  {
   "cell_type": "markdown",
   "metadata": {
    "id": "2i_7lkqpdhtx"
   },
   "source": [
    "### Combine slicing in the column dimension and boolean indexing in row dimension to extract the following sub-array: [[0, 3], [10, 13], [15, 18]]"
   ]
  },
  {
   "cell_type": "code",
   "execution_count": 96,
   "metadata": {
    "id": "O8683ef2dYng"
   },
   "outputs": [
    {
     "data": {
      "text/plain": [
       "array([[ 0,  3],\n",
       "       [10, 13],\n",
       "       [15, 18]])"
      ]
     },
     "execution_count": 96,
     "metadata": {},
     "output_type": "execute_result"
    }
   ],
   "source": [
    "# Answer here\n",
    "a = np.arange(25).reshape(5, 5)\n",
    "rows = a[[0,2,3],0:4:3]\n",
    "rows"
   ]
  },
  {
   "cell_type": "markdown",
   "metadata": {
    "id": "BLH29N-KLDEJ"
   },
   "source": [
    "### Calculating the sum, min and max of all diagonal values"
   ]
  },
  {
   "cell_type": "code",
   "execution_count": 97,
   "metadata": {
    "id": "ARzj6VP9LCPz"
   },
   "outputs": [
    {
     "name": "stdout",
     "output_type": "stream",
     "text": [
      "[[ 0  1  2  3  4]\n",
      " [ 5  6  7  8  9]\n",
      " [10 11 12 13 14]\n",
      " [15 16 17 18 19]\n",
      " [20 21 22 23 24]]\n",
      "Sum =  60\n",
      "Min =  0\n",
      "Max =  24\n"
     ]
    }
   ],
   "source": [
    "# Answer here\n",
    "print(a)\n",
    "print(\"Sum = \",np.sum(np.diagonal(a)))\n",
    "print(\"Min = \",np.min(np.diagonal(a)))\n",
    "print(\"Max = \",np.max(np.diagonal(a)))"
   ]
  },
  {
   "cell_type": "markdown",
   "metadata": {
    "id": "IIL3aHfpMQpr"
   },
   "source": [
    "### Calculate the sum of differences between the 2nd row and 2nd last column"
   ]
  },
  {
   "cell_type": "code",
   "execution_count": 98,
   "metadata": {
    "id": "mNyxI8d0Mcvz"
   },
   "outputs": [
    {
     "name": "stdout",
     "output_type": "stream",
     "text": [
      "2nd row - 2nd last column:  [  2  -2  -6 -10 -14]\n",
      "total:  -30\n"
     ]
    }
   ],
   "source": [
    "# Answer here\n",
    "sum = a[1]-a[:,-2]\n",
    "print(\"2nd row - 2nd last column: \",sum)\n",
    "total=np.sum(sum)\n",
    "print(\"total: \",total)"
   ]
  },
  {
   "cell_type": "markdown",
   "metadata": {
    "id": "jEo7E6YNNIU5"
   },
   "source": [
    "### Create a new array that is the sum of even rows and odd rows"
   ]
  },
  {
   "cell_type": "code",
   "execution_count": 99,
   "metadata": {
    "id": "UEwbxwAPNikT"
   },
   "outputs": [
    {
     "data": {
      "text/plain": [
       "array([[15, 17, 19, 21, 23],\n",
       "       [35, 37, 39, 41, 43]])"
      ]
     },
     "execution_count": 99,
     "metadata": {},
     "output_type": "execute_result"
    }
   ],
   "source": [
    "# Answer here\n",
    "evenIndices=[2,4]\n",
    "oddIndices=[1,3]\n",
    "sum = a[evenIndices]+a[oddIndices]\n",
    "sum"
   ]
  },
  {
   "cell_type": "markdown",
   "metadata": {
    "id": "TaKXFf_5d67q"
   },
   "source": [
    "## You are done. Good job!"
   ]
  },
  {
   "cell_type": "code",
   "execution_count": null,
   "metadata": {
    "id": "PwdTR28zd6Ji"
   },
   "outputs": [],
   "source": []
  }
 ],
 "metadata": {
  "colab": {
   "provenance": []
  },
  "kernelspec": {
   "display_name": "Python 3 (ipykernel)",
   "language": "python",
   "name": "python3"
  },
  "language_info": {
   "codemirror_mode": {
    "name": "ipython",
    "version": 3
   },
   "file_extension": ".py",
   "mimetype": "text/x-python",
   "name": "python",
   "nbconvert_exporter": "python",
   "pygments_lexer": "ipython3",
   "version": "3.10.9"
  }
 },
 "nbformat": 4,
 "nbformat_minor": 4
}
